{
 "cells": [
  {
   "cell_type": "markdown",
   "id": "374c20bb-4eb0-4f01-9206-74389ca0d576",
   "metadata": {},
   "source": [
    "# Generation of the syntheric reviews data for other product categories"
   ]
  },
  {
   "cell_type": "markdown",
   "id": "43566700-3db8-49f7-a070-9e02a0fef35e",
   "metadata": {},
   "source": [
    "**DISCLAIMER:** This notebook is an extension of the synthetic product reviews generation for products in [Electronics](./01-synthetic-data-electronics.ipynb) and [Jewelry](./02-synthetic-data-jewelry.ipynb) to 18 other product categories. The data for these categories does not follow any temporary trends and there are no relationships between the variables. This data shouldn't be used for data science projects as it doesn't have any meaningful patterns (or these patterns are random or occidental). However, this dataset is sufficiently large to demonstrate 'big data' capabilities of services, databases and query engines.\n",
    "\n",
    "We generate the synthetic data for the following product categories:\n",
    "\n",
    "- Automotive\n",
    "- Home_Kitchen\n",
    "- Beauty_Personal_Care\n",
    "- Apparel\n",
    "- Video_Games\n",
    "- Toys_Games\n",
    "- Office_Products\n",
    "- Pet_Supplies\n",
    "- Sports_Outdoors\n",
    "- Tools_Home_Improvement\n",
    "- Garden_Outdoor\n",
    "- Arts_Crafts_Sewing\n",
    "- Health_Household\n",
    "- Computers\n",
    "- Books\n",
    "- Music\n",
    "- Movies_TV\n",
    "- Grocery_Gourment_Food \n",
    "\n",
    "Product titles in the majority of cases were generated using prompts to Anthropic's Claude v3 Sonnet model using Amazon Bedrock. These prompts are recorded.\n",
    "\n",
    "Review titles and bodies have been generated separately using a helper function `review_generation_helpers.generate_review_headline_body()`. These were saved in an Amazon S3 bucket and subsequently read back to augment the data for each product category. \n",
    "\n",
    "The final size of the synthetic data is approximately 130 million rows. \n",
    "\n",
    "The dataset resides in the public S3 bucket: `s3://aws-bigdata-blog/generated_synthetic_reviews/data/` as parquet files partitioned by product_category as listed above.\n",
    "\n",
    "License: CC-BY-4.0\n",
    "\n",
    "Install [awswrangler](https://aws-sdk-pandas.readthedocs.io/en/stable/) and [essential_generators](https://pypi.org/project/essential-generators/):"
   ]
  },
  {
   "cell_type": "code",
   "execution_count": null,
   "id": "d071f7e1",
   "metadata": {},
   "outputs": [],
   "source": [
    "!python3 -m pip install awswrangler==3.7.2\n",
    "!python3 -m pip install essential_generators==1.0"
   ]
  },
  {
   "cell_type": "code",
   "execution_count": null,
   "id": "1f91bdd1-446c-4049-b51d-cd22cb6ea934",
   "metadata": {
    "tags": []
   },
   "outputs": [],
   "source": [
    "import pandas as pd\n",
    "import numpy as np\n",
    "\n",
    "# custom module: review_generation_helpers.py\n",
    "import review_generation_helpers as rgh\n",
    "\n",
    "import awswrangler as wr"
   ]
  },
  {
   "cell_type": "code",
   "execution_count": null,
   "id": "4f89a04f",
   "metadata": {},
   "outputs": [],
   "source": [
    "# private backet with review titles and bodies\n",
    "s3_bucket_text = <s3://PRIVATE-S3-BUCKET>\n",
    "s3_bucket_output = <s3://BUCKET-NAME>"
   ]
  },
  {
   "cell_type": "markdown",
   "id": "061ca488-f6e7-4019-abc4-4a5eed98ac41",
   "metadata": {},
   "source": [
    "## Automotive"
   ]
  },
  {
   "cell_type": "markdown",
   "id": "9e09c4f6-170a-4482-ba15-a6c1ed2c4983",
   "metadata": {
    "tags": []
   },
   "source": [
    "Prompt to Claude v3 Sonnet: \"Generate 50 products related to automotive. Provide the output as a comma separated list, surround each word in single quotes, each word as lower case, each word is singular.\""
   ]
  },
  {
   "cell_type": "code",
   "execution_count": null,
   "id": "315e6551-27c2-41b9-8954-f53ba1d7e9c0",
   "metadata": {
    "tags": []
   },
   "outputs": [],
   "source": [
    "product_pool = ['tire', 'battery', 'engine', 'headlight', 'wiper', 'brake', 'muffler', 'mirror', 'radiator', \n",
    "                       'alternator', 'spark', 'plug', 'filter', 'bearing', 'belt', 'fuse', 'sensor', 'gasket', 'hose', \n",
    "                       'pump', 'piston', 'caliper', 'rotor', 'suspension', 'strut', 'bushing', 'control', 'arm', 'axle', \n",
    "                       'driveshaft', 'differential', 'transmission', 'clutch', 'flywheel', 'starter', 'ignition', 'coil', \n",
    "                       'distributor', 'carburetor', 'injector', 'valve', 'cylinder', 'turbocharger', 'supercharger', \n",
    "                       'catalytic', 'converter', 'manifold', 'thermostat', 'compressor']"
   ]
  },
  {
   "cell_type": "markdown",
   "id": "17a9d72e-92cc-4edb-8981-61b76a9b9045",
   "metadata": {},
   "source": [
    "Prompt to Claude v3 Sonnet: \"Generate 50 automotive product characteristics. Each word must be an adjective. Provide the output as a comma separated list, surround each word in single quotes, each word as lower case, each word is singular.\""
   ]
  },
  {
   "cell_type": "code",
   "execution_count": null,
   "id": "502c29f9-6ddb-436f-9c08-505ec13b4b17",
   "metadata": {
    "tags": []
   },
   "outputs": [],
   "source": [
    "product_prefix_pool = ['durable', 'efficient', 'powerful', 'sleek', 'sophisticated', 'innovative', \n",
    "                              'eco-friendly', 'luxurious', 'sporty', 'advanced', 'spacious', 'versatile', 'ergonomic', \n",
    "                              'aerodynamic', 'stylish', 'comfortable', 'responsive', 'intuitive', 'intelligent', \n",
    "                              'rugged', 'agile', 'dynamic', 'premium', 'reliable', 'sturdy', 'silent', 'smooth', \n",
    "                              'swift', 'elegant', 'secure', 'customizable', 'futuristic', 'energy-efficient', \n",
    "                              'performance-oriented', 'technologically-advanced', 'user-friendly', \n",
    "                              'environmentally-conscious', 'cutting-edge', 'safety-focused', 'connected', \n",
    "                              'automated', 'handy', 'compact', 'maneuverable', 'sustainable', 'adaptable', 'refined', \n",
    "                              'robust', 'smart']"
   ]
  },
  {
   "cell_type": "code",
   "execution_count": null,
   "id": "a210b459-f131-4e5f-bd16-d0a8d2690045",
   "metadata": {
    "tags": []
   },
   "outputs": [],
   "source": [
    "# author generated\n",
    "product_suffix_pool = [\"foldable\", \"collapsible\", \"expandable\", \"with slogans\", \"new\", \"refurbished\", \"replacement\", \"12x\",\n",
    "                      \"new in box\", \"with dividers\", \"large capacity\", \"rechargeable\", \"for the trunk\", \"extra-large\", \"compact\", \n",
    "                      \"4x\", \"for pets\", \"against pets\", \"for cars and homes\", \"for the roof\", \"for the interior\", \"with automatic sensor\", \n",
    "                      \"high performance\", \"with charger\", \"with mirror\", \"with aerodinamic features\", \"secure\", \"with app\",\n",
    "                      '2 years warranty']"
   ]
  },
  {
   "cell_type": "code",
   "execution_count": null,
   "id": "8c810186-8076-4bff-ac3d-b20b5d7ecb90",
   "metadata": {
    "tags": []
   },
   "outputs": [],
   "source": [
    "dat = rgh.create_dataset(size_factor = 3, \n",
    "                   total_votes = np.arange(0, 65, 5),\n",
    "                   helpful_votes = np.arange(0, 32), \n",
    "                   scale = 1, \n",
    "                   review_years = np.arange(1996, 2017), \n",
    "                   product_category = 'Automotive', \n",
    "                   product_components = [product_prefix_pool, product_pool, product_suffix_pool],\n",
    "                   marketplace_factor = 0.8)"
   ]
  },
  {
   "cell_type": "code",
   "execution_count": null,
   "id": "362a8e77-7f8a-41b5-abc7-885f43e0b09f",
   "metadata": {
    "tags": []
   },
   "outputs": [],
   "source": [
    "reviews = pd.read_parquet(s3_bucket_text + \n",
    "                          '/review_body_headline/10d7317906cf4aa6845a8d7d66b0c651_0.snappy.parquet')"
   ]
  },
  {
   "cell_type": "code",
   "execution_count": null,
   "id": "df77683d-ced3-4df4-b185-3f39f980a155",
   "metadata": {
    "tags": []
   },
   "outputs": [],
   "source": [
    "dat[\"review_headline\"] = reviews.iloc[0:dat.shape[0]][\"review_headline\"].array\n",
    "dat[\"review_body\"] = reviews.iloc[0:dat.shape[0]][\"review_body\"].array"
   ]
  },
  {
   "cell_type": "code",
   "execution_count": null,
   "id": "2dd92b6c-d6b0-4d57-a8a5-d6ff28748364",
   "metadata": {
    "tags": []
   },
   "outputs": [],
   "source": [
    "wr.s3.to_parquet(\n",
    "    df = dat[[\"product_category\", \"marketplace\", \"customer_id\", \"review_id\", \"product_id\", \"product_title\", \"star_rating\",\n",
    "            \"helpful_votes\", \"total_votes\", \"insight\", \"review_headline\", \"review_body\", \"review_date\", \"review_year\"]],\n",
    "    path = s3_bucket_output,\n",
    "    dataset = True,\n",
    "    max_rows_by_file = 3000000,\n",
    "    partition_cols=['product_category']\n",
    ")"
   ]
  },
  {
   "cell_type": "markdown",
   "id": "35ac2825-ac79-4059-83fa-e3e99b4ada69",
   "metadata": {},
   "source": [
    "## Home_Kitchen\n",
    "\n",
    "Prompt: \"Generate 50 products related to home and kitchen. Provide the output as a comma separated list, \n",
    "surround each word in single quotes, each word as lower case, each word is singular.\""
   ]
  },
  {
   "cell_type": "code",
   "execution_count": null,
   "id": "a0087e37-4006-49d1-8b78-c3c61b844ded",
   "metadata": {
    "tags": []
   },
   "outputs": [],
   "source": [
    "product_pool = ['blender', 'saucepan', 'oven', 'spatula', 'chopping board', 'kettle', 'toaster', 'microwave', 'refrigerator',\n",
    "                       'dishwasher', 'coffee maker', 'food processor', 'mixer', 'frying pan', 'baking tray', 'pressure cooker', \n",
    "                       'slow cooker', 'knife set', 'cutting board', 'peeler', 'grater', 'strainer', 'whisk', 'ladle', 'tongs', \n",
    "                       'dish rack', 'oven mitt', 'kitchen towel', 'apron', 'trash can', 'storage container', 'jar', 'bottle', \n",
    "                       'bowl', 'plate', 'cup', 'glass', 'mug', 'fork', 'knife', 'spoon', 'napkin', 'coaster', 'placemat', \n",
    "                       'tablecloth', 'vase', 'candle holder', 'centerpiece']"
   ]
  },
  {
   "cell_type": "markdown",
   "id": "353f4d23-d25c-4711-9b50-966f545f8a7e",
   "metadata": {},
   "source": [
    "Prompt: \"Generate 50 home and kitchen product characteristics. Each word must be an adjective. Provide the output as a comma separated list, surround each word in single quotes, each word as lower case, each word is singular.\""
   ]
  },
  {
   "cell_type": "code",
   "execution_count": null,
   "id": "1b353505-1d11-4258-8fc9-ed2dc82e4587",
   "metadata": {
    "tags": []
   },
   "outputs": [],
   "source": [
    "product_prefix_pool = ['durable', 'efficient', 'sleek', 'versatile', 'ergonomic', 'eco-friendly', 'compact', 'multifunctional', 'innovative', \n",
    "                         'stylish', 'user-friendly', 'dishwasher-safe', 'energy-saving', 'non-stick', 'portable', 'stainless', 'cordless', \n",
    "                         'rust-resistant', 'powerful', 'quiet', 'programmable', 'decorative', 'adjustable', 'insulated', 'collapsible', \n",
    "                         'lightweight', 'lockable', 'spill-proof', 'automated', 'hygienic', 'microwave-safe', 'retractable', 'wireless', \n",
    "                         'leak-proof', 'robust', 'customizable', 'washable', 'scratch-resistant', 'biodegradable', 'tamper-proof', \n",
    "                         'heat-resistant', 'space-saving', 'child-proof', 'soundproof', 'breathable', 'waterproof', 'odor-free', 'shatterproof']"
   ]
  },
  {
   "cell_type": "code",
   "execution_count": null,
   "id": "39c0a1bf-052b-4dfa-a887-7dde4c015296",
   "metadata": {
    "tags": []
   },
   "outputs": [],
   "source": [
    "# author generated\n",
    "product_suffix_pool = [\"a perfect gift\", \"santa's little helper\", \"with cord storage\", \"with beautiful print\",\n",
    "                  \"for a beautiful home\", \"for a well-appointed kitchen\", \"long-lasting\", \"with ergonimic handle\", \"latest model\",\n",
    "                  \"quick ship\", \"set of 12\", '2 years warranty', '1 year warranty']"
   ]
  },
  {
   "cell_type": "code",
   "execution_count": null,
   "id": "7cd92406-1c5a-4972-a167-f7ad6272eb9a",
   "metadata": {
    "tags": []
   },
   "outputs": [],
   "source": [
    "dat = rgh.create_dataset(size_factor = 3, \n",
    "                   total_votes = np.arange(0, 100, 2),\n",
    "                   helpful_votes = np.arange(0, 52), \n",
    "                   scale = 0.7, \n",
    "                   review_years = np.arange(1997, 2018), \n",
    "                   product_category = 'Home_Kitchen', \n",
    "                   product_components = [product_prefix_pool, product_pool, product_suffix_pool],\n",
    "                   marketplace_factor = 1)"
   ]
  },
  {
   "cell_type": "code",
   "execution_count": null,
   "id": "b492f5d1-d52f-4e8e-917c-cfc0874b64da",
   "metadata": {
    "tags": []
   },
   "outputs": [],
   "source": [
    "reviews = pd.read_parquet(s3_bucket_text+\n",
    "                          '/review_body_headline/10d7317906cf4aa6845a8d7d66b0c651_1.snappy.parquet')"
   ]
  },
  {
   "cell_type": "code",
   "execution_count": null,
   "id": "3606843c-c7a2-41fe-9fec-7f880f93ae99",
   "metadata": {
    "tags": []
   },
   "outputs": [],
   "source": [
    "dat[\"review_headline\"] = reviews.iloc[0:dat.shape[0]][\"review_headline\"].array\n",
    "dat[\"review_body\"] = reviews.iloc[0:dat.shape[0]][\"review_body\"].array"
   ]
  },
  {
   "cell_type": "code",
   "execution_count": null,
   "id": "65747f3d-bf6c-4d7d-a1bf-de7451f785e2",
   "metadata": {
    "tags": []
   },
   "outputs": [],
   "source": [
    "wr.s3.to_parquet(\n",
    "    df = dat[[\"product_category\", \"marketplace\", \"customer_id\", \"review_id\", \"product_id\", \"product_title\", \"star_rating\",\n",
    "            \"helpful_votes\", \"total_votes\", \"insight\", \"review_headline\", \"review_body\", \"review_date\", \"review_year\"]],\n",
    "    path = s3_bucket_output,\n",
    "    dataset = True,\n",
    "    max_rows_by_file = 3000000,\n",
    "    partition_cols = ['product_category']\n",
    ")"
   ]
  },
  {
   "cell_type": "markdown",
   "id": "8cd907f2-c708-429f-9077-45556c0d252c",
   "metadata": {},
   "source": [
    "## Beauty_Personal_Care\n",
    "\n",
    "Prompt: \"Generate 50 products related to beauty and personal care. Provide the output as a comma separated list, \n",
    "surround each word in single quotes, each word as lower case, each word is singular.\""
   ]
  },
  {
   "cell_type": "code",
   "execution_count": null,
   "id": "0ef64daf-9ad1-46ee-b25d-84068e5d586a",
   "metadata": {
    "tags": []
   },
   "outputs": [],
   "source": [
    "product_pool = ['lipstick', 'mascara', 'eyeliner', 'foundation', 'concealer', 'blush', 'bronzer', 'highlighter', \n",
    "                       'eyeshadow', 'lip gloss', 'lip balm', 'face powder', 'face serum', 'face cream', 'face mask', \n",
    "                       'face scrub', 'face toner', 'face cleanser', 'body lotion', 'body butter', 'body scrub', \n",
    "                       'body wash', 'shampoo', 'conditioner', 'hair oil', 'hair serum', 'hair spray', 'hair gel', \n",
    "                       'hair mousse', 'hair dye', 'nail polish', 'nail polish remover', 'nail file', 'nail clipper', \n",
    "                       'tweezers', 'razor', 'shaving cream', 'aftershave', 'deodorant', 'perfume', 'cologne', 'bath bomb', \n",
    "                       'bath salt', 'loofah', 'toothbrush', 'toothpaste', 'mouthwash', 'floss']"
   ]
  },
  {
   "cell_type": "markdown",
   "id": "164fd28e-0a33-43c9-9512-c2b80d6ec4f4",
   "metadata": {},
   "source": [
    "Prompt: \"Generate 50 beauty and personal care product characteristics. Each word must be an adjective. Provide the output as a comma separated list, surround each word in single quotes, each word as lower case, each word is singular\""
   ]
  },
  {
   "cell_type": "code",
   "execution_count": null,
   "id": "462c6163-e0e7-4279-874c-57469b6c5fad",
   "metadata": {
    "tags": []
   },
   "outputs": [],
   "source": [
    "product_prefix_pool = ['radiant', 'nourishing', 'rejuvenating', 'silky', 'luminous', 'hydrating', 'soothing', \n",
    "                         'revitalizing', 'purifying', 'luxurious', 'anti-aging', 'botanical', 'gentle', 'organic', \n",
    "                         'natural', 'enriching', 'firming', 'smoothing', 'antioxidant', 'protecting', 'repairing', \n",
    "                         'clarifying', 'refining', 'toning', 'balancing', 'reviving', 'energizing', 'brightening', \n",
    "                         'lifting', 'anti-wrinkle', 'moisturizing', 'detoxifying', 'invigorating', 'regenerating', \n",
    "                         'refreshing', 'softening', 'volumizing', 'conditioning', 'replenishing', 'soothing', 'illuminating', \n",
    "                         'mattifying', 'nurturing', 'therapeutic', 'pampering', 'calming', 'vitalizing', 'renewing', 'polishing']"
   ]
  },
  {
   "cell_type": "code",
   "execution_count": null,
   "id": "9ec5ea3f-f328-4b18-bc05-7f7d44b18ea4",
   "metadata": {
    "tags": []
   },
   "outputs": [],
   "source": [
    "# author generated\n",
    "product_suffix_pool = [\"in renewable packaging\", \"in recyclable packaging\", \"two-pack\", \"for the whole family\", \"good for sensitive skin\",\n",
    "                        \"appropriate for all skin types\", \"16oz jar\", \"8oz jar\", \"200 ml\", \"appropriate for any skin tone\", \"appropriate for any hair type\",\n",
    "                        \"gentle smell\", \"no aritificial components\", \"no artifical colors\", \"no artifical fragrances\", \"refreshing aroma\", \"refreshing smell\", \n",
    "                        \"long-lasting\"]"
   ]
  },
  {
   "cell_type": "code",
   "execution_count": null,
   "id": "1ae050a1-2ed5-433b-898b-80c58068d5bf",
   "metadata": {
    "tags": []
   },
   "outputs": [],
   "source": [
    "dat = rgh.create_dataset(size_factor = 1, \n",
    "                   total_votes = np.arange(0, 150),\n",
    "                   helpful_votes = np.arange(0, 60), \n",
    "                   scale = 0.5, \n",
    "                   review_years = np.arange(1998, 2015), \n",
    "                   product_category = 'Beauty_Personal_Care', \n",
    "                   product_components = [product_prefix_pool, product_pool, product_suffix_pool],\n",
    "                   marketplace_factor = 0.5)"
   ]
  },
  {
   "cell_type": "code",
   "execution_count": null,
   "id": "ba2a1837-43be-4bd9-aed2-b15a80b5bedf",
   "metadata": {
    "tags": []
   },
   "outputs": [],
   "source": [
    "reviews = pd.read_parquet(s3_bucket_text + \n",
    "                          '/review_body_headline/10d7317906cf4aa6845a8d7d66b0c651_2.snappy.parquet')"
   ]
  },
  {
   "cell_type": "code",
   "execution_count": null,
   "id": "d7ff9274-2d5c-4702-bcfd-589015e1b2dc",
   "metadata": {
    "tags": []
   },
   "outputs": [],
   "source": [
    "row_marker = dat.shape[0]\n",
    "row_marker"
   ]
  },
  {
   "cell_type": "code",
   "execution_count": null,
   "id": "42af9241-d2dc-4c18-8807-a0030ca5790f",
   "metadata": {
    "tags": []
   },
   "outputs": [],
   "source": [
    "dat[\"review_headline\"] = reviews.iloc[0:dat.shape[0]][\"review_headline\"].array\n",
    "dat[\"review_body\"] = reviews.iloc[0:dat.shape[0]][\"review_body\"].array"
   ]
  },
  {
   "cell_type": "code",
   "execution_count": null,
   "id": "7058c397-c027-451e-92d5-37f2c32cbb28",
   "metadata": {
    "tags": []
   },
   "outputs": [],
   "source": [
    "wr.s3.to_parquet(\n",
    "    df = dat[[\"product_category\", \"marketplace\", \"customer_id\", \"review_id\", \"product_id\", \"product_title\", \"star_rating\",\n",
    "            \"helpful_votes\", \"total_votes\", \"insight\", \"review_headline\", \"review_body\", \"review_date\", \"review_year\"]],\n",
    "    path = s3_bucket_output,\n",
    "    dataset = True,\n",
    "    max_rows_by_file = 3000000,\n",
    "    partition_cols = ['product_category']\n",
    ")"
   ]
  },
  {
   "cell_type": "markdown",
   "id": "94f530e4-6b08-40cf-8743-c6f2dd5dc9d7",
   "metadata": {},
   "source": [
    "## Apparel\n",
    "\n",
    "Prompt: \"Generate 50 apparel items. Provide the output as a comma separated list, \n",
    "surround each word in single quotes, each word as lower case, each word is singular.\""
   ]
  },
  {
   "cell_type": "code",
   "execution_count": null,
   "id": "6dae3276-ec7e-438f-9f9f-b8ce0ba5bcb0",
   "metadata": {
    "tags": []
   },
   "outputs": [],
   "source": [
    "product_pool = ['shirt', 'blouse', 'dress', 'skirt', 'pants', 'jeans', 'shorts', 'jacket', 'coat', 'sweater', \n",
    "                       'cardigan', 'vest', 't-shirt', 'tank', 'camisole', 'hoodie', 'sweatshirt', 'blazer', 'suit', \n",
    "                       'robe', 'gown', 'jumpsuit', 'romper', 'leggings', 'tights', 'stockings', 'socks', 'shoes', 'boots', \n",
    "                       'sandals', 'slippers', 'flip-flops', 'sneakers', 'heels', 'flats', 'hat', 'cap', 'beanie', 'scarf', \n",
    "                       'gloves', 'mittens', 'belt', 'tie', 'bowtie', 'necklace', 'bracelet', 'ring', 'earrings', 'watch']"
   ]
  },
  {
   "cell_type": "markdown",
   "id": "66397589-e07f-45a3-b24f-6e873ae19928",
   "metadata": {},
   "source": [
    "Prompt: \"Generate 50 apparel characteristics. Provide the output as a comma separated list, surround each word in single quotes, each word as lower case, each word is singular\". The author then provided modifications."
   ]
  },
  {
   "cell_type": "code",
   "execution_count": null,
   "id": "78b22ffd-8248-496e-8440-9ae5782aefeb",
   "metadata": {
    "tags": []
   },
   "outputs": [],
   "source": [
    "product_prefix_pool = ['multi-colored', 'modern pattern', 'pleasing texture', 'made with natural materials', \n",
    "                           'modern fit for men and women', 'in the latest style', \n",
    "                           'floor length', 'short sleeve', 'long-sleeve', 'flat collar', 'no collar', 'round neckline', \n",
    "                           'with embellishmenst', 'slimming silhouette', 'in fun prints!', 'heavy weight fabric', 'long lasting material',\n",
    "                           'drape', 'sheerness', 'stretch', 'opacity', 'high breathability',\n",
    "                           'very washabile fabric', 'with wrinkle-resistantant properties', 'insulation for low temperatures', \n",
    "                           'moisture-wicking', 'odor-resistance in any circumstances', 'sun-protection', 'warm and cozy', \n",
    "                           'unbelievable softness', 'with high sheen', 'shimmering fabric', 'matte fabric', 'shiny fabric', 'rugged construction', \n",
    "                           'with delicate lace', 'casual and comfy style', 'business formal', 'vintage', 'contemporary', \n",
    "                           'classic style', 'trendy lines', 'feminine or masculine']"
   ]
  },
  {
   "cell_type": "markdown",
   "id": "ed2b76f4-ca49-4ba4-9e0b-0955424bc044",
   "metadata": {},
   "source": [
    "Prompt for the suffixes: \"Generate 50 apparel characteristics. Each word must be an adjective. Provide the output as a comma separated list, surround each word in single quotes, each word as lower case, each word is singular\"."
   ]
  },
  {
   "cell_type": "code",
   "execution_count": null,
   "id": "e0685c13-16da-43fe-b2f9-2010246ffdcc",
   "metadata": {
    "tags": []
   },
   "outputs": [],
   "source": [
    "product_suffix_pool = ['slim','sleek','loose','baggy','tight','flowy','sheer','opaque','vibrant','muted','patterned','solid',\n",
    "                         'striped','polka-dotted','floral','abstract','plain','faded','distressed','embroidered','sequined',\n",
    "                         'beaded','fringed','pleated','ruffled','belted','layered','oversized','cropped','cinched','tapered',\n",
    "                         'asymmetric','structured','draped','knitted','woven','lace','mesh','crocheted','denim','leather','suede',\n",
    "                         'satin','silk','cotton','linen']"
   ]
  },
  {
   "cell_type": "code",
   "execution_count": null,
   "id": "a20067e7-b440-4be4-91c3-975b91a4451d",
   "metadata": {
    "tags": []
   },
   "outputs": [],
   "source": [
    "dat = rgh.create_dataset(size_factor = 2, \n",
    "                   total_votes = np.arange(0, 40),\n",
    "                   helpful_votes = np.arange(0, 38), \n",
    "                   scale = 0.9, \n",
    "                   review_years = np.arange(2000, 2017), \n",
    "                   product_category = 'Apparel', \n",
    "                   product_components = [product_prefix_pool, product_pool, product_suffix_pool],\n",
    "                   marketplace_factor = 1)"
   ]
  },
  {
   "cell_type": "markdown",
   "id": "7938ff71-fc26-4b87-ab89-c71c13e18a8a",
   "metadata": {},
   "source": [
    "Use remaining rows from the last reviews file:"
   ]
  },
  {
   "cell_type": "code",
   "execution_count": null,
   "id": "a437e953-587c-4754-9e9e-40acc40e082d",
   "metadata": {
    "tags": []
   },
   "outputs": [],
   "source": [
    "dat[\"review_headline\"] = reviews.iloc[row_marker:(row_marker + dat.shape[0])][\"review_headline\"].array\n",
    "dat[\"review_body\"] = reviews.iloc[row_marker:(row_marker + dat.shape[0])][\"review_body\"].array"
   ]
  },
  {
   "cell_type": "code",
   "execution_count": null,
   "id": "dc4dfae7-c0ea-4acd-a1e4-2918f3e996b2",
   "metadata": {
    "tags": []
   },
   "outputs": [],
   "source": [
    "wr.s3.to_parquet(\n",
    "    df = dat[[\"product_category\", \"marketplace\", \"customer_id\", \"review_id\", \"product_id\", \"product_title\", \"star_rating\",\n",
    "            \"helpful_votes\", \"total_votes\", \"insight\", \"review_headline\", \"review_body\", \"review_date\", \"review_year\"]],\n",
    "    path = s3_bucket_output,\n",
    "    dataset = True,\n",
    "    max_rows_by_file = 3000000,\n",
    "    partition_cols = ['product_category']\n",
    ")"
   ]
  },
  {
   "cell_type": "markdown",
   "id": "dfcf9488-c122-4832-8023-ae59e777f212",
   "metadata": {},
   "source": [
    "## Video_Games"
   ]
  },
  {
   "cell_type": "markdown",
   "id": "4a5ae0e9-589f-47e3-9aeb-4463bffd0c38",
   "metadata": {},
   "source": [
    "Prompt: \"Generate 50 products related to video games. Provide the output as a comma separated list, surround each word in single quotes, each word as lower case, each word is singular\". The author then provided modifications."
   ]
  },
  {
   "cell_type": "code",
   "execution_count": null,
   "id": "4682f240-04df-4845-a0ca-22970357cac9",
   "metadata": {
    "tags": []
   },
   "outputs": [],
   "source": [
    "product_pool = ['video game', 'game controller', 'console', 'controller', 'joystick', 'headset', 'mouse', 'keyboard', 'monitor', \n",
    "                'speaker', 'microphone', 'webcam', 'chair', 'desk', 'laptop', 'graphics card', 'memory card', 'processor', \n",
    "                'motherboard', 'memory', 'storage', 'hard-drive', 'drive', 'power', 'supply', 'cooling fan', 'fan', 'case', \n",
    "                'accessory', 'cable', 'software', 'antivirus protection', 'antivirus software', 'firewall', 'peripheral', 'printer', \n",
    "                'scanner', 'platform', 'lighting', 'lamp', 'touch panel', 'headphones', 'docking station',\n",
    "                'subscription service', 'merchandise', 'figurine', 'plushie', 'apparel', 'poster', 'book', 'guide', 'walkthrough sheet', \n",
    "                'strategy walkthrough', 'cheat-sheet', 'fidget spinner', 'sweatband']"
   ]
  },
  {
   "cell_type": "code",
   "execution_count": null,
   "id": "6470d623-3804-43bf-94b1-0d01a9482fe1",
   "metadata": {
    "tags": []
   },
   "outputs": [],
   "source": [
    "product_prefix_pool = ['ergonomic', 'gaming', 'large', 'fastest', 'cooling', 'stress relief', '', 'wearable', 'physical', 'virtual',\n",
    "                      'computer', 'single', 'streaming', 'board', 'play', 'flat' ]"
   ]
  },
  {
   "cell_type": "code",
   "execution_count": null,
   "id": "eef327a9-f212-42a8-a5ca-2569a3af9707",
   "metadata": {
    "tags": []
   },
   "outputs": [],
   "source": [
    "# author generated\n",
    "product_suffix_pool = ['alleviates carpal tunnel syndrome', 'with thumb support', 'with elbow support', \n",
    "                       'in all colors', 'with large capacity', 'newest version', 'set', 'mount', 'adapter', \n",
    "                       'can be rotated in any direction', 'peripheral set']"
   ]
  },
  {
   "cell_type": "code",
   "execution_count": null,
   "id": "7e5079f6-0d4d-453a-92eb-ae3b752cfa47",
   "metadata": {
    "tags": []
   },
   "outputs": [],
   "source": [
    "dat = rgh.create_dataset(size_factor = 1, \n",
    "                   total_votes = np.arange(0, 87, 2),\n",
    "                   helpful_votes = np.arange(0, 54, 3), \n",
    "                   scale = 0.7, \n",
    "                   review_years = np.arange(1999, 2018), \n",
    "                   product_category = 'Video_Games', \n",
    "                   product_components = [product_prefix_pool, product_pool, product_suffix_pool],\n",
    "                   marketplace_factor = 1)"
   ]
  },
  {
   "cell_type": "code",
   "execution_count": null,
   "id": "efb79700-9063-4ea0-96e0-a128cd12a545",
   "metadata": {
    "tags": []
   },
   "outputs": [],
   "source": [
    "reviews = pd.read_parquet(s3_bucket_text + \n",
    "                          '/review_body_headline/7b80671e92144a27bcc4ea59e656e543_0.snappy.parquet')"
   ]
  },
  {
   "cell_type": "code",
   "execution_count": null,
   "id": "ba57ea70-dbe0-4b23-9383-78f2fefc0fa4",
   "metadata": {
    "tags": []
   },
   "outputs": [],
   "source": [
    "dat[\"review_headline\"] = reviews.iloc[0:dat.shape[0]][\"review_headline\"].array\n",
    "dat[\"review_body\"] = reviews.iloc[0:dat.shape[0]][\"review_body\"].array"
   ]
  },
  {
   "cell_type": "code",
   "execution_count": null,
   "id": "531aa3b9-107b-4f9c-aaf0-0c9b9a583dd8",
   "metadata": {
    "tags": []
   },
   "outputs": [],
   "source": [
    "wr.s3.to_parquet(\n",
    "    df = dat[[\"product_category\", \"marketplace\", \"customer_id\", \"review_id\", \"product_id\", \"product_title\", \"star_rating\",\n",
    "            \"helpful_votes\", \"total_votes\", \"insight\", \"review_headline\", \"review_body\", \"review_date\", \"review_year\"]],\n",
    "    path = s3_bucket_output,\n",
    "    dataset = True,\n",
    "    max_rows_by_file = 3000000,\n",
    "    partition_cols = ['product_category']\n",
    ")"
   ]
  },
  {
   "cell_type": "code",
   "execution_count": null,
   "id": "7f72ad4a-f5ce-47f9-8398-d1563d7935b0",
   "metadata": {
    "tags": []
   },
   "outputs": [],
   "source": [
    "row_marker = dat.shape[0]"
   ]
  },
  {
   "cell_type": "markdown",
   "id": "3e8d3869-0131-41d0-9451-1bd95e83adcd",
   "metadata": {},
   "source": [
    "## Toys_Games\n",
    "\n",
    "Prompt: \"Generate 50 toys and games products. Provide the output as a comma separated list, surround each word in single quotes, each word as lower case, each word is singular\""
   ]
  },
  {
   "cell_type": "code",
   "execution_count": null,
   "id": "c9cfce6e-8c5e-444f-93f7-9ec5a118f31e",
   "metadata": {
    "tags": []
   },
   "outputs": [],
   "source": [
    "product_pool = ['doll', 'puzzle', 'action figure', 'board game', 'stuffed animal', 'video game', 'lego set', 'card game', \n",
    "                'toy car', 'art supply', 'ball', 'playset', 'toy robot', 'kite', 'jump rope', 'musical instrument', \n",
    "                'building block', 'science kit', 'puzzle cube', 'toy truck', 'coloring book', 'playing card', 'frisbee', \n",
    "                'yo-yo', 'bubble wand', 'remote control car', 'chalk', 'play dough', 'jigsaw puzzle', 'plush toy', \n",
    "                'educational game', 'toy train', 'sticker book', 'craft kit', 'memory game', 'model kit', 'playground ball', \n",
    "                'spinning top', 'marionette', 'kaleidoscope', 'dress-up costume', 'puppet', 'play tent', 'magic set', \n",
    "                'toy laptop', 'pretend play set', 'juggling ball', 'sports equipment', 'musical toy']"
   ]
  },
  {
   "cell_type": "markdown",
   "id": "f04a92bb-ca80-41d6-a124-681b2da48159",
   "metadata": {},
   "source": [
    "Prompt: \"Generate 50 words related to toys and games products. Each word must be an adjective. Provide the output as a comma separated list, surround each word in single quotes, each word as lower case, each word is singular\""
   ]
  },
  {
   "cell_type": "code",
   "execution_count": null,
   "id": "5465e856-5adb-46ae-8de4-a888c7290d8e",
   "metadata": {
    "tags": []
   },
   "outputs": [],
   "source": [
    "product_prefix_pool = ['educational','fun','interactive','colorful','wooden','plastic','electronic','durable','safe',\n",
    "                       'entertaining','stimulating','creative','imaginative','developmental','engaging','challenging',\n",
    "                       'collectible','lifelike','plush','cuddly','sturdy','eco-friendly','vibrant','musical','artistic',\n",
    "                       'construction','coding','virtual','augmented','puzzling','competitive','strategic','collaborative',\n",
    "                       'skill-building','themed','licensed','nostalgic','retro','innovative','compact','portable','versatile',\n",
    "                       'customizable','programmable','robotic','battery-powered','motion-activated']"
   ]
  },
  {
   "cell_type": "code",
   "execution_count": null,
   "id": "bcd4f402-8096-4f85-a4eb-70f30af0ad39",
   "metadata": {
    "tags": []
   },
   "outputs": [],
   "source": [
    "# author generated\n",
    "product_suffix_pool = ['unisex', 'for boys and girls', 'for kids and adults', 'for ages 0-1', 'for ages 1 to 3', \n",
    "                      'for ages 3 to 7', 'for ages 8 to 13', 'for ages 13+', 'for adults', 'for stress relief', \n",
    "                      'battery operated', 'in box', 'with a storage box', 'perfect birthday gift', 'for little girls', '10 pieces',\n",
    "                      'extra large', 'extra pieces included', 'for all ages', 'set of 2', 'pastel colors', 'full activity set']"
   ]
  },
  {
   "cell_type": "code",
   "execution_count": null,
   "id": "a3832fa1-73ff-41f0-a6ee-7780408807b3",
   "metadata": {
    "tags": []
   },
   "outputs": [],
   "source": [
    "dat = rgh.create_dataset(size_factor = 2, \n",
    "                   total_votes = np.arange(0, 20),\n",
    "                   helpful_votes = np.arange(0, 18), \n",
    "                   scale = 0.6, \n",
    "                   review_years = np.arange(2000, 2015), \n",
    "                   product_category = 'Toys_Games', \n",
    "                   product_components = [product_prefix_pool, product_pool, product_suffix_pool],\n",
    "                   marketplace_factor = 0.5)"
   ]
  },
  {
   "cell_type": "markdown",
   "id": "9dbb7e59-35af-49cb-aaab-19045df624f0",
   "metadata": {},
   "source": [
    "Use remaining rows from the last reviews file:"
   ]
  },
  {
   "cell_type": "code",
   "execution_count": null,
   "id": "e8f51289-931c-4e27-ac95-8602f769972e",
   "metadata": {
    "tags": []
   },
   "outputs": [],
   "source": [
    "dat[\"review_headline\"] = reviews.iloc[row_marker:(row_marker + dat.shape[0])][\"review_headline\"].array\n",
    "dat[\"review_body\"] = reviews.iloc[row_marker:(row_marker + dat.shape[0])][\"review_body\"].array"
   ]
  },
  {
   "cell_type": "code",
   "execution_count": null,
   "id": "5537acbd-3ff2-443b-89ff-de35ccaca4fb",
   "metadata": {
    "tags": []
   },
   "outputs": [],
   "source": [
    "wr.s3.to_parquet(\n",
    "    df = dat[[\"product_category\", \"marketplace\", \"customer_id\", \"review_id\", \"product_id\", \"product_title\", \"star_rating\",\n",
    "            \"helpful_votes\", \"total_votes\", \"insight\", \"review_headline\", \"review_body\", \"review_date\", \"review_year\"]],\n",
    "    path = s3_bucket_output,\n",
    "    dataset = True,\n",
    "    max_rows_by_file = 3000000,\n",
    "    partition_cols = ['product_category']\n",
    ")"
   ]
  },
  {
   "cell_type": "markdown",
   "id": "0c7cc8c0-0bb5-4afb-8853-d714a3bfc227",
   "metadata": {},
   "source": [
    "## Office_Products\n",
    "\n",
    "Prompt: \"Generate 50 office products. Provide the output as a comma separated list, surround each word in single quotes, each word as lower case, each word is singular\""
   ]
  },
  {
   "cell_type": "code",
   "execution_count": null,
   "id": "3aa1bb6b-dc11-4b97-bcf8-b63e65c4130f",
   "metadata": {
    "tags": []
   },
   "outputs": [],
   "source": [
    "product_pool = ['pen', 'pencil', 'eraser', 'ruler', 'stapler', 'scissors', 'paper', 'folder', 'clipboard', 'binder', 'tape', \n",
    "                'glue', 'notebook', 'marker', 'highlighter', 'envelope', 'label', 'stamp', 'calendar', 'calculator', 'desk', \n",
    "                'chair', 'lamp', 'whiteboard', 'projector', 'printer', 'scanner', 'shredder', 'telephone', 'headset', 'monitor', \n",
    "                'keyboard', 'mouse', 'laptop', 'tablet', 'dock', 'cable', 'adapter', 'charger', 'battery', 'fan', 'humidifier', \n",
    "                'dehumidifier', 'clock', 'planner', 'organizer', 'cup', 'mug']"
   ]
  },
  {
   "cell_type": "markdown",
   "id": "e01c503a-be87-462c-b879-ec585739718c",
   "metadata": {},
   "source": [
    "Prompt: \"Generate 50 words related to office products. Each word must be an adjective. Provide the output as a comma separated list, surround each word in single quotes, each word as lower case, each word is singular\""
   ]
  },
  {
   "cell_type": "code",
   "execution_count": null,
   "id": "81cc8cdf-7079-4bc7-9bc3-306c4e37579d",
   "metadata": {
    "tags": []
   },
   "outputs": [],
   "source": [
    "product_prefix_pool = ['ergonomic','comfortable','multifunctional','compact','durable','affordable','versatile','efficient',\n",
    "                       'eco-friendly','stylish','portable','adjustable','wireless','noise-canceling','premium','innovative',\n",
    "                       'sturdy','sleek','secure','paperless','spacious','customizable','integrated','organized','lightweight',\n",
    "                       'programmable','user-friendly','modern','modular','automated','energy-saving','hygienic','smart',\n",
    "                       'flexible','intuitive','collaborative','productive','clutter-free','convenient','mobile','sophisticated',\n",
    "                       'minimalist','elegant','digital','streamlined','reliable','intuitive']"
   ]
  },
  {
   "cell_type": "code",
   "execution_count": null,
   "id": "0b2af3d8-258b-4fc7-8115-e31793b77601",
   "metadata": {
    "tags": []
   },
   "outputs": [],
   "source": [
    "# author generated\n",
    "product_suffix_pool = ['makes a great gift for boss', 'best manager gift', 'excellent employee gift', 'can be modified with your logo',\n",
    "                       '5 boxes', 'box of 3', 'box of 10', 'box of 5', 'set of 10', 'set of 2', 'set of 20', 'elegant gift', '50-count',\n",
    "                       '100-count', '200-count', \n",
    "                       'with your custom message', 'recyclable', 'made in the USA', 'non-slip', 'large capacity', 'comfortable grip',\n",
    "                       'soft grip', 'one touch', 'with remote', 'assorted colors', '96 color bulk pack', 'for adults and kids', \n",
    "                       'non-toxic', 'color-coordinated']\n",
    "                       "
   ]
  },
  {
   "cell_type": "code",
   "execution_count": null,
   "id": "eeeda4be-b8db-4a2e-8a6d-6aff5e32c76d",
   "metadata": {
    "tags": []
   },
   "outputs": [],
   "source": [
    "dat = rgh.create_dataset(size_factor = 3, \n",
    "                   total_votes = np.arange(2, 44, 2),\n",
    "                   helpful_votes = np.arange(0, 32), \n",
    "                   scale = 0.4, \n",
    "                   review_years = np.arange(1995, 2014), \n",
    "                   product_category = 'Office_Products', \n",
    "                   product_components = [product_prefix_pool, product_pool, product_suffix_pool],\n",
    "                   marketplace_factor = 0.4)"
   ]
  },
  {
   "cell_type": "code",
   "execution_count": null,
   "id": "229c009f-ca0a-4817-8d63-30b6399267a2",
   "metadata": {
    "tags": []
   },
   "outputs": [],
   "source": [
    "reviews = pd.read_parquet(s3_bucket_text + \n",
    "                          '/review_body_headline/7b80671e92144a27bcc4ea59e656e543_1.snappy.parquet')"
   ]
  },
  {
   "cell_type": "code",
   "execution_count": null,
   "id": "9136ae6c-86c1-4b8a-b13c-8bbf328da9a1",
   "metadata": {
    "tags": []
   },
   "outputs": [],
   "source": [
    "dat[\"review_headline\"] = reviews.iloc[0:dat.shape[0]][\"review_headline\"].array\n",
    "dat[\"review_body\"] = reviews.iloc[0:dat.shape[0]][\"review_body\"].array"
   ]
  },
  {
   "cell_type": "code",
   "execution_count": null,
   "id": "6468cd23-80be-4743-a1bf-56499557bb5c",
   "metadata": {
    "tags": []
   },
   "outputs": [],
   "source": [
    "wr.s3.to_parquet(\n",
    "    df = dat[[\"product_category\", \"marketplace\", \"customer_id\", \"review_id\", \"product_id\", \"product_title\", \"star_rating\",\n",
    "            \"helpful_votes\", \"total_votes\", \"insight\", \"review_headline\", \"review_body\", \"review_date\", \"review_year\"]],\n",
    "    path = s3_bucket_output,\n",
    "    dataset = True,\n",
    "    max_rows_by_file = 3000000,\n",
    "    partition_cols = ['product_category']\n",
    ")"
   ]
  },
  {
   "cell_type": "markdown",
   "id": "6024e8d0-9071-4065-9b79-d268e7f12f29",
   "metadata": {},
   "source": [
    "## Pet_Supplies\n",
    "\n",
    "Prompt: \"Generate 50 pet supplies related products. Provide the output as a comma separated list, surround each word in single quotes, each word as lower case, each word is singular\". The author then provided modifications."
   ]
  },
  {
   "cell_type": "code",
   "execution_count": null,
   "id": "ce6c801d-8f55-47fe-9faa-16c5990eb44e",
   "metadata": {
    "tags": []
   },
   "outputs": [],
   "source": [
    "product_pool = ['leash', 'collar', 'bed', 'toy', 'bowl', 'treat', 'brush', 'crate', 'shampoo', 'conditioner', 'harness',\n",
    "                'sweater', 'carrier', 'litter', 'box', 'scratching pad', 'scratching post', 'aquarium', 'filter', 'food', 'dispenser',\n",
    "                'water', 'fountain', 'grooming kit', 'nail clipper', 'vitamin', 'supplement', 'training pad', 'pad', \n",
    "                'odor', 'remover', 'waste bag', 'waste bag dispenser', 'travel', 'bowl', 'pet', 'gate', 'ramp', 'stairs', 'playpen', 'feeder',\n",
    "                'house', 'costume', 'bandana', 'tag', 'charm', 'bed', 'cover', 'heating pad', 'wheel', 'tree']"
   ]
  },
  {
   "cell_type": "markdown",
   "id": "685b0d9e-6241-4f87-80df-4151e29676f1",
   "metadata": {},
   "source": [
    "Prompt: \"Generate 50 words related to pet supplies. Each word must be an adjective. Provide the output as a comma separated list, surround each word in single quotes, each word as lower case, each word is singular\" "
   ]
  },
  {
   "cell_type": "code",
   "execution_count": null,
   "id": "e1e151ba-ba3a-4d2e-98b5-27435a3e8984",
   "metadata": {
    "tags": []
   },
   "outputs": [],
   "source": [
    "product_prefix_pool = ['absorbent', 'chewy','squeaky','durable','cozy','scratchy','feathery', 'collared',\n",
    "                       'groomed','nibbled','digestible','cuddly',\n",
    "                       'indestructible','chewable','nutritious','hypoallergenic','ergonomic','eco-friendly','orthopedic',\n",
    "                       'automated','heated','cooling','antibacterial','deodorizing','waterproof','plush','removable',\n",
    "                       'adjustable','machine-washable','non-toxic','refillable','training','corrective','enzymatic',\n",
    "                       'tasty','flavored','interactive','robotic','intelligent','monitored','wearable','portable','hands-free',\n",
    "                       'remote-controlled']"
   ]
  },
  {
   "cell_type": "code",
   "execution_count": null,
   "id": "155d8fcf-943e-4ed1-abc2-f0832d7a4151",
   "metadata": {
    "tags": []
   },
   "outputs": [],
   "source": [
    "# author generated\n",
    "product_suffix_pool = ['for pets', 'for cats', 'for small and large pets', 'for dogs', 'for your furry baby', \n",
    "                      'for your furrbaby', 'for small dogs', 'for large dogs', 'for birds', 'for hamsters', 'for indoor and outdoor',\n",
    "                      'with antimicrobial protection', 'no smell', 'perfect for Halloween', 'collapsible for easy storage',\n",
    "                      'for cars and home', 'for travel']"
   ]
  },
  {
   "cell_type": "code",
   "execution_count": null,
   "id": "13c2bbed-25b5-4da5-a87f-06d3d3d3820c",
   "metadata": {
    "tags": []
   },
   "outputs": [],
   "source": [
    "dat = rgh.create_dataset(size_factor = 3, \n",
    "                   total_votes = np.arange(10, 30),\n",
    "                   helpful_votes = np.arange(1, 25), \n",
    "                   scale = 0.4, \n",
    "                   review_years = np.arange(2003, 2015), \n",
    "                   product_category = 'Pet_Supplies', \n",
    "                   product_components = [product_prefix_pool, product_pool, product_suffix_pool],\n",
    "                   marketplace_factor = 0.5)"
   ]
  },
  {
   "cell_type": "code",
   "execution_count": null,
   "id": "225c2c8f-7b30-4eaf-89a4-94a514878722",
   "metadata": {
    "tags": []
   },
   "outputs": [],
   "source": [
    "reviews = pd.read_parquet(s3_bucket_text + \n",
    "                          '/review_body_headline/7b80671e92144a27bcc4ea59e656e543_2.snappy.parquet')"
   ]
  },
  {
   "cell_type": "code",
   "execution_count": null,
   "id": "3b56739d-ecb2-4d4f-8531-db37fc869e57",
   "metadata": {
    "tags": []
   },
   "outputs": [],
   "source": [
    "dat[\"review_headline\"] = reviews.iloc[0:dat.shape[0]][\"review_headline\"].array\n",
    "dat[\"review_body\"] = reviews.iloc[0:dat.shape[0]][\"review_body\"].array"
   ]
  },
  {
   "cell_type": "code",
   "execution_count": null,
   "id": "8b60aee1-8e33-4c83-b9c1-ab0f45f4fc9f",
   "metadata": {
    "tags": []
   },
   "outputs": [],
   "source": [
    "wr.s3.to_parquet(\n",
    "    df = dat[[\"product_category\", \"marketplace\", \"customer_id\", \"review_id\", \"product_id\", \"product_title\", \"star_rating\",\n",
    "            \"helpful_votes\", \"total_votes\", \"insight\", \"review_headline\", \"review_body\", \"review_date\", \"review_year\"]],\n",
    "    path = s3_bucket_output,\n",
    "    dataset = True,\n",
    "    max_rows_by_file = 3000000,\n",
    "    partition_cols = ['product_category']\n",
    ")"
   ]
  },
  {
   "cell_type": "markdown",
   "id": "db1820ed-60ec-4075-b1bd-f918e3717b1a",
   "metadata": {},
   "source": [
    "## Sports_Outdoors"
   ]
  },
  {
   "cell_type": "markdown",
   "id": "659d162c-e792-46fb-a5b0-4d39dfb92459",
   "metadata": {},
   "source": [
    "Prompt: \"Generate 50 product names related to sports and outdoor activities. Provide the output as a comma separated list, surround each word in single quotes, each word as lower case, each word is singular\""
   ]
  },
  {
   "cell_type": "code",
   "execution_count": null,
   "id": "3261e02d-df50-4d12-b478-9f1325144b24",
   "metadata": {
    "tags": []
   },
   "outputs": [],
   "source": [
    "product_pool = ['basketball', 'football', 'baseball', 'tennis', 'volleyball', 'frisbee', 'swimsuit', 'surfboard', 'kayak', 'canoe', \n",
    "                'tent', 'backpack', 'sleeping bag', 'compass', 'binoculars', 'hiking boots', 'fishing rod', 'fishing line', 'tackle box', 'life jacket', \n",
    "                'water bottle', 'sunscreen', 'hat', 'snorkel', 'diving mask', 'wetsuit', 'skateboard', 'rollerblades', 'bicycle', \n",
    "                'helmet', 'knee pad', 'elbow pad', 'climbing rope', 'carabiner', 'harness', 'golf club', 'golf ball', 'tee', \n",
    "                'racquet', 'shuttlecock', 'goalpost', 'whistle', 'stopwatch', 'scoreboard', 'trophy', 'medal', 'jersey', 'shorts',\n",
    "               'meal replacement', 'napkin']"
   ]
  },
  {
   "cell_type": "markdown",
   "id": "2089dfc2-f203-48a7-838d-7f4c092e2071",
   "metadata": {},
   "source": [
    "Prompt: \"Generate 50 words that describe products for sports and outdoor activities. Each word must be an adjective. Provide the output as a comma separated list, surround each word in single quotes, each word as lower case, each word is singular\""
   ]
  },
  {
   "cell_type": "code",
   "execution_count": null,
   "id": "fab7f30b-906f-4003-a48b-1058b31b352c",
   "metadata": {
    "tags": []
   },
   "outputs": [],
   "source": [
    "product_prefix_pool = ['lightweight', 'durable', 'breathable', 'waterproof', 'moisture-wicking', 'insulated', 'quick-drying', \n",
    "                       'abrasion-resistant', 'shock-absorbing', 'ergonomic', 'buoyant', 'reflective', 'aerodynamic', 'non-slip', \n",
    "                       'sweat-resistant', 'adjustable', 'flexible', 'padded', 'compressible', 'weatherproof', 'ventilated', \n",
    "                       'UV-resistant', 'high-visibility', 'anti-microbial', 'tear-resistant', 'grip-enhancing', 'cushioned', \n",
    "                       'thermal', 'odor-resistant', 'windproof', 'impact-resistant', 'breathable', 'water-repellent', 'anti-chafe', \n",
    "                       'snug-fitting', 'quick-release', 'versatile', 'rugged', 'lightweight', 'compact', 'sturdy', 'reinforced', \n",
    "                       'hypoallergenic', 'anti-static', 'anti-glare', 'heat-retaining', 'sweat-wicking', 'disposable']"
   ]
  },
  {
   "cell_type": "code",
   "execution_count": null,
   "id": "aec8e794-03fd-4d72-9043-6436dca35a52",
   "metadata": {
    "tags": []
   },
   "outputs": [],
   "source": [
    "# author generated\n",
    "product_suffix_pool = ['with long lasting properties', 'set of 6', 'with heavy duty clips', 'D ring shape', 'mix in a mesh bag',\n",
    "                       '36 pack', 'personalized with your name', 'personalized with your logo', 'for the whole team', 'with team logo',\n",
    "                       'multi-colored', 'great for daily trips', 'organized', 'easy to store', 'with the instruction manual',\n",
    "                       'for hunting', 'for fishing', 'for walking', 'for running and walking']"
   ]
  },
  {
   "cell_type": "code",
   "execution_count": null,
   "id": "9140d2eb-6a3d-40a3-ba14-fd3c51870e9b",
   "metadata": {
    "tags": []
   },
   "outputs": [],
   "source": [
    "dat = rgh.create_dataset(size_factor = 1, \n",
    "                   total_votes = np.arange(10, 71),\n",
    "                   helpful_votes = np.arange(3, 34, 3), \n",
    "                   scale = 0.3, \n",
    "                   review_years = np.arange(2001, 2013), \n",
    "                   product_category = 'Sports_Outdoors', \n",
    "                   product_components = [product_prefix_pool, product_pool, product_suffix_pool],\n",
    "                   marketplace_factor = 1)"
   ]
  },
  {
   "cell_type": "code",
   "execution_count": null,
   "id": "c0f04fa0-7355-46fe-9546-3fcdf7428c4d",
   "metadata": {
    "tags": []
   },
   "outputs": [],
   "source": [
    "reviews = pd.read_parquet(s3_bucket_text + \n",
    "                          '/review_body_headline/a15fc40fcfa545bb93730f74a462d1a3_0.snappy.parquet')"
   ]
  },
  {
   "cell_type": "code",
   "execution_count": null,
   "id": "b9ed8635-cf9d-4f54-acea-d45e00d193d6",
   "metadata": {
    "tags": []
   },
   "outputs": [],
   "source": [
    "dat[\"review_headline\"] = reviews.iloc[0:dat.shape[0]][\"review_headline\"].array\n",
    "dat[\"review_body\"] = reviews.iloc[0:dat.shape[0]][\"review_body\"].array"
   ]
  },
  {
   "cell_type": "code",
   "execution_count": null,
   "id": "76b5d16c-f46c-4047-bd28-234db4a26b8d",
   "metadata": {
    "tags": []
   },
   "outputs": [],
   "source": [
    "wr.s3.to_parquet(\n",
    "    df = dat[[\"product_category\", \"marketplace\", \"customer_id\", \"review_id\", \"product_id\", \"product_title\", \"star_rating\",\n",
    "            \"helpful_votes\", \"total_votes\", \"insight\", \"review_headline\", \"review_body\", \"review_date\", \"review_year\"]],\n",
    "    path = s3_bucket_output,\n",
    "    dataset = True,\n",
    "    max_rows_by_file = 3000000,\n",
    "    partition_cols = ['product_category']\n",
    ")"
   ]
  },
  {
   "cell_type": "code",
   "execution_count": null,
   "id": "cc7646c3-77c8-4a57-9965-7be294f8b050",
   "metadata": {
    "tags": []
   },
   "outputs": [],
   "source": [
    "row_marker = dat.shape[0]\n",
    "row_marker"
   ]
  },
  {
   "cell_type": "markdown",
   "id": "9e087be3-ccc0-42ef-a108-f3375b3c8ffc",
   "metadata": {},
   "source": [
    "## Tools_Home_Improvement\n",
    "\n",
    "Prompt: \"Generate 50 product names related to tools and home improvement. Provide the output as a comma separated list, surround each word in single quotes, each word as lower case, each word is singular\""
   ]
  },
  {
   "cell_type": "code",
   "execution_count": null,
   "id": "41a7fd9f-f194-4854-b0f6-4c16e7eed05b",
   "metadata": {
    "tags": []
   },
   "outputs": [],
   "source": [
    "product_pool = ['hammer', 'screwdriver', 'wrench', 'pliers', 'drill', 'saw', 'chisel', 'level', 'tape measure', \n",
    "                'ladder', 'paintbrush', 'roller', 'sandpaper', 'putty knife', 'caulk gun', 'utility knife', \n",
    "                'stud finder', 'clamp', 'vise', 'hacksaw', 'crowbar', 'socket set', 'shovel', 'rake', 'wheelbarrow', \n",
    "                'trowel', 'sander', 'grinder', 'hedge trimmer', 'lawnmower', 'leaf blower', 'chainsaw', 'nail gun', \n",
    "                'heat gun', 'welding torch', 'soldering iron', 'multimeter', 'voltmeter', 'pipe wrench', 'wire stripper', \n",
    "                'bolt cutter', 'sledgehammer', 'pickaxe', 'pry bar', 'plumb bob', 'spirit level', 'chalk line']"
   ]
  },
  {
   "cell_type": "markdown",
   "id": "cb965898-1c16-41dd-b042-4af684df622b",
   "metadata": {},
   "source": [
    "Prompt: \"Generate 50 words that describe products such as tools and that are used for home improvement. Each word must be an adjective. Provide the output as a comma separated list, surround each word in single quotes, each word as lower case, each word is singular\""
   ]
  },
  {
   "cell_type": "code",
   "execution_count": null,
   "id": "e33cad6b-ec5d-47ad-9eef-df46151c6010",
   "metadata": {
    "tags": []
   },
   "outputs": [],
   "source": [
    "product_prefix_pool = ['sturdy', 'durable', 'ergonomic', 'versatile', 'efficient', 'powerful', 'precise', 'lightweight', \n",
    "                       'reliable', 'rust-resistant', 'corrosion-resistant', 'heavy-duty', 'high-performance', 'sleek', \n",
    "                       'compact', 'user-friendly', 'multipurpose', 'innovative', 'energy-saving', 'eco-friendly', 'robust', \n",
    "                       'long-lasting', 'portable', 'weatherproof', 'scratch-resistant', 'vibration-resistant', 'noise-reducing', \n",
    "                       'adjustable', 'flexible', 'lockable', 'swiveling', 'retractable', 'collapsible', 'foldable', 'seamless', \n",
    "                       'cordless', 'rechargeable', 'detachable', 'interchangeable', 'customizable', 'programmable', 'automated', \n",
    "                       'digital', 'intuitive', 'heated', 'insulated', 'magnetic', 'laser-guided']"
   ]
  },
  {
   "cell_type": "code",
   "execution_count": null,
   "id": "b3079797-1205-40fe-807b-e07d7ee97c92",
   "metadata": {
    "tags": []
   },
   "outputs": [],
   "source": [
    "# author generated\n",
    "product_suffix_pool = ['with magnetics holders', 'rust resistant metal parts', 'double sided', 'with large easy to read letters', \n",
    "                       'with fiberglass handles', 'general purpose', 'all purpose', 'for smaller hands', 'with slip cushion grip', \n",
    "                       'large size', 'small size', 'red', 'black', 'yellow', 'quality steel', 'quality materials', 'long lasting materials',\n",
    "                       'exceptional worksmanship', 'with 40V lithium-ion battery', 'orange', 'orange and black colors', '2 years warranty']"
   ]
  },
  {
   "cell_type": "code",
   "execution_count": null,
   "id": "f97e9842-cb76-45bc-ad91-f20bc1fbb169",
   "metadata": {
    "tags": []
   },
   "outputs": [],
   "source": [
    "dat = rgh.create_dataset(size_factor = 2, \n",
    "                   total_votes = np.arange(10, 66, 2),\n",
    "                   helpful_votes = np.arange(2, 48), \n",
    "                   scale = 1, \n",
    "                   review_years = np.arange(1996, 2010), \n",
    "                   product_category = 'Tools_Home_Improvement', \n",
    "                   product_components = [product_prefix_pool, product_pool, product_suffix_pool],\n",
    "                   marketplace_factor = 0.6)"
   ]
  },
  {
   "cell_type": "markdown",
   "id": "1ea0fcec-b90b-4316-b7a1-ba08cdcfde53",
   "metadata": {},
   "source": [
    "Use remaining rows from the last reviews file:"
   ]
  },
  {
   "cell_type": "code",
   "execution_count": null,
   "id": "08ec4b0a-ad51-41c7-a2b8-27a22c5a84b9",
   "metadata": {
    "tags": []
   },
   "outputs": [],
   "source": [
    "dat[\"review_headline\"] = reviews.iloc[row_marker:(row_marker + dat.shape[0])][\"review_headline\"].array\n",
    "dat[\"review_body\"] = reviews.iloc[row_marker:(row_marker + dat.shape[0])][\"review_body\"].array"
   ]
  },
  {
   "cell_type": "code",
   "execution_count": null,
   "id": "dd80208d-6506-40fe-8f80-0d90c1d5e628",
   "metadata": {
    "tags": []
   },
   "outputs": [],
   "source": [
    "wr.s3.to_parquet(\n",
    "    df = dat[[\"product_category\", \"marketplace\", \"customer_id\", \"review_id\", \"product_id\", \"product_title\", \"star_rating\",\n",
    "            \"helpful_votes\", \"total_votes\", \"insight\", \"review_headline\", \"review_body\", \"review_date\", \"review_year\"]],\n",
    "    path = s3_bucket_output,\n",
    "    dataset = True,\n",
    "    max_rows_by_file = 3000000,\n",
    "    partition_cols = ['product_category']\n",
    ")"
   ]
  },
  {
   "cell_type": "markdown",
   "id": "bc3c1cd7-35c0-48c3-882f-a679aeadd4f0",
   "metadata": {},
   "source": [
    "## Garden_Outdoor\n",
    "\n",
    "Prompt: \"Generate 50 product names related to garden and outdoor. Provide the output as a comma separated list, surround each word in single quotes, each word as lower case, each word is singular\". "
   ]
  },
  {
   "cell_type": "code",
   "execution_count": null,
   "id": "8d0ad961-ead9-4293-ab9c-c31cc7dc6d74",
   "metadata": {
    "tags": []
   },
   "outputs": [],
   "source": [
    "product_pool = ['rake', 'shovel', 'hose', 'sprinkler', 'lawnmower', 'wheelbarrow', 'pruner', 'trowel', 'watering_can', \n",
    "                'hoe', 'hedge trimmer', 'leaf blower', 'patio set', 'hammock', 'bird feeder', 'bird bath', 'garden gnome', \n",
    "                'sundial', 'wind chime', 'garden bench', 'potting soil', 'fertilizer', 'seed packet', 'bulb', 'plant pot', \n",
    "                'garden sculpture', 'outdoor lighting', 'patio heater', 'grill', 'smoker', 'fire pit', 'umbrella', 'gazebo', \n",
    "                'trellis', 'pergola', 'garden_hose', 'nozzle', 'garden fork', 'cultivator', 'edger', 'pruning saw', \n",
    "                'loppers', 'garden shears', 'gardening gloves', 'gardening hat', 'gardening apron', 'gardening knee pad', \n",
    "                'gardening tool set', 'garden cart', 'compost_bin']"
   ]
  },
  {
   "cell_type": "markdown",
   "id": "f5341fad-b16c-419d-b02c-12aabd78b3f0",
   "metadata": {},
   "source": [
    "Prompt: \"Generate 50 words that describe products for garden and outdoors. Each word must be an adjective. Provide the output as a comma separated list, surround each word in single quotes, each word as lower case, each word is singular\". The author then provided modifications."
   ]
  },
  {
   "cell_type": "code",
   "execution_count": null,
   "id": "e7f215e9-e3d0-45b1-a85a-d0f91970d4a2",
   "metadata": {
    "tags": []
   },
   "outputs": [],
   "source": [
    "product_prefix_pool = ['durable','weather-resistant','eco-friendly','sustainable','ergonomic','portable','lightweight','compact',\n",
    "                       'multi-functional','versatile','decorative','ornamental','rust-proof','water-resistant','low-maintenance',\n",
    "                       'vibrant','colorful','elegant','rustic','vintage','stylish','contemporary','sleek','modern','innovative',\n",
    "                       'space-saving','efficient','user-friendly','sturdy','robust','reliable','easy-to-clean','easy-to-assemble',\n",
    "                       'foldable','adjustable','lockable','breathable','ventilated','insulated','energy-saving','rechargeable',\n",
    "                       'cordless','solar-powered','automated','programmable', 'uv-resistant', 'uv-protective', 'spacious']                   "
   ]
  },
  {
   "cell_type": "code",
   "execution_count": null,
   "id": "ddf0f745-1afb-4097-bdb0-815f07e90f65",
   "metadata": {
    "tags": []
   },
   "outputs": [],
   "source": [
    "# author generated\n",
    "product_suffix_pool = ['from heavy duty material', 'for patio, backyard and garden', 'DIY kit', 'quality structure', \n",
    "                       'one size fits all', 'washable canvas', 'with non-slip grip', 'excellent gift for a new homeowner', \n",
    "                       'with storage basket', \"ideal gift for women, birthdays\",\"great gift for a gardener\", \n",
    "                       \"great gift for a beginner\", \"for raised beds\", \"deer resistant\", \"for pots\", '2 years warranty']"
   ]
  },
  {
   "cell_type": "code",
   "execution_count": null,
   "id": "5c2534df-167a-4d35-ab1a-e2d827fe7aca",
   "metadata": {
    "tags": []
   },
   "outputs": [],
   "source": [
    "dat = rgh.create_dataset(size_factor = 3, \n",
    "                   total_votes = np.arange(1, 40, 3),\n",
    "                   helpful_votes = np.arange(1, 30, 2), \n",
    "                   scale = 0.6, \n",
    "                   review_years = np.arange(2002, 2018), \n",
    "                   product_category = 'Garden_Outdoor', \n",
    "                   product_components = [product_prefix_pool, product_pool, product_suffix_pool],\n",
    "                   marketplace_factor = 1)"
   ]
  },
  {
   "cell_type": "code",
   "execution_count": null,
   "id": "ef3325bc-94b3-4740-919f-553178dafd2b",
   "metadata": {
    "tags": []
   },
   "outputs": [],
   "source": [
    "reviews = pd.read_parquet(s3_bucket_text + \n",
    "                          '/review_body_headline/a15fc40fcfa545bb93730f74a462d1a3_1.snappy.parquet')"
   ]
  },
  {
   "cell_type": "code",
   "execution_count": null,
   "id": "77c37f42-ac81-42c2-a0e4-7421299231e5",
   "metadata": {
    "tags": []
   },
   "outputs": [],
   "source": [
    "dat[\"review_headline\"] = reviews.iloc[0:dat.shape[0]][\"review_headline\"].array\n",
    "dat[\"review_body\"] = reviews.iloc[0:dat.shape[0]][\"review_body\"].array"
   ]
  },
  {
   "cell_type": "code",
   "execution_count": null,
   "id": "d1b52420-d62c-4528-acde-b2bd8bcb1207",
   "metadata": {
    "tags": []
   },
   "outputs": [],
   "source": [
    "wr.s3.to_parquet(\n",
    "    df = dat[[\"product_category\", \"marketplace\", \"customer_id\", \"review_id\", \"product_id\", \"product_title\", \"star_rating\",\n",
    "            \"helpful_votes\", \"total_votes\", \"insight\", \"review_headline\", \"review_body\", \"review_date\", \"review_year\"]],\n",
    "    path = s3_bucket_output,\n",
    "    dataset = True,\n",
    "    max_rows_by_file = 3000000,\n",
    "    partition_cols = ['product_category']\n",
    ")"
   ]
  },
  {
   "cell_type": "markdown",
   "id": "1f7e6e5f-467b-47e0-b571-18f93467b53d",
   "metadata": {},
   "source": [
    "## Arts_Crafts_Sewing\n",
    "\n",
    "Prompt: \"Generate 100 product names related to arts, crafts and sewing. Provide the output as a comma separated list, surround each word in single quotes, each word as lower case, each word is singular\""
   ]
  },
  {
   "cell_type": "code",
   "execution_count": null,
   "id": "dad3abdf-7a0e-442b-856b-51f03c6ced31",
   "metadata": {
    "tags": []
   },
   "outputs": [],
   "source": [
    "product_pool = ['paintbrush', 'sketchbook', 'easel', 'canvas', 'palette', 'pastel', 'marker', 'charcoal', 'calligraphy', 'ink', \n",
    "                'watercolor', 'acrylic paints', 'oil brushes', 'oil for painting', 'pencil', 'eraser', 'sharpener', 'ruler', 'compass', 'protractor', 'scissor', \n",
    "                'glue', 'tape', 'stencil', 'stamp', 'embosser', 'embroidery', 'needle', 'thread', 'yarn', 'fabric', 'felt', 'ribbon', \n",
    "                'button', 'zipper', 'clasp', 'hook', 'bead', 'sequin', 'feather', 'leather', 'clay', 'polymer clay', 'resin', 'mold', \n",
    "                'air dry clay', 'carving tools', 'engraving tools', 'etching tools', 'printing supplies', 'calligraphy kit', \n",
    "                'lettering', 'font', 'typeface', \n",
    "                'quilling', 'origami', 'papercutting', 'decoupage', 'collage', 'mosaic', 'macrame', 'weaving', 'knitting', \n",
    "                'crocheting', 'felting', 'dyeing', 'painting', 'sketching', 'drawing', 'coloring', 'scrapbooking', 'journaling', \n",
    "                'cardmaking', 'stamping', 'stenciling', 'woodburning', 'woodcarving', 'metalsmithing', 'jewelry', 'beading', \n",
    "                'wirework', 'enameling', 'glassblowing', 'ceramics', 'pottery', 'sculpture', 'photography', 'framing', 'matting']"
   ]
  },
  {
   "cell_type": "code",
   "execution_count": null,
   "id": "ccf0d034-e2c8-48ee-969a-0698f90a28d6",
   "metadata": {
    "tags": []
   },
   "outputs": [],
   "source": [
    "# author generated\n",
    "product_prefix_pool = ['cotton', 'polyester', 'glass', 'wooden', 'full-color', 'multicolored', 'natural', 'premium', 'custom',\n",
    "                      'rubber', 'personalized', 'durable', 'sturdy', 'easy to handle', 'beautiful', 'sleek']"
   ]
  },
  {
   "cell_type": "code",
   "execution_count": null,
   "id": "d6f55def-8cb9-49ad-82a8-5255712c8d92",
   "metadata": {
    "tags": []
   },
   "outputs": [],
   "source": [
    "# author generated\n",
    "product_suffix_pool = ['for beginners', 'perfect for beginners', 'complete kit', '120 pieces kit', 'starter kit', 'for Christmas trees',\n",
    "                      'pack of 1', 'pack of 3', 'pack of 5', 'pack of 10', 'for drawing', 'for illustration', 'for all media', 'for coloring',\n",
    "                      'acid free', 'for wedding', 'for anniversary', 'for birthdays', 'for engagement', 'with floral pattern',\n",
    "                      'mounted', 'for card making', 'large bundle', 'for crafting', 'for DIY projects', 'for toys, sporting goods and glass',\n",
    "                      'DIY arts, crafts project', 'for beginners and professionals']"
   ]
  },
  {
   "cell_type": "code",
   "execution_count": null,
   "id": "3e94258c-43ac-48e4-ae7e-1281d8736ded",
   "metadata": {
    "tags": []
   },
   "outputs": [],
   "source": [
    "dat = rgh.create_dataset(size_factor = 3, \n",
    "                   total_votes = np.arange(10, 80),\n",
    "                   helpful_votes = np.arange(9, 77), \n",
    "                   scale = 0.6, \n",
    "                   review_years = np.arange(2001, 2011), \n",
    "                   product_category = 'Arts_Crafts_Sewing', \n",
    "                   product_components = [product_prefix_pool, product_pool, product_suffix_pool],\n",
    "                   marketplace_factor = 0.3)"
   ]
  },
  {
   "cell_type": "code",
   "execution_count": null,
   "id": "fb41c15b-9259-4a87-9256-b59d880760b0",
   "metadata": {
    "tags": []
   },
   "outputs": [],
   "source": [
    "reviews = pd.read_parquet(s3_bucket_text + \n",
    "                          '/review_body_headline/a15fc40fcfa545bb93730f74a462d1a3_2.snappy.parquet')"
   ]
  },
  {
   "cell_type": "code",
   "execution_count": null,
   "id": "07d41ed7-4811-45d5-b052-9d5e32c82504",
   "metadata": {
    "tags": []
   },
   "outputs": [],
   "source": [
    "dat[\"review_headline\"] = reviews.iloc[0:dat.shape[0]][\"review_headline\"].array\n",
    "dat[\"review_body\"] = reviews.iloc[0:dat.shape[0]][\"review_body\"].array"
   ]
  },
  {
   "cell_type": "code",
   "execution_count": null,
   "id": "4704a914-9d8d-4776-a9e0-bb3fab890cb1",
   "metadata": {
    "tags": []
   },
   "outputs": [],
   "source": [
    "wr.s3.to_parquet(\n",
    "    df = dat[[\"product_category\", \"marketplace\", \"customer_id\", \"review_id\", \"product_id\", \"product_title\", \"star_rating\",\n",
    "            \"helpful_votes\", \"total_votes\", \"insight\", \"review_headline\", \"review_body\", \"review_date\", \"review_year\"]],\n",
    "    path = s3_bucket_output,\n",
    "    dataset = True,\n",
    "    max_rows_by_file = 3000000,\n",
    "    partition_cols = ['product_category']\n",
    ")"
   ]
  },
  {
   "cell_type": "markdown",
   "id": "abb4b7e2-867d-4b87-a179-d281b65f5383",
   "metadata": {},
   "source": [
    "## Health_Household\n",
    "\n",
    "Prompt: \"Generate 50 products related to health and household. Provide the output as a comma separated list, surround each word in single quotes, each word as lower case, each word is singular\""
   ]
  },
  {
   "cell_type": "code",
   "execution_count": null,
   "id": "b1e2e353-2e71-4325-841d-859e26780aeb",
   "metadata": {
    "tags": []
   },
   "outputs": [],
   "source": [
    "product_pool = ['vitamin', 'supplement', 'medicine', 'bandage', 'thermometer', 'disinfectant', 'soap', 'shampoo', 'conditioner', \n",
    "                'toothbrush', 'toothpaste', 'floss', 'mouthwash', 'deodorant', 'lotion', 'sunscreen', 'cleanser', 'towel', \n",
    "                'tissue', 'detergent', 'bleach', 'sponge', 'brush', 'mop', 'broom', 'vacuum', 'duster', 'trash', 'can', 'bag', \n",
    "                'container', 'box', 'basket', 'organizer', 'shelf', 'rack', 'closet', 'cabinet', 'drawer', 'light', 'bulb', \n",
    "                'battery', 'charger', 'cable', 'adapter', 'extension', 'cord', 'tape', \n",
    "                'glue', 'scissors']"
   ]
  },
  {
   "cell_type": "markdown",
   "id": "9cd37cfe-f975-40bb-9453-a38590f87802",
   "metadata": {},
   "source": [
    "Prompt: \"Generate 50 words that describe products for health and household. Each word must be an adjective. Provide the output as a comma separated list, surround each word in single quotes, each word as lower case, each word is singular\""
   ]
  },
  {
   "cell_type": "code",
   "execution_count": null,
   "id": "5f20c564-cafc-4706-aca1-aa5ee4cde846",
   "metadata": {
    "tags": []
   },
   "outputs": [],
   "source": [
    "product_prefix_pool = ['natural','organic','eco-friendly','sustainable','biodegradable','non-toxic','hypoallergenic',\n",
    "                       'cruelty-free','vegan','plant-based','gentle','fragrance-free','antibacterial','antimicrobial',\n",
    "                       'multipurpose','versatile','durable','long-lasting','compact','lightweight','ergonomic',\n",
    "                       'energy-efficient','water-saving','stain-resistant','scratch-proof','unscented','disinfecting',\n",
    "                       'deodorizing','air-purifying','odor-eliminating','moisture-wicking','quick-drying','absorbent',\n",
    "                       'leak-proof','spill-proof','dustproof','lint-free','pet-friendly','child-safe','dishwasher-safe',\n",
    "                       'microwave-safe','oven-safe','freezer-safe','insulated','recyclable','compostable']"
   ]
  },
  {
   "cell_type": "code",
   "execution_count": null,
   "id": "28e39112-7b0f-48ac-b5ab-5598c0e3e021",
   "metadata": {
    "tags": []
   },
   "outputs": [],
   "source": [
    "# author generated\n",
    "product_suffix_pool = ['under sink storage', 'for office and living room', 'for baby room', 'with skin restorative complex',\n",
    "                      'with hair restorative complex', 'navy blue', 'green', 'blue', 'yellow', 'white', 'grey', 'black',\n",
    "                      'natural color', 'with woodgrain pattern', 'with hooks', 'smell preventing', 'smell trapping', 'for kitchen',\n",
    "                      'for bathroom', 'for toilets', 'for closet', 'child-safe', 'kid-safe']"
   ]
  },
  {
   "cell_type": "code",
   "execution_count": null,
   "id": "79a1d07d-976c-48fb-b564-2c3dcaecc8a1",
   "metadata": {
    "tags": []
   },
   "outputs": [],
   "source": [
    "dat = rgh.create_dataset(size_factor = 2, \n",
    "                   total_votes = np.arange(7, 69),\n",
    "                   helpful_votes = np.arange(4, 50), \n",
    "                   scale = 0.2, \n",
    "                   review_years = np.arange(1998, 2013), \n",
    "                   product_category = 'Health_Household', \n",
    "                   product_components = [product_prefix_pool, product_pool, product_suffix_pool],\n",
    "                   marketplace_factor = 1)"
   ]
  },
  {
   "cell_type": "code",
   "execution_count": null,
   "id": "954ff6a0-1a7e-42e9-8e17-2143595a9560",
   "metadata": {
    "tags": []
   },
   "outputs": [],
   "source": [
    "reviews = pd.read_parquet(s3_bucket_text + \n",
    "                          '/review_body_headline/c74b5acddec04b65a16193140fd25fab_0.snappy.parquet')"
   ]
  },
  {
   "cell_type": "code",
   "execution_count": null,
   "id": "ede875aa-8b05-4737-8ef1-7c63e033509d",
   "metadata": {
    "tags": []
   },
   "outputs": [],
   "source": [
    "dat[\"review_headline\"] = reviews.iloc[0:dat.shape[0]][\"review_headline\"].array\n",
    "dat[\"review_body\"] = reviews.iloc[0:dat.shape[0]][\"review_body\"].array"
   ]
  },
  {
   "cell_type": "code",
   "execution_count": null,
   "id": "efef98e1-b7dc-425f-8774-e87e7e61c2df",
   "metadata": {
    "tags": []
   },
   "outputs": [],
   "source": [
    "row_marker = dat.shape[0]\n",
    "row_marker"
   ]
  },
  {
   "cell_type": "code",
   "execution_count": null,
   "id": "aa5d55ca-ad17-4cdb-8b4f-be394dd45536",
   "metadata": {
    "tags": []
   },
   "outputs": [],
   "source": [
    "wr.s3.to_parquet(\n",
    "    df = dat[[\"product_category\", \"marketplace\", \"customer_id\", \"review_id\", \"product_id\", \"product_title\", \"star_rating\",\n",
    "            \"helpful_votes\", \"total_votes\", \"insight\", \"review_headline\", \"review_body\", \"review_date\", \"review_year\"]],\n",
    "    path = s3_bucket_output,\n",
    "    dataset = True,\n",
    "    max_rows_by_file = 3000000,\n",
    "    partition_cols = ['product_category']\n",
    ")"
   ]
  },
  {
   "cell_type": "markdown",
   "id": "aae37da3-a9c5-470d-8b18-b57d89b3cc6a",
   "metadata": {},
   "source": [
    "## Computers\n",
    "\n",
    "Prompt: \"Generate 50 products related to computers. Provide the output as a comma separated list, surround each word in single quotes, each word as lower case, each word is singular\""
   ]
  },
  {
   "cell_type": "code",
   "execution_count": null,
   "id": "ac2ffda7-b54c-4b35-a1ab-69bf6bc1608d",
   "metadata": {
    "tags": []
   },
   "outputs": [],
   "source": [
    "product_pool = ['laptop','desktop','keyboard','mouse','monitor','printer','speaker','webcam','headset','microphone','router',\n",
    "                'modem','cable','adapter','charger','battery','case','ram','processor','motherboard','graphics card',\n",
    "                'power supply','hard drive','solid state drive','optical drive','projector','scanner','camera','camcorder',\n",
    "                'tablet','stylus','dock','hub','antivirus','firewall','vpn','network switch','ethernet cable','wireless adapter',\n",
    "                'server','software','operating system','application','external_drive','usb flash drive','cooling fan']"
   ]
  },
  {
   "cell_type": "markdown",
   "id": "127171ff-bad9-4503-a646-63ed579df2c2",
   "metadata": {},
   "source": [
    "Prompt: \"Generate 50 words related to computer products. Each word must be an adjective. Provide the output as a comma separated list, surround each word in single quotes, each word as lower case, each word is singular\""
   ]
  },
  {
   "cell_type": "code",
   "execution_count": null,
   "id": "a67c8e2e-d1d4-4789-99c8-8ea0a2516450",
   "metadata": {
    "tags": []
   },
   "outputs": [],
   "source": [
    "product_prefix_pool = ['portable','lightweight','compact','ergonomic','sleek','durable','intuitive','innovative','versatile',\n",
    "                       'responsive','efficient','secure','user-friendly','high-performance','multifunctional','customizable',\n",
    "                       'advanced','intelligent','eco-friendly','wireless','interactive','multimedia','cutting-edge','integrated',\n",
    "                       'futuristic','sophisticated','robust','powerful','flexible','dynamic','compatible','intuitive',\n",
    "                       'energy-efficient','reliable','stylish','elegant','rugged','practical','affordable','accessible',\n",
    "                       'high-quality','fast','smart','premium','versatile','modern','adaptable','convenient','streamlined']"
   ]
  },
  {
   "cell_type": "code",
   "execution_count": null,
   "id": "5405b889-73e1-44cb-a923-791960e8747b",
   "metadata": {
    "tags": []
   },
   "outputs": [],
   "source": [
    "# author generated\n",
    "product_suffix_pool = ['with 6 outlets', 'quiet', 'very quiet', 'small size', 'under the desk storage', 'modern standby support',\n",
    "                      'black', 'fully modular', '1 year warranty', '2 years warranty', '10 years warranty', 'for gaming', \n",
    "                      'with cloud backup and virus protection', 'with cloud backup and black-web monitoring', 'upgraded version',\n",
    "                      'newest version', 'latest model', 'latest version', 'with updated firmware', 'water and dust resistant',\n",
    "                      '2nd generation', '1st generation', '3d generation', 'with a sleeve', 'unlocked', 'refurbished', 'renewed']"
   ]
  },
  {
   "cell_type": "code",
   "execution_count": null,
   "id": "80009f98-c89c-4b33-b1bb-eceb3d1369a8",
   "metadata": {
    "tags": []
   },
   "outputs": [],
   "source": [
    "dat = rgh.create_dataset(size_factor = 1, \n",
    "                   total_votes = np.arange(20, 120),\n",
    "                   helpful_votes = np.arange(10, 60), \n",
    "                   scale = 0.8, \n",
    "                   review_years = np.arange(1996, 2017), \n",
    "                   product_category = 'Computers', \n",
    "                   product_components = [product_prefix_pool, product_pool, product_suffix_pool],\n",
    "                   marketplace_factor = 0.4)"
   ]
  },
  {
   "cell_type": "markdown",
   "id": "4798119a-6773-44da-9f01-c2b40eeff2c5",
   "metadata": {},
   "source": [
    "Use remaining rows from the last reviews file:"
   ]
  },
  {
   "cell_type": "code",
   "execution_count": null,
   "id": "607cadc1-ae19-4add-9e88-67f45256af75",
   "metadata": {
    "tags": []
   },
   "outputs": [],
   "source": [
    "dat[\"review_headline\"] = reviews.iloc[row_marker:(row_marker + dat.shape[0])][\"review_headline\"].array\n",
    "dat[\"review_body\"] = reviews.iloc[row_marker:(row_marker + dat.shape[0])][\"review_body\"].array"
   ]
  },
  {
   "cell_type": "code",
   "execution_count": null,
   "id": "37bc49bd-9474-4720-99bc-29b6b25161de",
   "metadata": {
    "tags": []
   },
   "outputs": [],
   "source": [
    "wr.s3.to_parquet(\n",
    "    df = dat[[\"product_category\", \"marketplace\", \"customer_id\", \"review_id\", \"product_id\", \"product_title\", \"star_rating\",\n",
    "            \"helpful_votes\", \"total_votes\", \"insight\", \"review_headline\", \"review_body\", \"review_date\", \"review_year\"]],\n",
    "    path = s3_bucket_output,\n",
    "    dataset = True,\n",
    "    max_rows_by_file = 3000000,\n",
    "    partition_cols = ['product_category']\n",
    ")"
   ]
  },
  {
   "cell_type": "markdown",
   "id": "bb56ae94-4c1d-4449-ab1e-5f79e8aa9562",
   "metadata": {},
   "source": [
    "## Books\n",
    "\n",
    "Prompt: \"Generate 50 products related to books. Provide the output as a comma separated list, surround each word in single quotes, each word as lower case, each word is singular\""
   ]
  },
  {
   "cell_type": "code",
   "execution_count": null,
   "id": "b51ad050-b25f-4de2-8aa5-63fe0eae279b",
   "metadata": {
    "tags": []
   },
   "outputs": [],
   "source": [
    "product_pool = ['book', 'novel', 'textbook', 'magazine', 'comic', 'journal', 'dictionary', 'thesaurus', 'encyclopedia', \n",
    "                'atlas', 'anthology', 'memoir', 'biography', 'autobiography', 'essay', 'poetry', 'play', 'script', \n",
    "                'manuscript', 'ebook', 'audiobook', 'paperback', 'hardcover', 'bookmark', 'bookcase', 'bookshelf', \n",
    "                'bookstand', 'bookholder', 'bookend', 'booklight', 'bookbag', 'bookcover', 'bookbinding', 'bookplate', \n",
    "                'bookmarker', 'booklet',  \n",
    "                 'bookmark']"
   ]
  },
  {
   "cell_type": "markdown",
   "id": "36d1b028-4c0f-429e-b2fc-4e0884b89aa6",
   "metadata": {},
   "source": [
    "Prompt: \"Generate 50 products related to books. Each word must be an adjective. Provide the output as a comma separated list, surround each word in single quotes, each word as lower case, each word is singular\""
   ]
  },
  {
   "cell_type": "code",
   "execution_count": null,
   "id": "3109c7ba-131f-4d88-a3c4-622f22063f70",
   "metadata": {
    "tags": []
   },
   "outputs": [],
   "source": [
    "product_prefix_pool = ['literary', 'educational', 'fictional', 'non-fictional', 'classic', 'modern', 'best-selling', 'popular', \n",
    "                       'acclaimed', 'award-winning', 'illustrated', 'hardcover', 'paperback', 'digital', 'audio', 'signed', \n",
    "                       'collectible', 'rare', 'vintage', 'antique', 'scholarly', 'academic', 'reference', 'informative', \n",
    "                       'instructional', 'inspirational', 'motivational', 'self-help', 'biographical', 'autobiographical', \n",
    "                       'historical', 'scientific', 'technical', 'childrens', 'young adult', 'adventure', 'romantic', 'mysterious', \n",
    "                       'suspenseful', 'thrilling', 'horror', 'fantasy', 'sci-fi', 'comic', 'graphic', 'coffee table', 'travel', \n",
    "                       'cookbook']"
   ]
  },
  {
   "cell_type": "code",
   "execution_count": null,
   "id": "a0253035-6741-43d8-87c7-b1fbab9fb6a9",
   "metadata": {
    "tags": []
   },
   "outputs": [],
   "source": [
    "# author generated\n",
    "product_suffix_pool = ['large print', 'electronic version', 'with authors commentary', 'with excerpts from the upcoming book',\n",
    "                      'latest edition', 'comprehensive volume', 'full volume', 'unabridged', 'English translation', 'French translation',\n",
    "                      'Spanish translation', 'Russian translation', 'Chinese translation', 'unabridged version', '2-volume set',\n",
    "                      'with updates', 'student text', 'self-teaching guide', 'selected works', 'trilogy', 'boxed set', 'leather bound set',\n",
    "                      'cardstock', '1 pc', 'cute']"
   ]
  },
  {
   "cell_type": "code",
   "execution_count": null,
   "id": "e61db5e9-a9f5-4371-9371-2f1ec194f387",
   "metadata": {
    "tags": []
   },
   "outputs": [],
   "source": [
    "dat = rgh.create_dataset(size_factor = 3, \n",
    "                   total_votes = np.arange(40, 150, 3),\n",
    "                   helpful_votes = np.arange(10, 30), \n",
    "                   scale = 0.4, \n",
    "                   review_years = np.arange(1996, 2018), \n",
    "                   product_category = 'Books', \n",
    "                   product_components = [product_prefix_pool, product_pool, product_suffix_pool],\n",
    "                   marketplace_factor = 1)"
   ]
  },
  {
   "cell_type": "code",
   "execution_count": null,
   "id": "6d1a36bd-0f0c-4297-8db0-d3ee6e37f96a",
   "metadata": {
    "tags": []
   },
   "outputs": [],
   "source": [
    "reviews = pd.read_parquet(s3_bucket_text + \n",
    "                          '/review_body_headline/c74b5acddec04b65a16193140fd25fab_1.snappy.parquet')"
   ]
  },
  {
   "cell_type": "code",
   "execution_count": null,
   "id": "6adb0753-77ee-4447-8582-3d4f7d30f85d",
   "metadata": {
    "tags": []
   },
   "outputs": [],
   "source": [
    "dat[\"review_headline\"] = reviews.iloc[0:dat.shape[0]][\"review_headline\"].array\n",
    "dat[\"review_body\"] = reviews.iloc[0:dat.shape[0]][\"review_body\"].array"
   ]
  },
  {
   "cell_type": "code",
   "execution_count": null,
   "id": "27ec57ad-705a-4c94-aa42-0acb2f258948",
   "metadata": {
    "tags": []
   },
   "outputs": [],
   "source": [
    "wr.s3.to_parquet(\n",
    "    df = dat[[\"product_category\", \"marketplace\", \"customer_id\", \"review_id\", \"product_id\", \"product_title\", \"star_rating\",\n",
    "            \"helpful_votes\", \"total_votes\", \"insight\", \"review_headline\", \"review_body\", \"review_date\", \"review_year\"]],\n",
    "    path = s3_bucket_output,\n",
    "    dataset = True,\n",
    "    max_rows_by_file = 3000000,\n",
    "    partition_cols = ['product_category']\n",
    ")"
   ]
  },
  {
   "cell_type": "markdown",
   "id": "3c5df42d-fb0b-4bf0-9c8d-09587dd4f4bf",
   "metadata": {},
   "source": [
    "## Music\n",
    "\n",
    "Prompt: \"Generate 100 music products. Provide the output as a comma separated list, surround each word in single quotes, each word as lower case, each word is singular\""
   ]
  },
  {
   "cell_type": "code",
   "execution_count": null,
   "id": "40f01ef9-d127-4dd1-9467-2de3cbf225f3",
   "metadata": {
    "tags": []
   },
   "outputs": [],
   "source": [
    "product_pool = ['guitar', 'piano', 'drum', 'violin', 'trumpet', 'saxophone', 'harmonica', 'flute', 'clarinet', 'trombone', \n",
    "                'cello', 'harp', 'ukulele', 'synthesizer', 'keyboard', 'microphone', 'amplifier', 'speaker', 'headphone', \n",
    "                'mixer', 'turntable', 'recorder', 'tuner', 'metronome', 'cajon', 'tambourine', 'maracas', 'cowbell', \n",
    "                'shaker', 'triangle', 'cymbal', 'gong', 'xylophone', 'vibraphone', 'melodica', 'kazoo', 'accordion', \n",
    "                'banjo', 'mandolin', 'sitar', 'kalimba', 'didgeridoo', 'djembe', 'bongo', 'congas', 'timbale', 'clave', \n",
    "                'guiro', 'rainstick', 'beatbox', 'sampler', 'vocoder', 'distortion', 'reverb', 'delay', 'compressor', \n",
    "                'equalizer', 'looper', 'sequencer', 'drumpad', 'groovebox', 'guitar', \n",
    "                'pedal board', 'cable manager', 'music stand', 'sustain', 'capo', 'slidebar', 'pick', 'drumstick', 'mallets', \n",
    "                'bagpipe', 'shehnai', 'erhu', 'koto', 'shamisen', 'saz', 'oud', 'qanun', 'daf', 'bodhrán', 'concertina', \n",
    "                'harmonica', 'melodion', 'steelpan', 'washboard', 'jawsharp', 'mridangam', 'ghatam', 'kanjira', 'veena', 'sarangi']"
   ]
  },
  {
   "cell_type": "code",
   "execution_count": null,
   "id": "6e25e7df-c9f2-44b5-80cd-dddcace31773",
   "metadata": {
    "tags": []
   },
   "outputs": [],
   "source": [
    "# author generated\n",
    "product_prefix_pool = ['acoustic', 'electric', 'bass', 'mahogany', 'portable', 'full size', 'black', 'professional',\n",
    "                      'semi-professional', 'smart', 'rosewood', 'miniature', 'wooden', 'all wood']"
   ]
  },
  {
   "cell_type": "code",
   "execution_count": null,
   "id": "96fae3be-a5e0-4a39-89d2-3a60a2f46aee",
   "metadata": {
    "tags": []
   },
   "outputs": [],
   "source": [
    "# author generated\n",
    "product_suffix_pool = ['instrument kit', 'with tuner', 'with shoulder strap', 'with picks', 'with picks for beginners',\n",
    "                      'with the guide book for beginners', 'with extra strings', 'table version, collectable', 'collectable',\n",
    "                      'small size', 'table top set', 'with travel case', 'with power supply', 'for beginners', 'expandable',\n",
    "                      'for electronic music making', 'black and silver', 'silver', 'black', 'handheld', 'with a switch', \n",
    "                      'concert grade', 'for kids', 'for adults', 'full size', 'natural wood gloss']"
   ]
  },
  {
   "cell_type": "code",
   "execution_count": null,
   "id": "b0a38552-3e5b-44a4-9887-a438ca0ca2d0",
   "metadata": {
    "tags": []
   },
   "outputs": [],
   "source": [
    "dat = rgh.create_dataset(size_factor = 3, \n",
    "                   total_votes = np.arange(11, 91),\n",
    "                   helpful_votes = np.arange(3, 71), \n",
    "                   scale = 0.4, \n",
    "                   review_years = np.arange(1996, 2018), \n",
    "                   product_category = 'Music', \n",
    "                   product_components = [product_prefix_pool, product_pool, product_suffix_pool],\n",
    "                   marketplace_factor = 1)"
   ]
  },
  {
   "cell_type": "code",
   "execution_count": null,
   "id": "51234601-b35c-4205-8af3-74ba2cce5f01",
   "metadata": {
    "tags": []
   },
   "outputs": [],
   "source": [
    "reviews = pd.read_parquet(s3_bucket_text + \n",
    "                          '/review_body_headline/c74b5acddec04b65a16193140fd25fab_2.snappy.parquet')"
   ]
  },
  {
   "cell_type": "code",
   "execution_count": null,
   "id": "7d8acaec-018c-45e3-a518-37f38d7b1ddf",
   "metadata": {
    "tags": []
   },
   "outputs": [],
   "source": [
    "dat[\"review_headline\"] = reviews.iloc[0:dat.shape[0]][\"review_headline\"].array\n",
    "dat[\"review_body\"] = reviews.iloc[0:dat.shape[0]][\"review_body\"].array"
   ]
  },
  {
   "cell_type": "code",
   "execution_count": null,
   "id": "70fca5a8-ec63-487d-b9ff-696658c3e82a",
   "metadata": {
    "tags": []
   },
   "outputs": [],
   "source": [
    "wr.s3.to_parquet(\n",
    "    df = dat[[\"product_category\", \"marketplace\", \"customer_id\", \"review_id\", \"product_id\", \"product_title\", \"star_rating\",\n",
    "            \"helpful_votes\", \"total_votes\", \"insight\", \"review_headline\", \"review_body\", \"review_date\", \"review_year\"]],\n",
    "    path = s3_bucket_output,\n",
    "    dataset = True,\n",
    "    max_rows_by_file = 3000000,\n",
    "    partition_cols = ['product_category']\n",
    ")"
   ]
  },
  {
   "cell_type": "markdown",
   "id": "fe8e4aee-62ea-4369-ba98-e11ee8047262",
   "metadata": {},
   "source": [
    "## Movies_TV\n",
    "\n",
    "Here the authors sent multiple requests to the model to generate movies and TV titles for different genres. Prompts:\n",
    "\n",
    "- Generate 50 titles for action movies. Provide the output as a comma separated list, surround each title in single quotes.\n",
    "\n",
    "- Generate 50 titles for romantic movies. Provide the output as a comma separated list, surround each title in single quotes.\n",
    "\n",
    "- Generate 50 titles for documentary movies. Provide the output as a comma separated list, surround each title in single quotes.\n",
    "\n",
    "- Generate 50 titles for historic movies. Provide the output as a comma separated list, surround each title in single quotes.\n",
    "\n",
    "- Generate 50 titles for children's movies. Provide the output as a comma separated list, surround each title in single quotes.\n",
    "\n",
    "- Generate 50 titles for comedic movies. Provide the output as a comma separated list, surround each title in single quotes."
   ]
  },
  {
   "cell_type": "code",
   "execution_count": null,
   "id": "3352cb64-f48d-492a-aee2-18a7d3ef5c12",
   "metadata": {
    "tags": []
   },
   "outputs": [],
   "source": [
    "product_pool = ['Rogue Assassin', 'Explosive Vengeance', 'Lethal Strike', 'Adrenaline Rush', 'Bullet Proof', 'Unstoppable Force',\n",
    "                       'Maximum Impact', 'Relentless Pursuit', 'Crimson Requiem', 'Shattered Redemption', 'Fists of Fury', \n",
    "                       'Chaos Reigned', 'Collateral Damage', 'Eternal Reckoning', 'Unleashing the Beast', 'Scorched Earth', \n",
    "                       'Mercenary Uprising', 'Ultima Protocol', 'Deadly Infiltration', 'Expendable Retribution', 'Savage Fury', \n",
    "                       'Firestorm Rising', 'Armageddon Operative', 'Doomsday Directive', 'Renegade Enforcer', 'Detonation Point', \n",
    "                       'Apex Predator', 'Decimation Code', 'Crimson Retaliation', 'Havoc Unleashed', 'Cataclysmic Impact', \n",
    "                       'Hellfire Blitz', 'Obliteration Protocol', 'Annihilation Sequence', 'Infernal Supremacy', 'Archangels Wrath', \n",
    "                       'Epoch of Carnage', 'Extinction Event', 'Devastation Vortex', 'Apocalyptic Purge', 'Maelstrom Operative', \n",
    "                       'Cyber Insurrection', 'Terminal Velocity', 'Rampage Agenda', 'Vanguard of Chaos', 'Cataclysmic Vengeance', \n",
    "                       'Maelstrom Rising', 'Eternal Embrace', 'Loves Symphony', 'Whispers of the Heart', 'Destined Souls', \n",
    "                       'Midnight Serenade', 'Autumn Bliss', 'Unbreakable Bond', 'Crimson Desire', 'Serendipitous Encounter', \n",
    "                       'Forever and a Day', 'Twilight Rendezvous', 'Celestial Dance', 'Velvet Embrace', 'Moonlit Passion', \n",
    "                       'Everlasting Promise', 'Amorous Rhapsody', 'Rapturous Rhythm', 'Enchanted Affection', 'Soulful Symphony', \n",
    "                       'Ardent Devotion', 'Poetic Bliss', 'Amorous Overture', 'Intoxicating Melody', 'Cherished Rapture', \n",
    "                       'Infinite Adoration', 'Ethereal Caress', 'Spellbinding Aria', 'Transcendent Desire', 'Impassioned Embrace', \n",
    "                       'Entrancing Sonata', 'Tender Rhapsody', 'Fervent Allegro', 'Blissful Serenade', 'Enamored Concerto', \n",
    "                       'Exquisite Affinity', 'Mesmerizing Overture', 'Euphoric Cadence', 'Rapturous Reverie', 'Impassioned Crescendo', \n",
    "                       'Enthralling Opus', 'Amorous Elegy', 'Fervent Adagio', 'Soulful Interlude', 'Captivating Refrain', \n",
    "                       'Entrancing Idyll', 'Ethereal Rhapsody', 'Enraptured Fantasia', 'Unraveling the Universe', \n",
    "                       'The Secret Lives of Oceans', 'Resilience: Stories of Human Triumph', 'Endangered: A Cry for Conservation', \n",
    "                       'The Digital Revolution: Reshaping Our World', 'Culinary Explorers: A Gastronomic Journey', \n",
    "                       'Homeless Voices: Unheard Stories', 'Behind the Canvas: The Art of Masterpieces', \n",
    "                       'Untamed Wilderness: Exploring Earths Last Frontiers', 'The Rise of Artificial Intelligence', \n",
    "                       'Forgotten Histories: Untold Tales of the Past', 'The Mindfulness Movement: Finding Inner Peace', \n",
    "                       'Extreme Survival: Pushing Human Limits', 'Beneath the Surface: Uncovering Ancient Civilizations', \n",
    "                       'The Future of Energy: Sustainable Solutions', 'Monuments of Humankind: Architectural Wonders', \n",
    "                       'Unsung Heroes: Inspiring Acts of Courage', 'The Cosmic Odyssey: Exploring the Universe', \n",
    "                       'Music Across Cultures: A Melodic Journey', 'The Science of Happiness: Unlocking Lifes Secrets', \n",
    "                       'Pioneers of Progress: Visionaries Who Shaped Our World', 'The World of Sports: Passion and Perseverance', \n",
    "                       'Forgotten Wars: Untold Stories of Conflict', 'The Future of Medicine: Revolutionary Breakthroughs', \n",
    "                       'Extraordinary Minds: Exploring Genius', 'The Language Barrier: Bridging Cultural Divides', \n",
    "                       'Sustainable Living: A Path to a Greener Future', 'Unsung Innovators: Ideas That Changed the World', \n",
    "                       'The Power of Dreams: Inspiring Life Stories', 'Vanishing Traditions: Preserving Cultural Heritage', \n",
    "                       'The Invisible Struggle: Mental Health Unveiled', 'Frontiers of Exploration: Pushing the Boundaries', \n",
    "                       'The Science of Food: Unraveling Culinary Mysteries', 'The Art of Storytelling: Captivating Narratives', \n",
    "                       'The Human Condition: Exploring Our Existence', 'Saving Species: Conservation Efforts Worldwide', \n",
    "                       'The World of Dance: Movement and Expression', 'Underwater Wonders: Exploring Earths Oceans', \n",
    "                       'The Future of Transportation: Innovative Solutions', 'Citizen Scientists: Unlocking Knowledge for All', \n",
    "                       'The Hidden World of Insects: Tiny Marvels', 'Extraordinary Educators: Inspiring Young Minds', \n",
    "                       'The Science of Love: Understanding Human Connections', 'Unsung Heroes of History: Untold Stories of Bravery',\n",
    "                       'The Music Revolution: Shaping Cultural Movements', 'Extreme Environments: Life on the Edge',\n",
    "                       'The Conquerors Legacy', 'Echoes of Valor', 'Destinys Crucible', 'Whispers of Revolution', \n",
    "                       'The Monarchs Downfall', 'Forged in Fire', 'Clash of Empires', 'The Forgotten Warrior', \n",
    "                       'Shadows of the Past', 'A Nation Divided', 'The Price of Freedom', 'Legends of the Battleground', \n",
    "                       'Triumph and Tragedy', 'Relics of Antiquity', 'Echoes of Rebellion', 'The Sands of Time', 'Immortal Legacies', \n",
    "                       'The Rise of a Dynasty', 'Whispers of the Ancients', 'Eternal Conquest', 'The Unforgotten Heroes', \n",
    "                       'Remnants of Glory', 'Echoes of Rebellion', 'The Vanquished Empire', 'Remnants of an Era', \n",
    "                       'Relics of a Bygone Age', 'The Fallen Kingdoms', 'Whispers of the Ancestors', 'Echoes of Valor', \n",
    "                       'Immortal Legacies', 'The Rise of a Dynasty', 'Whispers of the Ancients', 'Eternal Conquest', \n",
    "                       'The Unforgotten Heroes', 'Remnants of Glory', 'Echoes of Rebellion', 'The Vanquished Empire', \n",
    "                       'Remnants of an Era', 'Relics of a Bygone Age', 'The Fallen Kingdoms', 'Whispers of the Ancestors', \n",
    "                       'Echoes of Valor', 'Immortal Legacies', 'The Rise of a Dynasty', 'Whispers of the Ancients', \n",
    "                       'Eternal Conquest', 'The Magical Treehouse Adventure', 'Dino Explorers', 'Starry Night Dreamers', \n",
    "                       'The Curious Robot', 'Mermaids Treasure Cove', 'Superhero Schoolyard', 'Friendship Forest Fables', \n",
    "                       'Circus of Wonders', 'Enchanted Woodlands', 'Intergalactic Explorers', 'Unicorn Meadows', 'Pirate Island Quest', \n",
    "                       'Fairytale Kingdom Chronicles', 'Wizards Apprentice', 'Dinosaur Rescue Rangers', 'Candy Land Shenanigans', \n",
    "                       'Mythical Creature Companions', 'Rainforest Rumble', 'Underwater Odyssey', 'Playtime Pandemonium', \n",
    "                       'Secret Clubhouse Capers', 'Puppet Theater Antics', 'Farmyard Frolic', 'Storybook Singalong', \n",
    "                       'Alien Adventurers', 'Magical Museum Mishaps', 'Superhero School', 'Enchanted Toy Emporium', \n",
    "                       'Outer Space Odyssey', 'Junkyard Robots', 'Mythical Creature Academy', 'Fairytale Forest Friends', \n",
    "                       'Circus of Dreams', 'Dinosaur Discoveries', 'Wonderland Wanders', 'Pirate Ship Escapades', \n",
    "                       'Magical Treehouse Chronicles', 'Superhero Sidekicks', 'Mermaid Melodies', 'Woodland Whimsies', \n",
    "                       'Alien Explorers', 'Candy Land Quests', 'Puppet Theater Plays', 'Farmyard Follies', 'Storybook Singalongs', \n",
    "                       'Rainforest Ramblings', 'The Laughing Llama', 'Giggles in the Grocery Aisle', 'Punchline Pandemonium', \n",
    "                       'Chuckle Chaos', 'Hysteria on the High Seas', 'Splitting Sides in Split', 'Knee-Slapping Knights', \n",
    "                       'Guffaw Galaxy', 'Chortles and Chaos', 'Snicker Snafus', 'Laughter Liftoff', 'Funny Farm Fiasco', \n",
    "                       'Giggle Galore', 'Mirth Mayhem', 'Hilarity Hijinks', 'Titter Town', 'Cackle Capers', 'Grin and Guffaw', \n",
    "                       'Rib-Tickling Romp', 'Laugh Riot Rampage', 'Yuks Unleashed', 'Snort-Worthy Shenanigans', 'Howl with Hilarity', \n",
    "                       'Chortle Circus', 'Guffaw Gala', 'Chuckle Champs', 'Funny Bone Bonanza', 'Laughter Lollapalooza', \n",
    "                       'Giggle Gang', 'Mirth Marathon', 'Grin Galore', 'Chuckle Chaos', 'Laugh-a-Palooza,' 'Comedy Caper',\n",
    "                       'Guffaw Gauntlet', 'Snicker Showdown', 'Hilarity Hell', 'Titter Tornado', 'Giggle Gauntlet', 'Mirth Madness',\n",
    "                       'Chuckle Champs', 'Laugh Riot Rodeo', 'Guffaw Galore', 'Snort-Worthy Showdown', 'Chortle Chaos', \n",
    "                       'Grin and Giggle', 'Mirth Mania']"
   ]
  },
  {
   "cell_type": "code",
   "execution_count": null,
   "id": "dd1de0b1-77c4-4151-9015-4fb72a7efedf",
   "metadata": {
    "tags": []
   },
   "outputs": [],
   "source": [
    "dat = rgh.create_dataset(size_factor = 3, \n",
    "                   total_votes = np.arange(15, 2000, 5),\n",
    "                   helpful_votes = np.arange(15, 1500), \n",
    "                   scale = 0.6, \n",
    "                   review_years = np.arange(2004, 2017), \n",
    "                   product_category = 'Movies_TV', \n",
    "                   product_components = [product_pool],\n",
    "                   marketplace_factor = 0.5)"
   ]
  },
  {
   "cell_type": "code",
   "execution_count": null,
   "id": "e4a2cd71-7768-45ce-81b2-5f5bd3d70b78",
   "metadata": {
    "tags": []
   },
   "outputs": [],
   "source": [
    "reviews = pd.read_parquet(s3_bucket_text + \n",
    "                          '/review_body_headline/instance1_dat1.parquet')"
   ]
  },
  {
   "cell_type": "code",
   "execution_count": null,
   "id": "dd6612b1-ff55-49e6-a1e7-ddb5aadf4a7c",
   "metadata": {
    "tags": []
   },
   "outputs": [],
   "source": [
    "dat[\"review_headline\"] = reviews.iloc[0:dat.shape[0]][\"review_headline\"].array\n",
    "dat[\"review_body\"] = reviews.iloc[0:dat.shape[0]][\"review_body\"].array"
   ]
  },
  {
   "cell_type": "code",
   "execution_count": null,
   "id": "8e9c949d-f56c-4be9-912c-a07f2c633183",
   "metadata": {
    "tags": []
   },
   "outputs": [],
   "source": [
    "wr.s3.to_parquet(\n",
    "    df = dat[[\"product_category\", \"marketplace\", \"customer_id\", \"review_id\", \"product_id\", \"product_title\", \"star_rating\",\n",
    "            \"helpful_votes\", \"total_votes\", \"insight\", \"review_headline\", \"review_body\", \"review_date\", \"review_year\"]],\n",
    "    path = s3_bucket_output,\n",
    "    dataset = True,\n",
    "    max_rows_by_file = 3000000,\n",
    "    partition_cols = ['product_category']\n",
    ")"
   ]
  },
  {
   "cell_type": "markdown",
   "id": "5a812de6-d1f4-4744-9297-3075050cda4e",
   "metadata": {},
   "source": [
    "## Grocery_Gourmet_Food"
   ]
  },
  {
   "cell_type": "markdown",
   "id": "ac240677-16ef-4460-8b2c-45962fa056ee",
   "metadata": {},
   "source": [
    "Prompt: \"Generate 100 products in groceries and gourmet foods. Provide the output as a comma separated list, surround each word in single quotes, each word as lower case, each word is singular\""
   ]
  },
  {
   "cell_type": "code",
   "execution_count": null,
   "id": "f278f389-d171-4156-a168-57b61fc35f4e",
   "metadata": {
    "tags": []
   },
   "outputs": [],
   "source": [
    "product_pool = ['apple', 'orange', 'banana', 'grape', 'lemon', 'lime', 'pineapple', 'mango', 'strawberry', 'blueberry', 'raspberry', 'blackberry', 'kiwi', 'peach', 'plum', 'apricot', 'nectarine', 'avocado', 'tomato', 'onion', 'potato', 'carrot', 'broccoli', 'cauliflower', 'spinach', 'lettuce', 'cucumber', 'bell pepper', 'zucchini', 'eggplant', 'mushroom', 'garlic', 'ginger', 'bread', 'bagel', 'croissant', 'muffin', 'doughnut', 'cookie', 'cake', 'pie', 'tart', 'pastry', 'cheese', 'yogurt', 'milk', 'butter', 'egg', 'beef', 'chicken', 'turkey', 'pork', 'fish', 'shrimp', \n",
    "                'crab', 'lobster', 'oyster', 'pasta', 'rice', 'cereal', 'oatmeal', 'honey', 'jam', 'peanut butter', 'olive oil', \n",
    "                'vinegar', 'ketchup', 'mustard', 'mayonnaise', 'salsa', 'hummus', 'guacamole', 'salad dressing', 'chip', 'cracker', \n",
    "                'pretzel', 'popcorn', 'nut', 'seed', 'dried fruit', 'candy', 'chocolate', 'ice cream', 'sorbet', 'froyo', 'coffee', \n",
    "                'tea', 'juice', 'soda', 'water', 'beer', 'wine', 'liquor']"
   ]
  },
  {
   "cell_type": "code",
   "execution_count": null,
   "id": "b30197c7-fdc3-436d-9f69-b48ed904ee75",
   "metadata": {
    "tags": []
   },
   "outputs": [],
   "source": [
    "product_prefix_pool = ['fresh','organic','gourmet','savory','sweet','tangy','zesty','creamy','crunchy','juicy',\n",
    "                       'succulent','tender','flavorful','aromatic','spicy','pungent','earthy','nutty','robust',\n",
    "                       'velvety','buttery','crispy','cheesy','baked','sauteed','grilled','smoked','brined','pickled',\n",
    "                       'fermented','dried','candied','glazed','frosted','toasted','infused','aged','artisanal',\n",
    "                       'premium','imported','exotic','rare','authentic','decadent','indulgent','exquisite','wholesome',\n",
    "                       'nutritious','delectable','mouthwatering']"
   ]
  },
  {
   "cell_type": "code",
   "execution_count": null,
   "id": "6a2c403a-3b86-45b2-a53e-97855b5c97f6",
   "metadata": {
    "tags": []
   },
   "outputs": [],
   "source": [
    "# author generated\n",
    "product_suffix_pool = ['box of 10', 'box of 5', 'box of 12', 'box of 24',\n",
    "                       '6 cans', '1 can', '5 bars', '10 bars',\n",
    "                       '1 bag', 'bag of 12', 'family pack', 'party pack', 'family sized bag',\n",
    "                       '1 pound', '5 pounds', \n",
    "                       '1 bottle', '2 bottles', '3 bottles', '12 bottles',\n",
    "                       'bundle of 3', '1 carton', '12 cartons',\n",
    "                       'a gift basket', 'celebration basket', \n",
    "                       'equally portioned', 'low calories', 'low in sugar', 'low in fat', 'vegan', 'vegetarian',\n",
    "                       'nuts and seeds free', 'low glycemic index', 'healthy food', 'great snack', 'great for kids',\n",
    "                       'great for kids and adults', 'sugarless', 'only natural sugar', 'no artificial sweeteners',\n",
    "                       'no high fructose syrup', 'no transfats', 'perfect for low calory diet']"
   ]
  },
  {
   "cell_type": "code",
   "execution_count": null,
   "id": "2017d9b4-36e9-4f5e-91a9-c9e133230573",
   "metadata": {
    "tags": []
   },
   "outputs": [],
   "source": [
    "dat = rgh.create_dataset(size_factor = 3, \n",
    "                   total_votes = np.arange(7, 50, 2),\n",
    "                   helpful_votes = np.arange(2, 45, 3), \n",
    "                   scale = 0.3, \n",
    "                   review_years = np.arange(1997, 2007), \n",
    "                   product_category = 'Grocery_Gourmet_Food', \n",
    "                   product_components = [product_prefix_pool, product_pool, product_suffix_pool],\n",
    "                   marketplace_factor = 0.9)"
   ]
  },
  {
   "cell_type": "code",
   "execution_count": null,
   "id": "be9fc646-8578-48df-8735-f944d1f0519e",
   "metadata": {
    "tags": []
   },
   "outputs": [],
   "source": [
    "reviews = pd.read_parquet(s3_bucket_text + \n",
    "                          '/review_body_headline/instance1_dat2.parquet')"
   ]
  },
  {
   "cell_type": "code",
   "execution_count": null,
   "id": "2a618034-556d-45a6-8773-2e48dc97f7ca",
   "metadata": {
    "tags": []
   },
   "outputs": [],
   "source": [
    "dat[\"review_headline\"] = reviews.iloc[0:dat.shape[0]][\"review_headline\"].array\n",
    "dat[\"review_body\"] = reviews.iloc[0:dat.shape[0]][\"review_body\"].array"
   ]
  },
  {
   "cell_type": "code",
   "execution_count": null,
   "id": "ce2a8662-80e3-4871-a9f5-f36d2564ad57",
   "metadata": {
    "tags": []
   },
   "outputs": [],
   "source": [
    "wr.s3.to_parquet(\n",
    "    df = dat[[\"product_category\", \"marketplace\", \"customer_id\", \"review_id\", \"product_id\", \"product_title\", \"star_rating\",\n",
    "            \"helpful_votes\", \"total_votes\", \"insight\", \"review_headline\", \"review_body\", \"review_date\", \"review_year\"]],\n",
    "    path = s3_bucket_output,\n",
    "    dataset = True,\n",
    "    max_rows_by_file = 3000000,\n",
    "    partition_cols = ['product_category']\n",
    ")"
   ]
  }
 ],
 "metadata": {
  "availableInstances": [
   {
    "_defaultOrder": 0,
    "_isFastLaunch": true,
    "category": "General purpose",
    "gpuNum": 0,
    "hideHardwareSpecs": false,
    "memoryGiB": 4,
    "name": "ml.t3.medium",
    "vcpuNum": 2
   },
   {
    "_defaultOrder": 1,
    "_isFastLaunch": false,
    "category": "General purpose",
    "gpuNum": 0,
    "hideHardwareSpecs": false,
    "memoryGiB": 8,
    "name": "ml.t3.large",
    "vcpuNum": 2
   },
   {
    "_defaultOrder": 2,
    "_isFastLaunch": false,
    "category": "General purpose",
    "gpuNum": 0,
    "hideHardwareSpecs": false,
    "memoryGiB": 16,
    "name": "ml.t3.xlarge",
    "vcpuNum": 4
   },
   {
    "_defaultOrder": 3,
    "_isFastLaunch": false,
    "category": "General purpose",
    "gpuNum": 0,
    "hideHardwareSpecs": false,
    "memoryGiB": 32,
    "name": "ml.t3.2xlarge",
    "vcpuNum": 8
   },
   {
    "_defaultOrder": 4,
    "_isFastLaunch": true,
    "category": "General purpose",
    "gpuNum": 0,
    "hideHardwareSpecs": false,
    "memoryGiB": 8,
    "name": "ml.m5.large",
    "vcpuNum": 2
   },
   {
    "_defaultOrder": 5,
    "_isFastLaunch": false,
    "category": "General purpose",
    "gpuNum": 0,
    "hideHardwareSpecs": false,
    "memoryGiB": 16,
    "name": "ml.m5.xlarge",
    "vcpuNum": 4
   },
   {
    "_defaultOrder": 6,
    "_isFastLaunch": false,
    "category": "General purpose",
    "gpuNum": 0,
    "hideHardwareSpecs": false,
    "memoryGiB": 32,
    "name": "ml.m5.2xlarge",
    "vcpuNum": 8
   },
   {
    "_defaultOrder": 7,
    "_isFastLaunch": false,
    "category": "General purpose",
    "gpuNum": 0,
    "hideHardwareSpecs": false,
    "memoryGiB": 64,
    "name": "ml.m5.4xlarge",
    "vcpuNum": 16
   },
   {
    "_defaultOrder": 8,
    "_isFastLaunch": false,
    "category": "General purpose",
    "gpuNum": 0,
    "hideHardwareSpecs": false,
    "memoryGiB": 128,
    "name": "ml.m5.8xlarge",
    "vcpuNum": 32
   },
   {
    "_defaultOrder": 9,
    "_isFastLaunch": false,
    "category": "General purpose",
    "gpuNum": 0,
    "hideHardwareSpecs": false,
    "memoryGiB": 192,
    "name": "ml.m5.12xlarge",
    "vcpuNum": 48
   },
   {
    "_defaultOrder": 10,
    "_isFastLaunch": false,
    "category": "General purpose",
    "gpuNum": 0,
    "hideHardwareSpecs": false,
    "memoryGiB": 256,
    "name": "ml.m5.16xlarge",
    "vcpuNum": 64
   },
   {
    "_defaultOrder": 11,
    "_isFastLaunch": false,
    "category": "General purpose",
    "gpuNum": 0,
    "hideHardwareSpecs": false,
    "memoryGiB": 384,
    "name": "ml.m5.24xlarge",
    "vcpuNum": 96
   },
   {
    "_defaultOrder": 12,
    "_isFastLaunch": false,
    "category": "General purpose",
    "gpuNum": 0,
    "hideHardwareSpecs": false,
    "memoryGiB": 8,
    "name": "ml.m5d.large",
    "vcpuNum": 2
   },
   {
    "_defaultOrder": 13,
    "_isFastLaunch": false,
    "category": "General purpose",
    "gpuNum": 0,
    "hideHardwareSpecs": false,
    "memoryGiB": 16,
    "name": "ml.m5d.xlarge",
    "vcpuNum": 4
   },
   {
    "_defaultOrder": 14,
    "_isFastLaunch": false,
    "category": "General purpose",
    "gpuNum": 0,
    "hideHardwareSpecs": false,
    "memoryGiB": 32,
    "name": "ml.m5d.2xlarge",
    "vcpuNum": 8
   },
   {
    "_defaultOrder": 15,
    "_isFastLaunch": false,
    "category": "General purpose",
    "gpuNum": 0,
    "hideHardwareSpecs": false,
    "memoryGiB": 64,
    "name": "ml.m5d.4xlarge",
    "vcpuNum": 16
   },
   {
    "_defaultOrder": 16,
    "_isFastLaunch": false,
    "category": "General purpose",
    "gpuNum": 0,
    "hideHardwareSpecs": false,
    "memoryGiB": 128,
    "name": "ml.m5d.8xlarge",
    "vcpuNum": 32
   },
   {
    "_defaultOrder": 17,
    "_isFastLaunch": false,
    "category": "General purpose",
    "gpuNum": 0,
    "hideHardwareSpecs": false,
    "memoryGiB": 192,
    "name": "ml.m5d.12xlarge",
    "vcpuNum": 48
   },
   {
    "_defaultOrder": 18,
    "_isFastLaunch": false,
    "category": "General purpose",
    "gpuNum": 0,
    "hideHardwareSpecs": false,
    "memoryGiB": 256,
    "name": "ml.m5d.16xlarge",
    "vcpuNum": 64
   },
   {
    "_defaultOrder": 19,
    "_isFastLaunch": false,
    "category": "General purpose",
    "gpuNum": 0,
    "hideHardwareSpecs": false,
    "memoryGiB": 384,
    "name": "ml.m5d.24xlarge",
    "vcpuNum": 96
   },
   {
    "_defaultOrder": 20,
    "_isFastLaunch": false,
    "category": "General purpose",
    "gpuNum": 0,
    "hideHardwareSpecs": true,
    "memoryGiB": 0,
    "name": "ml.geospatial.interactive",
    "supportedImageNames": [
     "sagemaker-geospatial-v1-0"
    ],
    "vcpuNum": 0
   },
   {
    "_defaultOrder": 21,
    "_isFastLaunch": true,
    "category": "Compute optimized",
    "gpuNum": 0,
    "hideHardwareSpecs": false,
    "memoryGiB": 4,
    "name": "ml.c5.large",
    "vcpuNum": 2
   },
   {
    "_defaultOrder": 22,
    "_isFastLaunch": false,
    "category": "Compute optimized",
    "gpuNum": 0,
    "hideHardwareSpecs": false,
    "memoryGiB": 8,
    "name": "ml.c5.xlarge",
    "vcpuNum": 4
   },
   {
    "_defaultOrder": 23,
    "_isFastLaunch": false,
    "category": "Compute optimized",
    "gpuNum": 0,
    "hideHardwareSpecs": false,
    "memoryGiB": 16,
    "name": "ml.c5.2xlarge",
    "vcpuNum": 8
   },
   {
    "_defaultOrder": 24,
    "_isFastLaunch": false,
    "category": "Compute optimized",
    "gpuNum": 0,
    "hideHardwareSpecs": false,
    "memoryGiB": 32,
    "name": "ml.c5.4xlarge",
    "vcpuNum": 16
   },
   {
    "_defaultOrder": 25,
    "_isFastLaunch": false,
    "category": "Compute optimized",
    "gpuNum": 0,
    "hideHardwareSpecs": false,
    "memoryGiB": 72,
    "name": "ml.c5.9xlarge",
    "vcpuNum": 36
   },
   {
    "_defaultOrder": 26,
    "_isFastLaunch": false,
    "category": "Compute optimized",
    "gpuNum": 0,
    "hideHardwareSpecs": false,
    "memoryGiB": 96,
    "name": "ml.c5.12xlarge",
    "vcpuNum": 48
   },
   {
    "_defaultOrder": 27,
    "_isFastLaunch": false,
    "category": "Compute optimized",
    "gpuNum": 0,
    "hideHardwareSpecs": false,
    "memoryGiB": 144,
    "name": "ml.c5.18xlarge",
    "vcpuNum": 72
   },
   {
    "_defaultOrder": 28,
    "_isFastLaunch": false,
    "category": "Compute optimized",
    "gpuNum": 0,
    "hideHardwareSpecs": false,
    "memoryGiB": 192,
    "name": "ml.c5.24xlarge",
    "vcpuNum": 96
   },
   {
    "_defaultOrder": 29,
    "_isFastLaunch": true,
    "category": "Accelerated computing",
    "gpuNum": 1,
    "hideHardwareSpecs": false,
    "memoryGiB": 16,
    "name": "ml.g4dn.xlarge",
    "vcpuNum": 4
   },
   {
    "_defaultOrder": 30,
    "_isFastLaunch": false,
    "category": "Accelerated computing",
    "gpuNum": 1,
    "hideHardwareSpecs": false,
    "memoryGiB": 32,
    "name": "ml.g4dn.2xlarge",
    "vcpuNum": 8
   },
   {
    "_defaultOrder": 31,
    "_isFastLaunch": false,
    "category": "Accelerated computing",
    "gpuNum": 1,
    "hideHardwareSpecs": false,
    "memoryGiB": 64,
    "name": "ml.g4dn.4xlarge",
    "vcpuNum": 16
   },
   {
    "_defaultOrder": 32,
    "_isFastLaunch": false,
    "category": "Accelerated computing",
    "gpuNum": 1,
    "hideHardwareSpecs": false,
    "memoryGiB": 128,
    "name": "ml.g4dn.8xlarge",
    "vcpuNum": 32
   },
   {
    "_defaultOrder": 33,
    "_isFastLaunch": false,
    "category": "Accelerated computing",
    "gpuNum": 4,
    "hideHardwareSpecs": false,
    "memoryGiB": 192,
    "name": "ml.g4dn.12xlarge",
    "vcpuNum": 48
   },
   {
    "_defaultOrder": 34,
    "_isFastLaunch": false,
    "category": "Accelerated computing",
    "gpuNum": 1,
    "hideHardwareSpecs": false,
    "memoryGiB": 256,
    "name": "ml.g4dn.16xlarge",
    "vcpuNum": 64
   },
   {
    "_defaultOrder": 35,
    "_isFastLaunch": false,
    "category": "Accelerated computing",
    "gpuNum": 1,
    "hideHardwareSpecs": false,
    "memoryGiB": 61,
    "name": "ml.p3.2xlarge",
    "vcpuNum": 8
   },
   {
    "_defaultOrder": 36,
    "_isFastLaunch": false,
    "category": "Accelerated computing",
    "gpuNum": 4,
    "hideHardwareSpecs": false,
    "memoryGiB": 244,
    "name": "ml.p3.8xlarge",
    "vcpuNum": 32
   },
   {
    "_defaultOrder": 37,
    "_isFastLaunch": false,
    "category": "Accelerated computing",
    "gpuNum": 8,
    "hideHardwareSpecs": false,
    "memoryGiB": 488,
    "name": "ml.p3.16xlarge",
    "vcpuNum": 64
   },
   {
    "_defaultOrder": 38,
    "_isFastLaunch": false,
    "category": "Accelerated computing",
    "gpuNum": 8,
    "hideHardwareSpecs": false,
    "memoryGiB": 768,
    "name": "ml.p3dn.24xlarge",
    "vcpuNum": 96
   },
   {
    "_defaultOrder": 39,
    "_isFastLaunch": false,
    "category": "Memory Optimized",
    "gpuNum": 0,
    "hideHardwareSpecs": false,
    "memoryGiB": 16,
    "name": "ml.r5.large",
    "vcpuNum": 2
   },
   {
    "_defaultOrder": 40,
    "_isFastLaunch": false,
    "category": "Memory Optimized",
    "gpuNum": 0,
    "hideHardwareSpecs": false,
    "memoryGiB": 32,
    "name": "ml.r5.xlarge",
    "vcpuNum": 4
   },
   {
    "_defaultOrder": 41,
    "_isFastLaunch": false,
    "category": "Memory Optimized",
    "gpuNum": 0,
    "hideHardwareSpecs": false,
    "memoryGiB": 64,
    "name": "ml.r5.2xlarge",
    "vcpuNum": 8
   },
   {
    "_defaultOrder": 42,
    "_isFastLaunch": false,
    "category": "Memory Optimized",
    "gpuNum": 0,
    "hideHardwareSpecs": false,
    "memoryGiB": 128,
    "name": "ml.r5.4xlarge",
    "vcpuNum": 16
   },
   {
    "_defaultOrder": 43,
    "_isFastLaunch": false,
    "category": "Memory Optimized",
    "gpuNum": 0,
    "hideHardwareSpecs": false,
    "memoryGiB": 256,
    "name": "ml.r5.8xlarge",
    "vcpuNum": 32
   },
   {
    "_defaultOrder": 44,
    "_isFastLaunch": false,
    "category": "Memory Optimized",
    "gpuNum": 0,
    "hideHardwareSpecs": false,
    "memoryGiB": 384,
    "name": "ml.r5.12xlarge",
    "vcpuNum": 48
   },
   {
    "_defaultOrder": 45,
    "_isFastLaunch": false,
    "category": "Memory Optimized",
    "gpuNum": 0,
    "hideHardwareSpecs": false,
    "memoryGiB": 512,
    "name": "ml.r5.16xlarge",
    "vcpuNum": 64
   },
   {
    "_defaultOrder": 46,
    "_isFastLaunch": false,
    "category": "Memory Optimized",
    "gpuNum": 0,
    "hideHardwareSpecs": false,
    "memoryGiB": 768,
    "name": "ml.r5.24xlarge",
    "vcpuNum": 96
   },
   {
    "_defaultOrder": 47,
    "_isFastLaunch": false,
    "category": "Accelerated computing",
    "gpuNum": 1,
    "hideHardwareSpecs": false,
    "memoryGiB": 16,
    "name": "ml.g5.xlarge",
    "vcpuNum": 4
   },
   {
    "_defaultOrder": 48,
    "_isFastLaunch": false,
    "category": "Accelerated computing",
    "gpuNum": 1,
    "hideHardwareSpecs": false,
    "memoryGiB": 32,
    "name": "ml.g5.2xlarge",
    "vcpuNum": 8
   },
   {
    "_defaultOrder": 49,
    "_isFastLaunch": false,
    "category": "Accelerated computing",
    "gpuNum": 1,
    "hideHardwareSpecs": false,
    "memoryGiB": 64,
    "name": "ml.g5.4xlarge",
    "vcpuNum": 16
   },
   {
    "_defaultOrder": 50,
    "_isFastLaunch": false,
    "category": "Accelerated computing",
    "gpuNum": 1,
    "hideHardwareSpecs": false,
    "memoryGiB": 128,
    "name": "ml.g5.8xlarge",
    "vcpuNum": 32
   },
   {
    "_defaultOrder": 51,
    "_isFastLaunch": false,
    "category": "Accelerated computing",
    "gpuNum": 1,
    "hideHardwareSpecs": false,
    "memoryGiB": 256,
    "name": "ml.g5.16xlarge",
    "vcpuNum": 64
   },
   {
    "_defaultOrder": 52,
    "_isFastLaunch": false,
    "category": "Accelerated computing",
    "gpuNum": 4,
    "hideHardwareSpecs": false,
    "memoryGiB": 192,
    "name": "ml.g5.12xlarge",
    "vcpuNum": 48
   },
   {
    "_defaultOrder": 53,
    "_isFastLaunch": false,
    "category": "Accelerated computing",
    "gpuNum": 4,
    "hideHardwareSpecs": false,
    "memoryGiB": 384,
    "name": "ml.g5.24xlarge",
    "vcpuNum": 96
   },
   {
    "_defaultOrder": 54,
    "_isFastLaunch": false,
    "category": "Accelerated computing",
    "gpuNum": 8,
    "hideHardwareSpecs": false,
    "memoryGiB": 768,
    "name": "ml.g5.48xlarge",
    "vcpuNum": 192
   },
   {
    "_defaultOrder": 55,
    "_isFastLaunch": false,
    "category": "Accelerated computing",
    "gpuNum": 8,
    "hideHardwareSpecs": false,
    "memoryGiB": 1152,
    "name": "ml.p4d.24xlarge",
    "vcpuNum": 96
   },
   {
    "_defaultOrder": 56,
    "_isFastLaunch": false,
    "category": "Accelerated computing",
    "gpuNum": 8,
    "hideHardwareSpecs": false,
    "memoryGiB": 1152,
    "name": "ml.p4de.24xlarge",
    "vcpuNum": 96
   },
   {
    "_defaultOrder": 57,
    "_isFastLaunch": false,
    "category": "Accelerated computing",
    "gpuNum": 0,
    "hideHardwareSpecs": false,
    "memoryGiB": 32,
    "name": "ml.trn1.2xlarge",
    "vcpuNum": 8
   },
   {
    "_defaultOrder": 58,
    "_isFastLaunch": false,
    "category": "Accelerated computing",
    "gpuNum": 0,
    "hideHardwareSpecs": false,
    "memoryGiB": 512,
    "name": "ml.trn1.32xlarge",
    "vcpuNum": 128
   },
   {
    "_defaultOrder": 59,
    "_isFastLaunch": false,
    "category": "Accelerated computing",
    "gpuNum": 0,
    "hideHardwareSpecs": false,
    "memoryGiB": 512,
    "name": "ml.trn1n.32xlarge",
    "vcpuNum": 128
   }
  ],
  "instance_type": "ml.m5.4xlarge",
  "kernelspec": {
   "display_name": "Python 3",
   "language": "python",
   "name": "python3"
  },
  "language_info": {
   "codemirror_mode": {
    "name": "ipython",
    "version": 3
   },
   "file_extension": ".py",
   "mimetype": "text/x-python",
   "name": "python",
   "nbconvert_exporter": "python",
   "pygments_lexer": "ipython3",
   "version": "3.9.6"
  }
 },
 "nbformat": 4,
 "nbformat_minor": 5
}
