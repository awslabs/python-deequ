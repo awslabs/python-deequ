{
 "cells": [
  {
   "cell_type": "markdown",
   "id": "c5003099-9b9c-4ac5-b870-4adfed85c585",
   "metadata": {},
   "source": [
    "# Generation of synthetic reviews dataset for the AWS Blog \"Monitor data quality in your data lake using PyDeequ and AWS Glue\"\n",
    "\n",
    "\n",
    "This notebook outlines the steps to generate synthetic data for the AWS blog post [\"Monitor data quality in your data lake using PyDeequ and AWS Glue\"](https://aws.amazon.com/blogs/big-data/monitor-data-quality-in-your-data-lake-using-pydeequ-and-aws-glue/) for the blog update publushed in August 2024. The new synthetic dataset replaces the original Amazon reviews dataset, however, it retains characteristics necessary to demonstrate features of PyDeequ library in AWS Glue. \n",
    "\n",
    "This synthetic dataset resides in the public S3 bucket: `s3://aws-bigdata-blog/generated_synthetic_reviews/data/product_category=Jewelry/` as parquet files.\n",
    "\n",
    "Install [awswrangler](https://aws-sdk-pandas.readthedocs.io/en/stable/) and [essential_generators](https://pypi.org/project/essential-generators/):"
   ]
  },
  {
   "cell_type": "code",
   "execution_count": null,
   "id": "73801505",
   "metadata": {},
   "outputs": [],
   "source": [
    "!python3 -m pip install awswrangler==3.7.2\n",
    "!python3 -m pip install essential_generators==1.0"
   ]
  },
  {
   "cell_type": "code",
   "execution_count": null,
   "id": "035f589c-77f6-41aa-8fd0-dfe8bdeb213b",
   "metadata": {
    "tags": []
   },
   "outputs": [],
   "source": [
    "import matplotlib.pyplot as plt\n",
    "from matplotlib import ticker\n",
    "\n",
    "import numpy as np\n",
    "import pandas as pd\n",
    "from scipy.linalg import cholesky\n",
    "import awswrangler as wr\n",
    "\n",
    "from essential_generators import DocumentGenerator"
   ]
  },
  {
   "cell_type": "markdown",
   "id": "ab1a29dd-b954-418d-86e3-ce5f3640f9ac",
   "metadata": {},
   "source": [
    "Import supporting functions"
   ]
  },
  {
   "cell_type": "code",
   "execution_count": null,
   "id": "bfc21bc4-524e-4920-9171-f2cb33ef4c8a",
   "metadata": {
    "tags": []
   },
   "outputs": [],
   "source": [
    "import review_generation_helpers as rgh"
   ]
  },
  {
   "cell_type": "code",
   "execution_count": null,
   "id": "3f62fe07-64cf-450b-a248-e5250aa1aeaa",
   "metadata": {
    "tags": []
   },
   "outputs": [],
   "source": [
    "rng = np.random.default_rng()"
   ]
  },
  {
   "cell_type": "code",
   "execution_count": null,
   "id": "882d4a33-5fe9-4033-b770-5c20e42f0735",
   "metadata": {
    "tags": []
   },
   "outputs": [],
   "source": [
    "float_formatter = \"{:.4f}\".format\n",
    "np.set_printoptions(formatter={'float_kind':float_formatter})"
   ]
  },
  {
   "cell_type": "markdown",
   "id": "814e08e0-2f7f-41b2-8f54-1042dfc461a3",
   "metadata": {},
   "source": [
    "## Engineer data columns"
   ]
  },
  {
   "cell_type": "markdown",
   "id": "febda416-f4fc-41c0-826a-0e7655219f0c",
   "metadata": {
    "tags": []
   },
   "source": [
    "### Generate customer ids and insight\n",
    "\n",
    "Create a column 'insight' to indicate influential reviewers."
   ]
  },
  {
   "cell_type": "code",
   "execution_count": null,
   "id": "ccb3d568-298b-44c1-8915-ab0e6269814b",
   "metadata": {
    "tags": []
   },
   "outputs": [],
   "source": [
    "cust_ins = rgh.create_customers_insight(rng)\n",
    "cust_ins_ready = rgh.shuffle_customer_insight(rng, cust_ins)"
   ]
  },
  {
   "cell_type": "code",
   "execution_count": null,
   "id": "c0eade18-0a0a-497d-9ccf-449a536f046f",
   "metadata": {
    "tags": []
   },
   "outputs": [],
   "source": [
    "cust_ins"
   ]
  },
  {
   "cell_type": "code",
   "execution_count": null,
   "id": "699dc442-4c16-4cda-8820-a0b079148efa",
   "metadata": {
    "tags": []
   },
   "outputs": [],
   "source": [
    "cust_ins_ready"
   ]
  },
  {
   "cell_type": "code",
   "execution_count": null,
   "id": "09d4d909-872f-4564-bed5-c3b65eb48433",
   "metadata": {
    "tags": []
   },
   "outputs": [],
   "source": [
    "cust_ins_ready.shape"
   ]
  },
  {
   "cell_type": "markdown",
   "id": "17526ef2-4bcb-4cd7-bfa2-0c09fee9408f",
   "metadata": {},
   "source": [
    "This dataset "
   ]
  },
  {
   "cell_type": "code",
   "execution_count": null,
   "id": "0d0caf2a-a7b9-429b-83d5-21f3ba4ab1bd",
   "metadata": {
    "tags": []
   },
   "outputs": [],
   "source": [
    "n = cust_ins_ready.shape[1]\n",
    "n"
   ]
  },
  {
   "cell_type": "markdown",
   "id": "4113cece-ec4d-42f8-a649-82d2fe66050b",
   "metadata": {},
   "source": [
    "### Generate total votes"
   ]
  },
  {
   "cell_type": "markdown",
   "id": "0b8afad5-48ab-4295-8004-1231cd8bacb2",
   "metadata": {},
   "source": [
    "The code for generating seasonal semi-correlated total votes is based on the [PyMC notebook](https://www.pymc.io/projects/examples/en/latest/time_series/MvGaussianRandomWalk_demo.html).\n",
    "\n",
    "In the blog we investigate seasonal correlation in the montly count of total reviews between 3 years. Since the number of the product reviews is not divisible by 12 we take the closest number and then trim the result to match the size of the dataset."
   ]
  },
  {
   "cell_type": "code",
   "execution_count": null,
   "id": "fd48a6c7-f8ca-4145-8caf-03f2eb98c39f",
   "metadata": {
    "tags": []
   },
   "outputs": [],
   "source": [
    "n"
   ]
  },
  {
   "cell_type": "code",
   "execution_count": null,
   "id": "c0795d6d-70aa-46e8-8347-75d24626d0ca",
   "metadata": {
    "tags": []
   },
   "outputs": [],
   "source": [
    "12*268734"
   ]
  },
  {
   "cell_type": "code",
   "execution_count": null,
   "id": "4955017d-45e4-4c97-8e2a-031304f29787",
   "metadata": {
    "tags": []
   },
   "outputs": [],
   "source": [
    "3224808/3"
   ]
  },
  {
   "cell_type": "code",
   "execution_count": null,
   "id": "0c7d0acd-c69f-46be-8f56-fcdff7fd0fe0",
   "metadata": {
    "tags": []
   },
   "outputs": [],
   "source": [
    "D = 3  # Dimension of random walks = time series for each year\n",
    "N = 1074936  # Number of steps = data points\n",
    "sections = 12  # Number of sections = months\n",
    "period = N / sections  # Number steps in each section\n",
    "\n",
    "Sigma_alpha = rng.standard_normal((D, D))\n",
    "Sigma_alpha = Sigma_alpha.T.dot(Sigma_alpha)  # Construct covariance matrix for alpha\n",
    "L_alpha = cholesky(Sigma_alpha, lower=True)  # Obtain its Cholesky decomposition\n",
    "\n",
    "Sigma_beta = rng.standard_normal((D, D))\n",
    "Sigma_beta = Sigma_beta.T.dot(Sigma_beta)  # Construct covariance matrix for beta\n",
    "L_beta = cholesky(Sigma_beta, lower=True)  # Obtain its Cholesky decomposition\n",
    "\n",
    "# Gaussian random walks:\n",
    "alpha = np.cumsum(L_alpha.dot(rng.standard_normal((D, sections))), axis=1).T\n",
    "beta = np.cumsum(L_beta.dot(rng.standard_normal((D, sections))), axis=1).T\n",
    "t = np.arange(N)[:, None] / N\n",
    "alpha = np.repeat(alpha, period, axis=0)\n",
    "beta = np.repeat(beta, period, axis=0)\n",
    "\n",
    "# Correlated series\n",
    "sigma = 0.1\n",
    "\n",
    "# This is number of points (N) by 3 years array:\n",
    "y = alpha + beta * t + sigma * rng.standard_normal((N, 1))"
   ]
  },
  {
   "cell_type": "markdown",
   "id": "4d62f94a-9a78-42ce-a37e-7c0396ea894f",
   "metadata": {},
   "source": [
    "Since `y` represents votes, therefore it can't be negative, we also prefer to increase the number to emulate the number of votes."
   ]
  },
  {
   "cell_type": "code",
   "execution_count": null,
   "id": "8b8f9738-3dd6-481f-96c5-d3687f347b98",
   "metadata": {
    "tags": []
   },
   "outputs": [],
   "source": [
    "y.min()"
   ]
  },
  {
   "cell_type": "code",
   "execution_count": null,
   "id": "be455f12-a13c-44d1-9496-c65790614d7a",
   "metadata": {
    "tags": []
   },
   "outputs": [],
   "source": [
    "y.max()"
   ]
  },
  {
   "cell_type": "code",
   "execution_count": null,
   "id": "ec044934-8ab0-47d2-9ee8-bd29b0b65c77",
   "metadata": {
    "tags": []
   },
   "outputs": [],
   "source": [
    "total_votes = np.abs(np.round(y*10))\n",
    "total_votes.max()"
   ]
  },
  {
   "cell_type": "code",
   "execution_count": null,
   "id": "344b3973-b553-46ba-97a4-b52e3e53d2d9",
   "metadata": {
    "tags": []
   },
   "outputs": [],
   "source": [
    "total_votes.min()"
   ]
  },
  {
   "cell_type": "code",
   "execution_count": null,
   "id": "26ee00a8-949f-4e83-98e7-3b1324668116",
   "metadata": {
    "tags": []
   },
   "outputs": [],
   "source": [
    "total_votes.shape"
   ]
  },
  {
   "cell_type": "markdown",
   "id": "6e9e26c6-c1ef-4b13-9318-45020a72fabc",
   "metadata": {},
   "source": [
    "Plot the series:"
   ]
  },
  {
   "cell_type": "code",
   "execution_count": null,
   "id": "9dd95200-00a3-447a-9c19-c667585a50fb",
   "metadata": {
    "tags": []
   },
   "outputs": [],
   "source": [
    "plt.figure(figsize=(12, 5))\n",
    "plt.plot(t, total_votes, \".\", markersize=2, label=(\"y_0 data\", \"y_1 data\", \"y_2 data\"))\n",
    "plt.title(\"Three Correlated Series\")\n",
    "plt.xlabel(\"Time\")\n",
    "plt.legend()\n",
    "plt.show();"
   ]
  },
  {
   "cell_type": "markdown",
   "id": "0bb2cccb-f0ed-4346-9038-21ff6d6abb9a",
   "metadata": {},
   "source": [
    "#### Plot the sum of total votes by month and year"
   ]
  },
  {
   "cell_type": "markdown",
   "id": "aaf658a6-f4fa-424d-8d4a-2800afe2722c",
   "metadata": {},
   "source": [
    "We need a figure to demonstrate monthly and yearly variability and correlation in the sum of total votes. Calculate the sum and generate the figure."
   ]
  },
  {
   "cell_type": "markdown",
   "id": "48546e3f-8208-4192-a3ec-0ca599daef49",
   "metadata": {},
   "source": [
    "Prepare 1D array of the total votes:"
   ]
  },
  {
   "cell_type": "code",
   "execution_count": null,
   "id": "4e97b0ea-a386-46e8-8e08-50bbf149f694",
   "metadata": {
    "tags": []
   },
   "outputs": [],
   "source": [
    "total_votes_1D = np.reshape(total_votes, (total_votes.shape[0]*3,) , order='F')"
   ]
  },
  {
   "cell_type": "markdown",
   "id": "9464eff2-f9c5-4674-92bb-46cbfe29abb5",
   "metadata": {
    "tags": []
   },
   "source": [
    "Split the array by month to calculate monthly sum and plot:"
   ]
  },
  {
   "cell_type": "code",
   "execution_count": null,
   "id": "0e375abd-5aff-40f3-8a44-76b3e4bd7072",
   "metadata": {
    "tags": []
   },
   "outputs": [],
   "source": [
    "month_split = np.split(total_votes, list(range(0, N, int(N/12)))[1:], axis=0)"
   ]
  },
  {
   "cell_type": "markdown",
   "id": "c49b317b-9cda-43a2-9d13-c5381db87467",
   "metadata": {
    "tags": []
   },
   "source": [
    "Calculate the sum for each month/year:"
   ]
  },
  {
   "cell_type": "code",
   "execution_count": null,
   "id": "ab58886e-077d-4db7-a73f-baa2e0dfef7d",
   "metadata": {
    "tags": []
   },
   "outputs": [],
   "source": [
    "sum_month_year_list = [month_split[x].sum(axis = 0) for x in range(len(month_split))]\n",
    "sum_month_year_list_array = np.array(sum_month_year_list)\n",
    "sum_month_year_list_array.max()"
   ]
  },
  {
   "cell_type": "code",
   "execution_count": null,
   "id": "a2b316f7-dd07-45d0-93e2-e438321434d1",
   "metadata": {
    "tags": []
   },
   "outputs": [],
   "source": [
    "sum_month_year_list_array.min()"
   ]
  },
  {
   "cell_type": "code",
   "execution_count": null,
   "id": "ba6e428e-0f42-49e0-b9f6-4c09c2bccd8c",
   "metadata": {
    "tags": []
   },
   "outputs": [],
   "source": [
    "fig, ax = plt.subplots(layout='constrained')\n",
    "ax.plot([\"Jan\", \"Feb\", \"Mar\", \"Apr\", \"May\", \"Jun\", \"Jul\", \"Aug\", \"Sep\", \"Oct\", \"Nov\", \"Dec\"], \n",
    "        sum_month_year_list_array, \n",
    "        marker = 's',\n",
    "        markersize=5, label=(\"2013\", \"2014\", \"2015\"))\n",
    "ax.set_title(\"Total votes in jewelry review\")\n",
    "ax.set_xlabel(\"Month\")\n",
    "ax.set_ylabel(\"Total votes\")\n",
    "ax.grid(True, which='major', color = 'lightgrey', alpha = 0.5)\n",
    "ax.yaxis.set_major_formatter(ticker.StrMethodFormatter(\"{x:,.0f}\"))\n",
    "ax.legend()\n",
    "plt.savefig('total_votes_in_jewelry_review.jpg')\n",
    "plt.show()"
   ]
  },
  {
   "cell_type": "markdown",
   "id": "72212e82-80a6-4677-bf6d-864ff5d40c8f",
   "metadata": {},
   "source": [
    "### Generate review years\n",
    "\n",
    "In the blog the dataset has reviews from 3 years: 2013, 2014 and 2015:"
   ]
  },
  {
   "cell_type": "code",
   "execution_count": null,
   "id": "14729c86-aefe-4bee-ae20-feb5be881ffd",
   "metadata": {
    "tags": []
   },
   "outputs": [],
   "source": [
    "years = np.repeat([[2013, 2014, 2015]], total_votes.shape[0], axis = 0)"
   ]
  },
  {
   "cell_type": "code",
   "execution_count": null,
   "id": "e5c6c083-42c5-4e78-a424-802e2a41c86e",
   "metadata": {
    "tags": []
   },
   "outputs": [],
   "source": [
    "years.shape"
   ]
  },
  {
   "cell_type": "markdown",
   "id": "d964eebd-5063-4583-8bf8-5046d714b9f7",
   "metadata": {},
   "source": [
    "Reshape to a 1D array:"
   ]
  },
  {
   "cell_type": "code",
   "execution_count": null,
   "id": "e5087120-aad7-4c46-b3b8-38e8d04411a2",
   "metadata": {
    "tags": []
   },
   "outputs": [],
   "source": [
    "years_1D = np.reshape(years, (years.shape[0]*3,) , order='F')"
   ]
  },
  {
   "cell_type": "markdown",
   "id": "2b466346-1fbb-42d7-928b-517058177ccf",
   "metadata": {},
   "source": [
    "### Generate review dates"
   ]
  },
  {
   "cell_type": "markdown",
   "id": "320171c7-e9c5-455f-9da4-92fa7c119e79",
   "metadata": {},
   "source": [
    "Generate the review dates in accordance to the periods used in the generation of the total votes. "
   ]
  },
  {
   "cell_type": "code",
   "execution_count": null,
   "id": "d6b0a51c-2f11-47bb-8a44-b867c4ec7225",
   "metadata": {
    "tags": []
   },
   "outputs": [],
   "source": [
    "review_dates = rgh.generate_dates_even_per_month(rng, [2013, 2014, 2015], days_per_month = int(N/12))"
   ]
  },
  {
   "cell_type": "code",
   "execution_count": null,
   "id": "cb9604a5-22b4-48ed-8314-3c5b97c2f7da",
   "metadata": {
    "tags": []
   },
   "outputs": [],
   "source": [
    "len(review_dates)"
   ]
  },
  {
   "cell_type": "markdown",
   "id": "2fffd7b7-e447-467b-b6fa-b8e49a78a1f5",
   "metadata": {},
   "source": [
    "### Assemble years, review dates, total votes and trim to size"
   ]
  },
  {
   "cell_type": "code",
   "execution_count": null,
   "id": "089a02ee-2633-4a4c-b3be-df33fa224d04",
   "metadata": {
    "tags": []
   },
   "outputs": [],
   "source": [
    "dat = pd.DataFrame({\"review_year\": years_1D, \"review_date\":  review_dates, \"total_votes\": total_votes_1D})\n",
    "dat.shape"
   ]
  },
  {
   "cell_type": "code",
   "execution_count": null,
   "id": "f5defd6f-4d56-4668-90c4-2de5c8382f3a",
   "metadata": {
    "tags": []
   },
   "outputs": [],
   "source": [
    "dat = dat.iloc[0:-2,]"
   ]
  },
  {
   "cell_type": "code",
   "execution_count": null,
   "id": "b6360dd0-d283-4267-81c5-9a1526e36ed6",
   "metadata": {
    "tags": []
   },
   "outputs": [],
   "source": [
    "dat.shape"
   ]
  },
  {
   "cell_type": "code",
   "execution_count": null,
   "id": "79b7abf7-3017-4208-a912-f9ec75c45bb3",
   "metadata": {
    "tags": []
   },
   "outputs": [],
   "source": [
    "dat.shape[0] == n"
   ]
  },
  {
   "cell_type": "code",
   "execution_count": null,
   "id": "f451c4bb-7da2-4409-a137-810e75d6a2e7",
   "metadata": {
    "tags": []
   },
   "outputs": [],
   "source": [
    "dat.head()"
   ]
  },
  {
   "cell_type": "markdown",
   "id": "1c1425ae-2021-4ea5-be8c-81225def4cd8",
   "metadata": {},
   "source": [
    "Add customer id and the insight to the DataFrame:"
   ]
  },
  {
   "cell_type": "code",
   "execution_count": null,
   "id": "22aa2d81-4fd9-44ea-8a00-f71ef0eafde0",
   "metadata": {
    "tags": []
   },
   "outputs": [],
   "source": [
    "dat[\"customer_id\"] = cust_ins_ready[0, :]\n",
    "dat[\"insight\"] = cust_ins_ready[1, :]"
   ]
  },
  {
   "cell_type": "code",
   "execution_count": null,
   "id": "990c7a2e-dfb8-4a7e-a665-536e481f7a82",
   "metadata": {
    "tags": []
   },
   "outputs": [],
   "source": [
    "dat.head()"
   ]
  },
  {
   "cell_type": "code",
   "execution_count": null,
   "id": "6b0c9660-e657-498c-b26e-7b5c436e21a3",
   "metadata": {
    "tags": []
   },
   "outputs": [],
   "source": [
    "dat.dtypes"
   ]
  },
  {
   "cell_type": "markdown",
   "id": "843259a1-ac1a-453a-b0af-cbdd3f3f4daf",
   "metadata": {},
   "source": [
    "Correct the data types:"
   ]
  },
  {
   "cell_type": "code",
   "execution_count": null,
   "id": "d1d9874d-ff93-4fb8-9cb0-c505482bf02e",
   "metadata": {
    "tags": []
   },
   "outputs": [],
   "source": [
    "dat[\"review_year\"] = dat[\"review_year\"].astype(\"int\")\n",
    "dat[\"review_date\"] = pd.to_datetime(dat[\"review_date\"])\n",
    "dat[\"total_votes\"] = dat[\"total_votes\"].astype(\"int\")"
   ]
  },
  {
   "cell_type": "code",
   "execution_count": null,
   "id": "5aa4cba1-d3ff-40bb-969e-e57ffe98d5c7",
   "metadata": {
    "tags": []
   },
   "outputs": [],
   "source": [
    "dat.dtypes"
   ]
  },
  {
   "cell_type": "markdown",
   "id": "388bef32-a4ce-45f3-8608-25e8c83136f5",
   "metadata": {},
   "source": [
    "### Generate product ids and product titles\n",
    "\n",
    "Create product titles, add variability by adding prefixes (adjectives) and suffixes:"
   ]
  },
  {
   "cell_type": "code",
   "execution_count": null,
   "id": "4f10ce57-ae9f-4b7c-bcfe-31aa655b5757",
   "metadata": {
    "tags": []
   },
   "outputs": [],
   "source": [
    "# pool of product names, prefixes and suffixes from which we will generate the product titles\n",
    "product_pool= [\"earrings\", \"crown\", \"headband\",\"hairclip\", 'armlet', 'bracelet', \"cuff links\", \"ring\", \"pin\", \"brooch\",\n",
    "              \"buckle\", \"toe ring\", \"anklet\", \"amulet\", \"beads\", \"jewelry\", \"necklace\", \"pendant\", \"tie clip\"]\n",
    "product_prefix_pool = [\"wire wrapped\", \"charm\", \"Italian\", \"friendship\", \"silver\", \"gold\", \"ametist\", \"coral\", \"silver-plated\", \"gold-plated\",\n",
    "                      \"vintage\", \"unique\", \"cute\", \"adorable\", \"elegant\", \"designer\", \"championship\", \"class\", \"engagement\", \n",
    "                       \"promise\", \"wedding\", \"art\", \"estate\", \"forever love heart\", \"jade\", \"pearl\", \"gold pearl\", \"silver pearl\",\n",
    "                      \"imitation pearl\", \"black pearl\", \"white gold\", \"yellow gold\", \"white and yellow gold\", \"paw print\",\n",
    "                      \"chunky\", \"gold dipped\"]\n",
    "product_suffix_pool = [\"with natural stones\", \"with cubic zirconia\", \"with diamonds\", \"with princess cut-stones\", \"size adjustable\",\n",
    "                      \"with custom engraving\", \"for women\", \"for men\", \"for men and women\", \"for couples\", \"unisex\", \"excellent gift\",\n",
    "                      \"engagement gift\", \"best gift for friends\", \"best for Mother's day\", \"excellent gift for mother-in-law\", \n",
    "                       \"set of 3\", \"for every day of the week\", \"with interchangeable stones\"]"
   ]
  },
  {
   "cell_type": "code",
   "execution_count": null,
   "id": "02be0605-6017-4cae-afe5-e86c63085542",
   "metadata": {
    "tags": []
   },
   "outputs": [],
   "source": [
    "products = rgh.generate_products(rng, [product_prefix_pool, product_pool, product_suffix_pool], n) "
   ]
  },
  {
   "cell_type": "code",
   "execution_count": null,
   "id": "e3a193f9-f401-43c1-961f-d3ec630bb9ff",
   "metadata": {
    "tags": []
   },
   "outputs": [],
   "source": [
    "products.shape"
   ]
  },
  {
   "cell_type": "code",
   "execution_count": null,
   "id": "1dff0b48-989c-4241-9c33-2242eae0ad3d",
   "metadata": {
    "tags": []
   },
   "outputs": [],
   "source": [
    "products"
   ]
  },
  {
   "cell_type": "code",
   "execution_count": null,
   "id": "636b27ba-0192-40b0-9e44-0d10d41360dc",
   "metadata": {
    "tags": []
   },
   "outputs": [],
   "source": [
    "dat[\"product_title\"] = products[0, :]\n",
    "dat[\"product_id\"] = products[1, :]\n",
    "dat.head()"
   ]
  },
  {
   "cell_type": "markdown",
   "id": "a10613dc-2ef7-425c-83b0-d622195c297b",
   "metadata": {},
   "source": [
    "### Generate review titles and text"
   ]
  },
  {
   "cell_type": "code",
   "execution_count": null,
   "id": "585fa6ca-09a0-4e39-bc73-f809be6e673f",
   "metadata": {
    "tags": []
   },
   "outputs": [],
   "source": [
    "gen = DocumentGenerator()\n",
    "\n",
    "template = {'review_headline':'sentence', \n",
    "            'review_body': 'paragraph'}\n",
    "gen.set_template(template)\n",
    "documents = gen.documents(n)"
   ]
  },
  {
   "cell_type": "code",
   "execution_count": null,
   "id": "1aa37840-7c9b-4963-9ad6-fd96571e93ea",
   "metadata": {
    "tags": []
   },
   "outputs": [],
   "source": [
    "len(documents)"
   ]
  },
  {
   "cell_type": "code",
   "execution_count": null,
   "id": "a6bec4f2-60cd-4f21-98f3-181b8afe5d08",
   "metadata": {
    "tags": []
   },
   "outputs": [],
   "source": [
    "documents[0:3]"
   ]
  },
  {
   "cell_type": "code",
   "execution_count": null,
   "id": "83a99f48-0c69-4938-a0ac-2d2ed4e2775e",
   "metadata": {
    "tags": []
   },
   "outputs": [],
   "source": [
    "reviews = pd.DataFrame(documents)"
   ]
  },
  {
   "cell_type": "code",
   "execution_count": null,
   "id": "fbfd1605-156b-4638-9a7c-4db3c3108967",
   "metadata": {
    "tags": []
   },
   "outputs": [],
   "source": [
    "dat[\"review_headline\"] = reviews[\"review_headline\"]\n",
    "dat[\"review_body\"] = reviews[\"review_body\"]"
   ]
  },
  {
   "cell_type": "markdown",
   "id": "4fd643d1-722b-42a5-919c-296cfb519b28",
   "metadata": {},
   "source": [
    "### Generate marketplace codes\n",
    "\n",
    "Majority of the reviews have code \"US\" and ~1000 have code \"MX\"."
   ]
  },
  {
   "cell_type": "code",
   "execution_count": null,
   "id": "8502c9ce-1d0b-4946-91aa-bb12b20b600b",
   "metadata": {
    "tags": []
   },
   "outputs": [],
   "source": [
    "marketplace = np.repeat([\"US\"], n)\n",
    "marketplace.shape"
   ]
  },
  {
   "cell_type": "code",
   "execution_count": null,
   "id": "0c88b7ad-4e7f-4f6b-bd1e-c2046f5078f3",
   "metadata": {
    "tags": []
   },
   "outputs": [],
   "source": [
    "random_subs = rng.choice(np.arange(n), 1000)\n",
    "marketplace[random_subs] = \"MX\""
   ]
  },
  {
   "cell_type": "code",
   "execution_count": null,
   "id": "85e63320-520b-47bb-b36f-0559317a7c2e",
   "metadata": {
    "tags": []
   },
   "outputs": [],
   "source": [
    "np.unique(marketplace, return_counts = True)"
   ]
  },
  {
   "cell_type": "code",
   "execution_count": null,
   "id": "c86abc6f-1e53-473d-a9c9-7dc9b9dff9c5",
   "metadata": {
    "tags": []
   },
   "outputs": [],
   "source": [
    "dat[\"marketplace\"] = marketplace"
   ]
  },
  {
   "cell_type": "markdown",
   "id": "7b47eeb9-db44-4a86-8e50-3a5375b70a6a",
   "metadata": {},
   "source": [
    "### Generate review ids"
   ]
  },
  {
   "cell_type": "code",
   "execution_count": null,
   "id": "ebf44f6d-5bc0-426e-96b2-66ee1e3459ee",
   "metadata": {
    "tags": []
   },
   "outputs": [],
   "source": [
    "dat[\"review_id\"] = rgh.generate_random_review_id(n)"
   ]
  },
  {
   "cell_type": "markdown",
   "id": "10328041-889b-4341-b305-1415f6a4e58c",
   "metadata": {},
   "source": [
    "### Generate star ratings\n",
    "\n",
    "Use exponential distribution:"
   ]
  },
  {
   "cell_type": "code",
   "execution_count": null,
   "id": "2a39612d-cf0a-4452-916d-33c2a5751a5d",
   "metadata": {
    "tags": []
   },
   "outputs": [],
   "source": [
    "star_rating = np.array([1, 2, 3, 4, 5])\n",
    "\n",
    "dat[\"star_rating\"] = rgh.subset_array_exponential(rng, star_rating, n, scale = 0.9, sort = False)"
   ]
  },
  {
   "cell_type": "markdown",
   "id": "2e2514e8-6cf9-410b-9de9-64777daba006",
   "metadata": {},
   "source": [
    "### Generate helpful votes\n",
    "\n",
    "Use exponential distribution:"
   ]
  },
  {
   "cell_type": "code",
   "execution_count": null,
   "id": "4a26f60e-c88e-48d9-843f-917bf77da8f0",
   "metadata": {
    "tags": []
   },
   "outputs": [],
   "source": [
    "votes = np.arange(0, 55, 5)\n",
    "\n",
    "dat[\"helpful_votes\"] = rgh.subset_array_exponential(rng, votes, n, scale = 0.9, sort = False)\n",
    "dat[\"helpful_votes\"] = dat[\"helpful_votes\"].astype(\"int\")\n",
    "dat[\"star_rating\"] = dat[\"star_rating\"].astype(\"int\")"
   ]
  },
  {
   "cell_type": "code",
   "execution_count": null,
   "id": "df9e8fcf-f190-43d9-932c-ff70fdf0db69",
   "metadata": {
    "tags": []
   },
   "outputs": [],
   "source": [
    "dat[\"product_category\"] = \"Jewelry\""
   ]
  },
  {
   "cell_type": "markdown",
   "id": "bce38e2a-0e0d-4dd9-85b3-0fe0fe4d188a",
   "metadata": {},
   "source": [
    "## Write the data to S3 in parquet format"
   ]
  },
  {
   "cell_type": "code",
   "execution_count": null,
   "id": "4994a610",
   "metadata": {},
   "outputs": [],
   "source": [
    "s3_bucket_name = <s3://BUCKET-NAME>"
   ]
  },
  {
   "cell_type": "code",
   "execution_count": null,
   "id": "adda3b72",
   "metadata": {
    "tags": []
   },
   "outputs": [],
   "source": [
    "wr.s3.to_parquet(\n",
    "    df = dat[[\"product_category\", \"marketplace\", \"customer_id\", \"review_id\", \"product_id\", \"product_title\", \"star_rating\",\n",
    "            \"helpful_votes\", \"total_votes\", \"insight\", \"review_headline\", \"review_body\", \"review_date\", \"review_year\"]],\n",
    "    path = s3_bucket_name,\n",
    "    dataset = True,\n",
    "    max_rows_by_file = 3000000,\n",
    "    partition_cols = ['product_category']\n",
    ")"
   ]
  },
  {
   "cell_type": "code",
   "execution_count": null,
   "id": "bae8fd48-c43f-4297-9842-d2001d6fd628",
   "metadata": {},
   "outputs": [],
   "source": []
  }
 ],
 "metadata": {
  "availableInstances": [
   {
    "_defaultOrder": 0,
    "_isFastLaunch": true,
    "category": "General purpose",
    "gpuNum": 0,
    "hideHardwareSpecs": false,
    "memoryGiB": 4,
    "name": "ml.t3.medium",
    "vcpuNum": 2
   },
   {
    "_defaultOrder": 1,
    "_isFastLaunch": false,
    "category": "General purpose",
    "gpuNum": 0,
    "hideHardwareSpecs": false,
    "memoryGiB": 8,
    "name": "ml.t3.large",
    "vcpuNum": 2
   },
   {
    "_defaultOrder": 2,
    "_isFastLaunch": false,
    "category": "General purpose",
    "gpuNum": 0,
    "hideHardwareSpecs": false,
    "memoryGiB": 16,
    "name": "ml.t3.xlarge",
    "vcpuNum": 4
   },
   {
    "_defaultOrder": 3,
    "_isFastLaunch": false,
    "category": "General purpose",
    "gpuNum": 0,
    "hideHardwareSpecs": false,
    "memoryGiB": 32,
    "name": "ml.t3.2xlarge",
    "vcpuNum": 8
   },
   {
    "_defaultOrder": 4,
    "_isFastLaunch": true,
    "category": "General purpose",
    "gpuNum": 0,
    "hideHardwareSpecs": false,
    "memoryGiB": 8,
    "name": "ml.m5.large",
    "vcpuNum": 2
   },
   {
    "_defaultOrder": 5,
    "_isFastLaunch": false,
    "category": "General purpose",
    "gpuNum": 0,
    "hideHardwareSpecs": false,
    "memoryGiB": 16,
    "name": "ml.m5.xlarge",
    "vcpuNum": 4
   },
   {
    "_defaultOrder": 6,
    "_isFastLaunch": false,
    "category": "General purpose",
    "gpuNum": 0,
    "hideHardwareSpecs": false,
    "memoryGiB": 32,
    "name": "ml.m5.2xlarge",
    "vcpuNum": 8
   },
   {
    "_defaultOrder": 7,
    "_isFastLaunch": false,
    "category": "General purpose",
    "gpuNum": 0,
    "hideHardwareSpecs": false,
    "memoryGiB": 64,
    "name": "ml.m5.4xlarge",
    "vcpuNum": 16
   },
   {
    "_defaultOrder": 8,
    "_isFastLaunch": false,
    "category": "General purpose",
    "gpuNum": 0,
    "hideHardwareSpecs": false,
    "memoryGiB": 128,
    "name": "ml.m5.8xlarge",
    "vcpuNum": 32
   },
   {
    "_defaultOrder": 9,
    "_isFastLaunch": false,
    "category": "General purpose",
    "gpuNum": 0,
    "hideHardwareSpecs": false,
    "memoryGiB": 192,
    "name": "ml.m5.12xlarge",
    "vcpuNum": 48
   },
   {
    "_defaultOrder": 10,
    "_isFastLaunch": false,
    "category": "General purpose",
    "gpuNum": 0,
    "hideHardwareSpecs": false,
    "memoryGiB": 256,
    "name": "ml.m5.16xlarge",
    "vcpuNum": 64
   },
   {
    "_defaultOrder": 11,
    "_isFastLaunch": false,
    "category": "General purpose",
    "gpuNum": 0,
    "hideHardwareSpecs": false,
    "memoryGiB": 384,
    "name": "ml.m5.24xlarge",
    "vcpuNum": 96
   },
   {
    "_defaultOrder": 12,
    "_isFastLaunch": false,
    "category": "General purpose",
    "gpuNum": 0,
    "hideHardwareSpecs": false,
    "memoryGiB": 8,
    "name": "ml.m5d.large",
    "vcpuNum": 2
   },
   {
    "_defaultOrder": 13,
    "_isFastLaunch": false,
    "category": "General purpose",
    "gpuNum": 0,
    "hideHardwareSpecs": false,
    "memoryGiB": 16,
    "name": "ml.m5d.xlarge",
    "vcpuNum": 4
   },
   {
    "_defaultOrder": 14,
    "_isFastLaunch": false,
    "category": "General purpose",
    "gpuNum": 0,
    "hideHardwareSpecs": false,
    "memoryGiB": 32,
    "name": "ml.m5d.2xlarge",
    "vcpuNum": 8
   },
   {
    "_defaultOrder": 15,
    "_isFastLaunch": false,
    "category": "General purpose",
    "gpuNum": 0,
    "hideHardwareSpecs": false,
    "memoryGiB": 64,
    "name": "ml.m5d.4xlarge",
    "vcpuNum": 16
   },
   {
    "_defaultOrder": 16,
    "_isFastLaunch": false,
    "category": "General purpose",
    "gpuNum": 0,
    "hideHardwareSpecs": false,
    "memoryGiB": 128,
    "name": "ml.m5d.8xlarge",
    "vcpuNum": 32
   },
   {
    "_defaultOrder": 17,
    "_isFastLaunch": false,
    "category": "General purpose",
    "gpuNum": 0,
    "hideHardwareSpecs": false,
    "memoryGiB": 192,
    "name": "ml.m5d.12xlarge",
    "vcpuNum": 48
   },
   {
    "_defaultOrder": 18,
    "_isFastLaunch": false,
    "category": "General purpose",
    "gpuNum": 0,
    "hideHardwareSpecs": false,
    "memoryGiB": 256,
    "name": "ml.m5d.16xlarge",
    "vcpuNum": 64
   },
   {
    "_defaultOrder": 19,
    "_isFastLaunch": false,
    "category": "General purpose",
    "gpuNum": 0,
    "hideHardwareSpecs": false,
    "memoryGiB": 384,
    "name": "ml.m5d.24xlarge",
    "vcpuNum": 96
   },
   {
    "_defaultOrder": 20,
    "_isFastLaunch": false,
    "category": "General purpose",
    "gpuNum": 0,
    "hideHardwareSpecs": true,
    "memoryGiB": 0,
    "name": "ml.geospatial.interactive",
    "supportedImageNames": [
     "sagemaker-geospatial-v1-0"
    ],
    "vcpuNum": 0
   },
   {
    "_defaultOrder": 21,
    "_isFastLaunch": true,
    "category": "Compute optimized",
    "gpuNum": 0,
    "hideHardwareSpecs": false,
    "memoryGiB": 4,
    "name": "ml.c5.large",
    "vcpuNum": 2
   },
   {
    "_defaultOrder": 22,
    "_isFastLaunch": false,
    "category": "Compute optimized",
    "gpuNum": 0,
    "hideHardwareSpecs": false,
    "memoryGiB": 8,
    "name": "ml.c5.xlarge",
    "vcpuNum": 4
   },
   {
    "_defaultOrder": 23,
    "_isFastLaunch": false,
    "category": "Compute optimized",
    "gpuNum": 0,
    "hideHardwareSpecs": false,
    "memoryGiB": 16,
    "name": "ml.c5.2xlarge",
    "vcpuNum": 8
   },
   {
    "_defaultOrder": 24,
    "_isFastLaunch": false,
    "category": "Compute optimized",
    "gpuNum": 0,
    "hideHardwareSpecs": false,
    "memoryGiB": 32,
    "name": "ml.c5.4xlarge",
    "vcpuNum": 16
   },
   {
    "_defaultOrder": 25,
    "_isFastLaunch": false,
    "category": "Compute optimized",
    "gpuNum": 0,
    "hideHardwareSpecs": false,
    "memoryGiB": 72,
    "name": "ml.c5.9xlarge",
    "vcpuNum": 36
   },
   {
    "_defaultOrder": 26,
    "_isFastLaunch": false,
    "category": "Compute optimized",
    "gpuNum": 0,
    "hideHardwareSpecs": false,
    "memoryGiB": 96,
    "name": "ml.c5.12xlarge",
    "vcpuNum": 48
   },
   {
    "_defaultOrder": 27,
    "_isFastLaunch": false,
    "category": "Compute optimized",
    "gpuNum": 0,
    "hideHardwareSpecs": false,
    "memoryGiB": 144,
    "name": "ml.c5.18xlarge",
    "vcpuNum": 72
   },
   {
    "_defaultOrder": 28,
    "_isFastLaunch": false,
    "category": "Compute optimized",
    "gpuNum": 0,
    "hideHardwareSpecs": false,
    "memoryGiB": 192,
    "name": "ml.c5.24xlarge",
    "vcpuNum": 96
   },
   {
    "_defaultOrder": 29,
    "_isFastLaunch": true,
    "category": "Accelerated computing",
    "gpuNum": 1,
    "hideHardwareSpecs": false,
    "memoryGiB": 16,
    "name": "ml.g4dn.xlarge",
    "vcpuNum": 4
   },
   {
    "_defaultOrder": 30,
    "_isFastLaunch": false,
    "category": "Accelerated computing",
    "gpuNum": 1,
    "hideHardwareSpecs": false,
    "memoryGiB": 32,
    "name": "ml.g4dn.2xlarge",
    "vcpuNum": 8
   },
   {
    "_defaultOrder": 31,
    "_isFastLaunch": false,
    "category": "Accelerated computing",
    "gpuNum": 1,
    "hideHardwareSpecs": false,
    "memoryGiB": 64,
    "name": "ml.g4dn.4xlarge",
    "vcpuNum": 16
   },
   {
    "_defaultOrder": 32,
    "_isFastLaunch": false,
    "category": "Accelerated computing",
    "gpuNum": 1,
    "hideHardwareSpecs": false,
    "memoryGiB": 128,
    "name": "ml.g4dn.8xlarge",
    "vcpuNum": 32
   },
   {
    "_defaultOrder": 33,
    "_isFastLaunch": false,
    "category": "Accelerated computing",
    "gpuNum": 4,
    "hideHardwareSpecs": false,
    "memoryGiB": 192,
    "name": "ml.g4dn.12xlarge",
    "vcpuNum": 48
   },
   {
    "_defaultOrder": 34,
    "_isFastLaunch": false,
    "category": "Accelerated computing",
    "gpuNum": 1,
    "hideHardwareSpecs": false,
    "memoryGiB": 256,
    "name": "ml.g4dn.16xlarge",
    "vcpuNum": 64
   },
   {
    "_defaultOrder": 35,
    "_isFastLaunch": false,
    "category": "Accelerated computing",
    "gpuNum": 1,
    "hideHardwareSpecs": false,
    "memoryGiB": 61,
    "name": "ml.p3.2xlarge",
    "vcpuNum": 8
   },
   {
    "_defaultOrder": 36,
    "_isFastLaunch": false,
    "category": "Accelerated computing",
    "gpuNum": 4,
    "hideHardwareSpecs": false,
    "memoryGiB": 244,
    "name": "ml.p3.8xlarge",
    "vcpuNum": 32
   },
   {
    "_defaultOrder": 37,
    "_isFastLaunch": false,
    "category": "Accelerated computing",
    "gpuNum": 8,
    "hideHardwareSpecs": false,
    "memoryGiB": 488,
    "name": "ml.p3.16xlarge",
    "vcpuNum": 64
   },
   {
    "_defaultOrder": 38,
    "_isFastLaunch": false,
    "category": "Accelerated computing",
    "gpuNum": 8,
    "hideHardwareSpecs": false,
    "memoryGiB": 768,
    "name": "ml.p3dn.24xlarge",
    "vcpuNum": 96
   },
   {
    "_defaultOrder": 39,
    "_isFastLaunch": false,
    "category": "Memory Optimized",
    "gpuNum": 0,
    "hideHardwareSpecs": false,
    "memoryGiB": 16,
    "name": "ml.r5.large",
    "vcpuNum": 2
   },
   {
    "_defaultOrder": 40,
    "_isFastLaunch": false,
    "category": "Memory Optimized",
    "gpuNum": 0,
    "hideHardwareSpecs": false,
    "memoryGiB": 32,
    "name": "ml.r5.xlarge",
    "vcpuNum": 4
   },
   {
    "_defaultOrder": 41,
    "_isFastLaunch": false,
    "category": "Memory Optimized",
    "gpuNum": 0,
    "hideHardwareSpecs": false,
    "memoryGiB": 64,
    "name": "ml.r5.2xlarge",
    "vcpuNum": 8
   },
   {
    "_defaultOrder": 42,
    "_isFastLaunch": false,
    "category": "Memory Optimized",
    "gpuNum": 0,
    "hideHardwareSpecs": false,
    "memoryGiB": 128,
    "name": "ml.r5.4xlarge",
    "vcpuNum": 16
   },
   {
    "_defaultOrder": 43,
    "_isFastLaunch": false,
    "category": "Memory Optimized",
    "gpuNum": 0,
    "hideHardwareSpecs": false,
    "memoryGiB": 256,
    "name": "ml.r5.8xlarge",
    "vcpuNum": 32
   },
   {
    "_defaultOrder": 44,
    "_isFastLaunch": false,
    "category": "Memory Optimized",
    "gpuNum": 0,
    "hideHardwareSpecs": false,
    "memoryGiB": 384,
    "name": "ml.r5.12xlarge",
    "vcpuNum": 48
   },
   {
    "_defaultOrder": 45,
    "_isFastLaunch": false,
    "category": "Memory Optimized",
    "gpuNum": 0,
    "hideHardwareSpecs": false,
    "memoryGiB": 512,
    "name": "ml.r5.16xlarge",
    "vcpuNum": 64
   },
   {
    "_defaultOrder": 46,
    "_isFastLaunch": false,
    "category": "Memory Optimized",
    "gpuNum": 0,
    "hideHardwareSpecs": false,
    "memoryGiB": 768,
    "name": "ml.r5.24xlarge",
    "vcpuNum": 96
   },
   {
    "_defaultOrder": 47,
    "_isFastLaunch": false,
    "category": "Accelerated computing",
    "gpuNum": 1,
    "hideHardwareSpecs": false,
    "memoryGiB": 16,
    "name": "ml.g5.xlarge",
    "vcpuNum": 4
   },
   {
    "_defaultOrder": 48,
    "_isFastLaunch": false,
    "category": "Accelerated computing",
    "gpuNum": 1,
    "hideHardwareSpecs": false,
    "memoryGiB": 32,
    "name": "ml.g5.2xlarge",
    "vcpuNum": 8
   },
   {
    "_defaultOrder": 49,
    "_isFastLaunch": false,
    "category": "Accelerated computing",
    "gpuNum": 1,
    "hideHardwareSpecs": false,
    "memoryGiB": 64,
    "name": "ml.g5.4xlarge",
    "vcpuNum": 16
   },
   {
    "_defaultOrder": 50,
    "_isFastLaunch": false,
    "category": "Accelerated computing",
    "gpuNum": 1,
    "hideHardwareSpecs": false,
    "memoryGiB": 128,
    "name": "ml.g5.8xlarge",
    "vcpuNum": 32
   },
   {
    "_defaultOrder": 51,
    "_isFastLaunch": false,
    "category": "Accelerated computing",
    "gpuNum": 1,
    "hideHardwareSpecs": false,
    "memoryGiB": 256,
    "name": "ml.g5.16xlarge",
    "vcpuNum": 64
   },
   {
    "_defaultOrder": 52,
    "_isFastLaunch": false,
    "category": "Accelerated computing",
    "gpuNum": 4,
    "hideHardwareSpecs": false,
    "memoryGiB": 192,
    "name": "ml.g5.12xlarge",
    "vcpuNum": 48
   },
   {
    "_defaultOrder": 53,
    "_isFastLaunch": false,
    "category": "Accelerated computing",
    "gpuNum": 4,
    "hideHardwareSpecs": false,
    "memoryGiB": 384,
    "name": "ml.g5.24xlarge",
    "vcpuNum": 96
   },
   {
    "_defaultOrder": 54,
    "_isFastLaunch": false,
    "category": "Accelerated computing",
    "gpuNum": 8,
    "hideHardwareSpecs": false,
    "memoryGiB": 768,
    "name": "ml.g5.48xlarge",
    "vcpuNum": 192
   },
   {
    "_defaultOrder": 55,
    "_isFastLaunch": false,
    "category": "Accelerated computing",
    "gpuNum": 8,
    "hideHardwareSpecs": false,
    "memoryGiB": 1152,
    "name": "ml.p4d.24xlarge",
    "vcpuNum": 96
   },
   {
    "_defaultOrder": 56,
    "_isFastLaunch": false,
    "category": "Accelerated computing",
    "gpuNum": 8,
    "hideHardwareSpecs": false,
    "memoryGiB": 1152,
    "name": "ml.p4de.24xlarge",
    "vcpuNum": 96
   },
   {
    "_defaultOrder": 57,
    "_isFastLaunch": false,
    "category": "Accelerated computing",
    "gpuNum": 0,
    "hideHardwareSpecs": false,
    "memoryGiB": 32,
    "name": "ml.trn1.2xlarge",
    "vcpuNum": 8
   },
   {
    "_defaultOrder": 58,
    "_isFastLaunch": false,
    "category": "Accelerated computing",
    "gpuNum": 0,
    "hideHardwareSpecs": false,
    "memoryGiB": 512,
    "name": "ml.trn1.32xlarge",
    "vcpuNum": 128
   },
   {
    "_defaultOrder": 59,
    "_isFastLaunch": false,
    "category": "Accelerated computing",
    "gpuNum": 0,
    "hideHardwareSpecs": false,
    "memoryGiB": 512,
    "name": "ml.trn1n.32xlarge",
    "vcpuNum": 128
   }
  ],
  "instance_type": "ml.m5.2xlarge",
  "kernelspec": {
   "display_name": "Python 3 (Data Science 3.0)",
   "language": "python",
   "name": "python3__SAGEMAKER_INTERNAL__arn:aws:sagemaker:us-east-2:429704687514:image/sagemaker-data-science-310-v1"
  },
  "language_info": {
   "codemirror_mode": {
    "name": "ipython",
    "version": 3
   },
   "file_extension": ".py",
   "mimetype": "text/x-python",
   "name": "python",
   "nbconvert_exporter": "python",
   "pygments_lexer": "ipython3",
   "version": "3.10.6"
  }
 },
 "nbformat": 4,
 "nbformat_minor": 5
}
