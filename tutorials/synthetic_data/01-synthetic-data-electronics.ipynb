{
 "cells": [
  {
   "cell_type": "markdown",
   "id": "201a7dc9-732c-4441-82c9-a0576f874f5e",
   "metadata": {},
   "source": [
    "# Generation of synthetic reviews dataset for the AWS Blog \"Testing data quality at scale with PyDeequ\"\n",
    "\n",
    "This notebook outlines the steps to generate synthetic data for the AWS blog post [\"Testing data quality at scale with PyDeequ\"](https://aws.amazon.com/blogs/big-data/testing-data-quality-at-scale-with-pydeequ/) for the update of the blog publushed in June 2024. The new synthetic dataset replaces the original Amazon reviews dataset, however, it retains characteristics necessary to demonstrate features of PyDeequ library. \n",
    "\n",
    "This synthetic dataset resides in the public S3 bucket: `s3://aws-bigdata-blog/generated_synthetic_reviews/data/product_category=Electronics/` as parquet files.\n",
    "\n",
    "The notebook was executed in Jupyter Lab of Amazon SageMaker Classic, ml.m5.4xlarge instance, DataScience 3.0/Python 3 kernel."
   ]
  },
  {
   "cell_type": "code",
   "execution_count": null,
   "id": "efa8bcb9",
   "metadata": {
    "tags": []
   },
   "outputs": [],
   "source": [
    "import pandas as pd\n",
    "\n",
    "import numpy as np\n",
    "rng = np.random.default_rng(seed = 42)\n",
    "\n",
    "# awswrangler version: 3.7.2\n",
    "import awswrangler as wr\n",
    "import matplotlib.pyplot as plt\n",
    "# essential_generators version: 1.0\n",
    "from essential_generators import DocumentGenerator\n",
    "\n",
    "import random\n",
    "random.seed(a = 42, version=2)\n",
    "import string"
   ]
  },
  {
   "cell_type": "markdown",
   "id": "35e88014",
   "metadata": {},
   "source": [
    "Supporting functions:"
   ]
  },
  {
   "cell_type": "code",
   "execution_count": null,
   "id": "609b37a6",
   "metadata": {
    "tags": []
   },
   "outputs": [],
   "source": [
    "import review_generation_helpers as rgh"
   ]
  },
  {
   "cell_type": "markdown",
   "id": "1f0f3557-dec7-42bb-8652-cacd4796e2db",
   "metadata": {},
   "source": [
    "## Engineer data columns"
   ]
  },
  {
   "cell_type": "markdown",
   "id": "28a42597-13d6-4b5b-8497-563c5a10e020",
   "metadata": {},
   "source": [
    "### Generate marketplace, review_headline and review_body"
   ]
  },
  {
   "cell_type": "markdown",
   "id": "d7c7a097-661e-4889-8a55-82b51749b2a8",
   "metadata": {},
   "source": [
    "To generate review titles/headlines and bodies we use [essential_generators](https://pypi.org/project/essential-generators/) module. This will create nonsensical sentences (for the titles) and paragraphs (for the review bodies)."
   ]
  },
  {
   "cell_type": "code",
   "execution_count": null,
   "id": "704b3901-4982-4e11-8d5d-a6f4cdebfce0",
   "metadata": {
    "tags": []
   },
   "outputs": [],
   "source": [
    "gen = DocumentGenerator()\n",
    "\n",
    "template = {'marketplace': ['US', 'UK', 'DE', 'JP', 'FR', None, ''], \n",
    "            'review_headline':'sentence', \n",
    "            'review_body': 'paragraph'}\n",
    "gen.set_template(template)\n",
    "documents = gen.documents(3010972)"
   ]
  },
  {
   "cell_type": "code",
   "execution_count": null,
   "id": "9d1813b9-d294-4705-8792-e6c64927eb30",
   "metadata": {
    "tags": []
   },
   "outputs": [],
   "source": [
    "len(documents)"
   ]
  },
  {
   "cell_type": "markdown",
   "id": "4f845288-a7f0-4b13-bd70-6b9041bc2c54",
   "metadata": {},
   "source": [
    "Review a few generated examples:"
   ]
  },
  {
   "cell_type": "code",
   "execution_count": null,
   "id": "345f996b-14d6-4b33-b17c-6e9ba4fa1f9f",
   "metadata": {
    "tags": []
   },
   "outputs": [],
   "source": [
    "documents[0]"
   ]
  },
  {
   "cell_type": "code",
   "execution_count": null,
   "id": "10a1306d-349f-4d04-bdc1-e09ddd34ee56",
   "metadata": {
    "tags": []
   },
   "outputs": [],
   "source": [
    "documents[100]"
   ]
  },
  {
   "cell_type": "code",
   "execution_count": null,
   "id": "9d44a75a-cd74-41c3-857a-36523786ca2c",
   "metadata": {
    "tags": []
   },
   "outputs": [],
   "source": [
    "documents[10000]"
   ]
  },
  {
   "cell_type": "markdown",
   "id": "545995c5-716b-40fd-af8b-40873bc820cc",
   "metadata": {},
   "source": [
    "Convert the json object to pandas DataFrame:"
   ]
  },
  {
   "cell_type": "code",
   "execution_count": null,
   "id": "24fb8ad5-62bb-4353-99ac-9bd11c74a156",
   "metadata": {
    "tags": []
   },
   "outputs": [],
   "source": [
    "dat = pd.DataFrame(documents)\n",
    "dat.head()"
   ]
  },
  {
   "cell_type": "code",
   "execution_count": null,
   "id": "18ed554b-b84e-4f13-938d-319b625f016b",
   "metadata": {
    "tags": []
   },
   "outputs": [],
   "source": [
    "dat[\"marketplace\"].unique()"
   ]
  },
  {
   "cell_type": "code",
   "execution_count": null,
   "id": "6eb0f8b6-d2f0-4c58-8365-9bf6dac3552f",
   "metadata": {
    "tags": []
   },
   "outputs": [],
   "source": [
    "dat.shape"
   ]
  },
  {
   "cell_type": "markdown",
   "id": "8339ecc5-0458-450a-a529-39b982f9ef8a",
   "metadata": {
    "tags": []
   },
   "source": [
    "### Generate review years"
   ]
  },
  {
   "cell_type": "markdown",
   "id": "2d388808-9928-4fa8-ae6b-954f16868316",
   "metadata": {},
   "source": [
    "We assume that each year brings more reviews for a successful retailer, therefore the values in year column will be drawn with weights according to the exponential distribution.\n",
    "\n",
    "Total number of reviews (and the rows in the dataset):"
   ]
  },
  {
   "cell_type": "code",
   "execution_count": null,
   "id": "72dfb83f-55c4-4da4-8716-c4465d6dfb35",
   "metadata": {
    "tags": []
   },
   "outputs": [],
   "source": [
    "n = dat.shape[0]"
   ]
  },
  {
   "cell_type": "code",
   "execution_count": null,
   "id": "ea337a7b-e15e-4626-94b1-73db52613400",
   "metadata": {
    "tags": []
   },
   "outputs": [],
   "source": [
    "# array of years\n",
    "years_range = np.arange(1996, 2017, 1)\n",
    "\n",
    "# generate the weights:\n",
    "exp_weights = rng.exponential(1, size = len(years_range))\n",
    "exp_weights.sort()\n",
    "\n",
    "# select the year according to the weights:\n",
    "years = rng.choice(years_range, size = n, p = exp_weights/exp_weights.sum())"
   ]
  },
  {
   "cell_type": "code",
   "execution_count": null,
   "id": "d1a85589-5f7b-439a-b249-20f5f943ec56",
   "metadata": {
    "tags": []
   },
   "outputs": [],
   "source": [
    "np.unique(years, return_counts = True)"
   ]
  },
  {
   "cell_type": "markdown",
   "id": "8835d4aa-fb1c-4db1-9b61-a018fb755320",
   "metadata": {
    "tags": []
   },
   "source": [
    "The blog focuces on the data quality. Introduce out-of-range years to be detected by PyDeequ checks."
   ]
  },
  {
   "cell_type": "code",
   "execution_count": null,
   "id": "03036fcc-2baa-4d14-b073-37a09a60f8f1",
   "metadata": {
    "tags": []
   },
   "outputs": [],
   "source": [
    "k = np.where(years == 2002)"
   ]
  },
  {
   "cell_type": "code",
   "execution_count": null,
   "id": "9b8b0d04-03b2-4e56-807c-27b45bdbacc9",
   "metadata": {
    "tags": []
   },
   "outputs": [],
   "source": [
    "years[k[0][0]] = 2202"
   ]
  },
  {
   "cell_type": "code",
   "execution_count": null,
   "id": "1de8a624-6886-444a-abec-fda755e913c8",
   "metadata": {
    "tags": []
   },
   "outputs": [],
   "source": [
    "years[years == 2202]"
   ]
  },
  {
   "cell_type": "code",
   "execution_count": null,
   "id": "e91886ba-cfc7-49fd-a528-9fb92800d4f2",
   "metadata": {
    "tags": []
   },
   "outputs": [],
   "source": [
    "k = np.where(years == 1996)"
   ]
  },
  {
   "cell_type": "code",
   "execution_count": null,
   "id": "73526bb2-ec7f-43c7-b0ae-1338834f294c",
   "metadata": {
    "tags": []
   },
   "outputs": [],
   "source": [
    "years[[k[0][0], k[0][1]]] = 1696"
   ]
  },
  {
   "cell_type": "code",
   "execution_count": null,
   "id": "9fd12e37-6be8-4f20-8d76-8ef41ef96e23",
   "metadata": {
    "tags": []
   },
   "outputs": [],
   "source": [
    "years[years == 1696]"
   ]
  },
  {
   "cell_type": "code",
   "execution_count": null,
   "id": "5d735b82-e2c5-4003-9b04-186e760f9621",
   "metadata": {
    "tags": []
   },
   "outputs": [],
   "source": [
    "k = np.where(years == 2001)"
   ]
  },
  {
   "cell_type": "code",
   "execution_count": null,
   "id": "f33e343c-1d1c-4eaa-8641-6716f4dd9edd",
   "metadata": {
    "tags": []
   },
   "outputs": [],
   "source": [
    "years[[k[0][0], k[0][30]]] = 2101"
   ]
  },
  {
   "cell_type": "code",
   "execution_count": null,
   "id": "52496546-6848-440a-83e3-e38f98a748b8",
   "metadata": {
    "tags": []
   },
   "outputs": [],
   "source": [
    "years[years == 2101]"
   ]
  },
  {
   "cell_type": "code",
   "execution_count": null,
   "id": "c6a5d6c8-1286-4285-9cb6-72571d3caa3d",
   "metadata": {
    "tags": []
   },
   "outputs": [],
   "source": [
    "years.shape[0]"
   ]
  },
  {
   "cell_type": "code",
   "execution_count": null,
   "id": "481f33c4-78e2-4697-bb0c-f08d78e0ddf2",
   "metadata": {
    "tags": []
   },
   "outputs": [],
   "source": [
    "np.unique(years, return_counts = True)"
   ]
  },
  {
   "cell_type": "markdown",
   "id": "4a33f8ff-078b-4973-ac13-5f56ec5d94cf",
   "metadata": {},
   "source": [
    "### Generate review dates"
   ]
  },
  {
   "cell_type": "code",
   "execution_count": null,
   "id": "db7ce977-6a09-416f-b0c0-711ea791053f",
   "metadata": {
    "tags": []
   },
   "outputs": [],
   "source": [
    "review_year_date = rgh.generate_dates(rng, years)"
   ]
  },
  {
   "cell_type": "code",
   "execution_count": null,
   "id": "6c80417f-f3ab-4641-9102-280a92f86403",
   "metadata": {
    "tags": []
   },
   "outputs": [],
   "source": [
    "review_year_date"
   ]
  },
  {
   "cell_type": "markdown",
   "id": "04c49725-1ab7-4684-8d55-b5d6043032c6",
   "metadata": {},
   "source": [
    "### Generate user ratings (star_rating)\n",
    "\n",
    "The original dataset used in the blog post had ratings between 1 and 5 stars, with an average rating of 4 stars, and  74.9% of reviews had the star rating 4 or higher (the last condition was defined in the blog [\"Test data quality at scale with Deequ\"](https://aws.amazon.com/blogs/big-data/test-data-quality-at-scale-with-deequ/).\n",
    "\n",
    "To satisfy the requirements for the star rating statistics we found that the following distribution of the number of stars works: `array([1, 1, 3, 7, 8])` for 1, 2, 3, 4, and 5 stars accordingly. This distribution was optimized on an array of length 20. We will use numpy.repeat() method to generate an array of final length."
   ]
  },
  {
   "cell_type": "code",
   "execution_count": null,
   "id": "aa9ea8b2-7a1e-40fe-90ad-d5dee6e9cdc4",
   "metadata": {
    "tags": []
   },
   "outputs": [],
   "source": [
    "repeats = np.round(n/20)\n",
    "repeats"
   ]
  },
  {
   "cell_type": "code",
   "execution_count": null,
   "id": "63f59b0f-6e6b-4d7b-88bd-cb38281f95fb",
   "metadata": {
    "tags": []
   },
   "outputs": [],
   "source": [
    "arr_sample = np.array([1, 2, 3, 3, 3, 4, 4, 4, 4, 4, 4, 4, 5, 5, 5, 5, 5, 5, 5, 5])\n",
    "ratings_all = np.repeat(arr_sample, repeats = repeats, axis = 0)\n",
    "ratings_all.shape"
   ]
  },
  {
   "cell_type": "markdown",
   "id": "6d4abf20-54ad-45b0-912c-bdfd1c4218a9",
   "metadata": {},
   "source": [
    "Checking that it satisfies the data statistics of the original dataset:"
   ]
  },
  {
   "cell_type": "code",
   "execution_count": null,
   "id": "bde10ae9-f29f-468a-ba89-47e147cc6724",
   "metadata": {
    "tags": []
   },
   "outputs": [],
   "source": [
    "ratings_all.mean()"
   ]
  },
  {
   "cell_type": "code",
   "execution_count": null,
   "id": "2c40cd19-8b64-4e0e-91ea-7e7c6803fefb",
   "metadata": {
    "tags": []
   },
   "outputs": [],
   "source": [
    "ratings_all[ratings_all >= 4].shape"
   ]
  },
  {
   "cell_type": "code",
   "execution_count": null,
   "id": "1ab1cd17-fa5c-40e3-92b9-0232b70cf5a1",
   "metadata": {
    "tags": []
   },
   "outputs": [],
   "source": [
    "2258235*100/3010980"
   ]
  },
  {
   "cell_type": "markdown",
   "id": "9ab834fe-60f3-41c6-a689-114edd4df765",
   "metadata": {},
   "source": [
    "Remove 8 elements from the back of the array (a few 5 star ratings) to get the final count needed for the dataset:"
   ]
  },
  {
   "cell_type": "code",
   "execution_count": null,
   "id": "a039d985-9ccc-4287-a894-1964beb06522",
   "metadata": {
    "tags": []
   },
   "outputs": [],
   "source": [
    "ratings = ratings_all[0:(len(ratings_all)-8)]\n",
    "ratings.shape[0] == n"
   ]
  },
  {
   "cell_type": "markdown",
   "id": "991e058a-8fe7-4134-beb4-80ae3ca4a73c",
   "metadata": {},
   "source": [
    "Check that the new array still satisfies the requirements:"
   ]
  },
  {
   "cell_type": "code",
   "execution_count": null,
   "id": "09fa7633-6bd5-41ca-8623-a2a1ee7041c1",
   "metadata": {
    "tags": []
   },
   "outputs": [],
   "source": [
    "ratings.mean()"
   ]
  },
  {
   "cell_type": "code",
   "execution_count": null,
   "id": "c9da833c-25ba-4dd2-825a-91f6bb01155d",
   "metadata": {
    "tags": []
   },
   "outputs": [],
   "source": [
    "ratings[ratings >= 4].shape"
   ]
  },
  {
   "cell_type": "code",
   "execution_count": null,
   "id": "98819bb5-f1f3-4684-915e-7b797c170cc9",
   "metadata": {
    "tags": []
   },
   "outputs": [],
   "source": [
    "2258227*100/n"
   ]
  },
  {
   "cell_type": "markdown",
   "id": "d9d4be8c-4f66-4887-a82d-72cdc5aa09dc",
   "metadata": {},
   "source": [
    "Shuffle the ratings:"
   ]
  },
  {
   "cell_type": "code",
   "execution_count": null,
   "id": "633f6a62-0a57-4b02-9904-b646b7e8a5bf",
   "metadata": {
    "tags": []
   },
   "outputs": [],
   "source": [
    "rng.shuffle(ratings)\n",
    "ratings[1:40]"
   ]
  },
  {
   "cell_type": "markdown",
   "id": "eda9092a-ce18-4b30-84a7-da065352e371",
   "metadata": {},
   "source": [
    "### Generate helpful and total votes\n",
    "\n",
    "For these 2 columns we have experimented with the mean and the variance to get the target correlation (0.99365) based on the formula for correlation. We ensured that there are no negative votes.  "
   ]
  },
  {
   "cell_type": "code",
   "execution_count": null,
   "id": "009ae73a-5103-400e-af91-fca83e35ef6a",
   "metadata": {
    "tags": []
   },
   "outputs": [],
   "source": [
    "cov = [[15, 8.59668777], [8.59668777, 5]]\n",
    "mean = [20, 15]\n",
    "total_votes, helpful_votes = rng.multivariate_normal(mean, cov, n).T\n",
    "total_votes.shape[0] == n"
   ]
  },
  {
   "cell_type": "code",
   "execution_count": null,
   "id": "822ab827-e33f-4a81-97ce-10c95fb07895",
   "metadata": {
    "tags": []
   },
   "outputs": [],
   "source": [
    "helpful_votes.shape[0] == n"
   ]
  },
  {
   "cell_type": "markdown",
   "id": "cd9ff9a9-1077-4bb4-8359-897171bfd5b5",
   "metadata": {},
   "source": [
    "Visualize total vs helpful votes:"
   ]
  },
  {
   "cell_type": "code",
   "execution_count": null,
   "id": "6b858dbf-92fa-4db8-ae29-c6e9447e63d5",
   "metadata": {
    "tags": []
   },
   "outputs": [],
   "source": [
    "plt.scatter(total_votes, helpful_votes, alpha = 0.5)\n",
    "plt.xlabel('total votes')\n",
    "plt.ylabel('helpful votes')\n",
    "plt.show()"
   ]
  },
  {
   "cell_type": "markdown",
   "id": "28416497-0d52-4ff9-8cf8-5e6a8ce1ee31",
   "metadata": {},
   "source": [
    "Check the correlation numerically:"
   ]
  },
  {
   "cell_type": "code",
   "execution_count": null,
   "id": "429f6d20-1bae-42c6-a3ca-0af4c0414de8",
   "metadata": {
    "tags": []
   },
   "outputs": [],
   "source": [
    "np.corrcoef(total_votes, helpful_votes)"
   ]
  },
  {
   "cell_type": "markdown",
   "id": "f4b02f23-b5ec-41c6-8b7a-372e90414189",
   "metadata": {},
   "source": [
    "This is a sufficiently close result."
   ]
  },
  {
   "cell_type": "markdown",
   "id": "40bc5fb2-e070-45a5-8509-7f31ef47cd00",
   "metadata": {},
   "source": [
    "Total votes and star rating shouldn't be correlated:"
   ]
  },
  {
   "cell_type": "code",
   "execution_count": null,
   "id": "23a745f7-66b2-4536-9e9a-041d1f8ab650",
   "metadata": {
    "tags": []
   },
   "outputs": [],
   "source": [
    "np.corrcoef(total_votes, ratings)"
   ]
  },
  {
   "cell_type": "markdown",
   "id": "61ae2fcf-07bf-40f8-a2ab-487752f0654e",
   "metadata": {},
   "source": [
    "### Generate product ids and product titles\n",
    "\n",
    "Create product titles and add additional variability by adding prefixes (product descriptions) and suffixes (additional product features):"
   ]
  },
  {
   "cell_type": "code",
   "execution_count": null,
   "id": "1ff6e5ca-fb98-42e0-994c-af6d40079731",
   "metadata": {
    "tags": []
   },
   "outputs": [],
   "source": [
    "# pool of product names, prefixes and suffixes from which we will generate the product titles\n",
    "product_pool= [\"fax machine\", \"banknote counter\", \"electronic alarm clock\",\"electric pencil sharpener\", \n",
    "               \"blu-ray\", \"floor lamp\", \"hair dryer\", \"paper copier\", \"electric drill\", \"video camera\", \n",
    "               \"radio\", \"air purifier\", \"floor heater\", \"cd player\", \"iron\", \"kettle\",  \"mp3 player\",\n",
    "               \"video player\", \"electric stove\", \"electric razor\", \"dvd\", \"curling iron\",  \n",
    "               \"office printer\", \"wireless speaker\", \"kitchen scale\", \"theater receiver\", \"electronic cigarettes\", \n",
    "               \"computer\",  \"television\", \"smartphone\", \"surge protector\", \"remote control\", \"headset\", \n",
    "               \"game controller\", \"cellular phone\", \"bluetooth speaker\"]\n",
    "product_prefix_pool = [\"large\", \"red\", \"small\", \"orange\", \"green\", \"black\", \"silver\", \"yellow\", \"compact\", \n",
    "                       \"energy-efficient\", \"vintage\", \"pink\", \"portable\", \"white\", \"metal\", \"stainless-steel\"]\n",
    "product_suffix_pool = [\"newest model\", \"refurbished\", \"renewed\", \"1996 model\", \"with the storage case\", \n",
    "                       \"charger included\", \"charger not included\", \"batteries not included\", \"waterproof\", \n",
    "                       \"with adapter\", \"with wooden inlays\", \"with silver details\", \"with black handle\", \n",
    "                       \"EU compatible\", \"Japan compatible\", \"US compatible\"]"
   ]
  },
  {
   "cell_type": "markdown",
   "id": "9bcfda45-ccc9-4b5a-8aac-8b6fc0884983",
   "metadata": {},
   "source": [
    "Generate products using combinations of product names, prefixes and suffixes. Each product will then get a unique product id."
   ]
  },
  {
   "cell_type": "code",
   "execution_count": null,
   "id": "89c4e32b-ea72-43ee-a276-04089c2d1e1a",
   "metadata": {
    "tags": []
   },
   "outputs": [],
   "source": [
    "products = rgh.generate_products(rng, [product_prefix_pool, product_pool, product_suffix_pool],  n)"
   ]
  },
  {
   "cell_type": "code",
   "execution_count": null,
   "id": "2800be78-7ab6-4dfb-b3dc-d85877691444",
   "metadata": {
    "tags": []
   },
   "outputs": [],
   "source": [
    "products"
   ]
  },
  {
   "cell_type": "markdown",
   "id": "a2633a16-10f9-42b7-a2f9-e3e315203b0f",
   "metadata": {},
   "source": [
    "### Generate customer ids and insight\n",
    "\n",
    "Create a column 'insight' to indicate influential reviewers.\n",
    "\n",
    "Generate the following distribution of the number of reviews per customer:\n",
    "\n",
    "- 10% of the reviews come from a single customer (1 review : 1 customer)\n",
    "- 15% - 2:1 (each customer created 2 reviews)\n",
    "- 10% - 3:1 (each customer created 3 reviews)\n",
    "- 10% - 4:1 (each customer created 4 reviews)\n",
    "- 20% - 7:1 (each customer created 7 reviews)\n",
    "- 35% - 15:1 (each customer created 15 reviews)\n",
    "\n",
    "Create more \"insightful\" reviews for customers who wrote more reviews. Insight is a Y/N field."
   ]
  },
  {
   "cell_type": "markdown",
   "id": "895bcbb5-f67b-45aa-8a71-58d6ddf8fa81",
   "metadata": {},
   "source": [
    "#### Generate customer_id"
   ]
  },
  {
   "cell_type": "code",
   "execution_count": null,
   "id": "aedec858-b050-46ae-b985-07290ca3a476",
   "metadata": {
    "tags": []
   },
   "outputs": [],
   "source": [
    "temp = np.round(np.array([0.1, 0.15, 0.2])*n).astype(int)\n",
    "temp"
   ]
  },
  {
   "cell_type": "markdown",
   "id": "4db85ce5-2671-4d7c-8ad0-502e886c82d0",
   "metadata": {},
   "source": [
    "Experiment with different numbers of customers to get obtain the distribution as outlined above. "
   ]
  },
  {
   "cell_type": "code",
   "execution_count": null,
   "id": "ff9fe35e-86a3-41b3-b3d8-b574f6f6f6eb",
   "metadata": {
    "tags": []
   },
   "outputs": [],
   "source": [
    "# 10% of the reviews come from a single customer (1 review from 1 customer)\n",
    "r1 = 301097"
   ]
  },
  {
   "cell_type": "markdown",
   "id": "5145e5a6-c020-49f2-834a-fe9205a9ed31",
   "metadata": {},
   "source": [
    "15% of reviews are expected to come from customers who wrote 2 reviews each:"
   ]
  },
  {
   "cell_type": "code",
   "execution_count": null,
   "id": "c713d5d3-16cc-4804-a553-3f26fb7af883",
   "metadata": {
    "tags": []
   },
   "outputs": [],
   "source": [
    "451646/2"
   ]
  },
  {
   "cell_type": "code",
   "execution_count": null,
   "id": "c73cd6c3-f599-4cc4-b8ed-4b36ad83a0cc",
   "metadata": {
    "tags": []
   },
   "outputs": [],
   "source": [
    "r2 = 451646"
   ]
  },
  {
   "cell_type": "markdown",
   "id": "ae13a879-5fcd-4bbf-b3e6-edfd9141c754",
   "metadata": {},
   "source": [
    "10% of reviews came from customers who have written 3 reviews each: use 301101."
   ]
  },
  {
   "cell_type": "code",
   "execution_count": null,
   "id": "5750105e-de4e-4c40-990a-f936e65234ef",
   "metadata": {
    "tags": []
   },
   "outputs": [],
   "source": [
    "(r1+4)/3"
   ]
  },
  {
   "cell_type": "code",
   "execution_count": null,
   "id": "1a54713c-2b26-4687-9469-5922ac51157b",
   "metadata": {
    "tags": []
   },
   "outputs": [],
   "source": [
    "r3 = r1 + 4\n",
    "r3"
   ]
  },
  {
   "cell_type": "markdown",
   "id": "613241bb-7435-4497-82f1-fe15c6f297c4",
   "metadata": {},
   "source": [
    "10% reviews came from the customers who have written 4 reviews each, use 301100."
   ]
  },
  {
   "cell_type": "code",
   "execution_count": null,
   "id": "972904f5-b7e2-4af3-9368-475a72757f84",
   "metadata": {
    "tags": []
   },
   "outputs": [],
   "source": [
    "(r1 + 3)/4"
   ]
  },
  {
   "cell_type": "code",
   "execution_count": null,
   "id": "4c2da659-90f3-47b9-ad52-aba9486e284d",
   "metadata": {
    "tags": []
   },
   "outputs": [],
   "source": [
    "r4 = r1 +3 \n",
    "r4"
   ]
  },
  {
   "cell_type": "markdown",
   "id": "616bca47-658c-4ec0-8c14-be2110acb53b",
   "metadata": {},
   "source": [
    "20% of reviews came from the customers who have written 7 reviews each. Use 602196."
   ]
  },
  {
   "cell_type": "code",
   "execution_count": null,
   "id": "1213685f-4921-477a-a0de-e590c5dbbd57",
   "metadata": {
    "tags": []
   },
   "outputs": [],
   "source": [
    "(602194+2)/7"
   ]
  },
  {
   "cell_type": "code",
   "execution_count": null,
   "id": "efee8b80-6ad2-4f2d-a3a9-93795adb2db1",
   "metadata": {
    "tags": []
   },
   "outputs": [],
   "source": [
    "r7 = 602194+2\n",
    "r7"
   ]
  },
  {
   "cell_type": "markdown",
   "id": "e3b3f5a9-b391-4c90-b10a-09610342683a",
   "metadata": {},
   "source": [
    "The rest of the reviews:"
   ]
  },
  {
   "cell_type": "code",
   "execution_count": null,
   "id": "3a08c11a-5737-40c2-871f-f324ed5f7e89",
   "metadata": {
    "tags": []
   },
   "outputs": [],
   "source": [
    "n - r1 - r2 - r3 - r4 - r7"
   ]
  },
  {
   "cell_type": "markdown",
   "id": "447e1a3f-7d26-4b17-a8f0-f3ae3b44b388",
   "metadata": {},
   "source": [
    "26 reviews per customer gives us a round number of customers:"
   ]
  },
  {
   "cell_type": "code",
   "execution_count": null,
   "id": "fcca9845-8321-43e4-bed4-7c264c35b799",
   "metadata": {
    "tags": []
   },
   "outputs": [],
   "source": [
    "1053832/26"
   ]
  },
  {
   "cell_type": "code",
   "execution_count": null,
   "id": "fb5c7d5b-6303-4845-9542-0064c6e30e03",
   "metadata": {
    "tags": []
   },
   "outputs": [],
   "source": [
    "# these people have written 26 reviews\n",
    "rmax = 1053832"
   ]
  },
  {
   "cell_type": "markdown",
   "id": "07a6251f-cdd4-45b7-872c-e5e5cb37f0c5",
   "metadata": {},
   "source": [
    "Verify that the sum is still correct:"
   ]
  },
  {
   "cell_type": "code",
   "execution_count": null,
   "id": "f1e37b65-3c34-473d-a274-81df516f2035",
   "metadata": {
    "tags": []
   },
   "outputs": [],
   "source": [
    "(r1 + r2 + r3 + r4 + r7 + rmax) == n"
   ]
  },
  {
   "cell_type": "markdown",
   "id": "d8c070f0-8aba-4ed6-bc67-3b296f093890",
   "metadata": {},
   "source": [
    "How many customers do we actually need?"
   ]
  },
  {
   "cell_type": "code",
   "execution_count": null,
   "id": "0cb2a96f-068f-4d31-b555-ed1d6df3d6f7",
   "metadata": {
    "tags": []
   },
   "outputs": [],
   "source": [
    "c1, c2, c3, c4, c7, c26 = r1, int(r2/2), int(r3/3), int(r4/4), int(r7/7), int(rmax/26)\n",
    "total_customers_needed = c1 + c2 + c3 + c4 + c7 + c26\n",
    "total_customers_needed"
   ]
  },
  {
   "cell_type": "markdown",
   "id": "f6ff400e-ffbf-4737-ba0d-32c665145ab5",
   "metadata": {},
   "source": [
    "Generate random customer ids and shuffle."
   ]
  },
  {
   "cell_type": "code",
   "execution_count": null,
   "id": "01008fb8-b754-47e9-bc32-e86fb8108a60",
   "metadata": {
    "tags": []
   },
   "outputs": [],
   "source": [
    "customer_ids = np.arange(100000, 100000 + total_customers_needed)\n",
    "rng.shuffle(customer_ids)"
   ]
  },
  {
   "cell_type": "markdown",
   "id": "b42d1281-e07e-4fbd-8cd5-527855e62c9d",
   "metadata": {},
   "source": [
    "Next, construct indices to split this array into:"
   ]
  },
  {
   "cell_type": "code",
   "execution_count": null,
   "id": "b9ce0674-fcdf-4472-a205-c76437b63cea",
   "metadata": {
    "tags": []
   },
   "outputs": [],
   "source": [
    "split_indices = [c1, \n",
    "                 c1 + c2, \n",
    "                 c1 + c2 + c3,\n",
    "                 c1 + c2 + c3 + c4, \n",
    "                 c1 + c2 + c3 + c4 + c7]\n",
    "split_indices"
   ]
  },
  {
   "cell_type": "code",
   "execution_count": null,
   "id": "14b3aac1-e173-49d8-b038-783fdeec77eb",
   "metadata": {
    "tags": []
   },
   "outputs": [],
   "source": [
    "customer_cohorts = np.split(customer_ids, split_indices)"
   ]
  },
  {
   "cell_type": "code",
   "execution_count": null,
   "id": "1f03767b-143b-4387-895a-a2a1850fcdee",
   "metadata": {
    "tags": []
   },
   "outputs": [],
   "source": [
    "len(customer_cohorts)"
   ]
  },
  {
   "cell_type": "code",
   "execution_count": null,
   "id": "b174f136-96e8-4965-b62b-b70edf8fa253",
   "metadata": {
    "tags": []
   },
   "outputs": [],
   "source": [
    "[len(x) for x in customer_cohorts]"
   ]
  },
  {
   "cell_type": "markdown",
   "id": "add9ccdd-53ce-4956-9679-f9d70979e7b8",
   "metadata": {},
   "source": [
    "The code below completes generation of customer ids relative to the ratio of reviews as defined in the beginning of the section. "
   ]
  },
  {
   "cell_type": "code",
   "execution_count": null,
   "id": "2ba2d4c2-62a8-48ba-8d11-d62123de9276",
   "metadata": {
    "tags": []
   },
   "outputs": [],
   "source": [
    "customers = np.hstack([customer_cohorts[0], \n",
    "                       np.repeat(customer_cohorts[1], 2),\n",
    "                       np.repeat(customer_cohorts[2], 3),\n",
    "                       np.repeat(customer_cohorts[3], 4),\n",
    "                       np.repeat(customer_cohorts[4], 7),\n",
    "                       np.repeat(customer_cohorts[5], 26)\n",
    "                      ])\n",
    "customers.shape[0] == n"
   ]
  },
  {
   "cell_type": "markdown",
   "id": "0fadfbd8-921c-48f9-a5be-872236842caf",
   "metadata": {},
   "source": [
    "Next, we need to distribute 'insight' accordingly and shuffle."
   ]
  },
  {
   "cell_type": "markdown",
   "id": "a447f7dd-8d3e-4afb-92ba-f404746bbbdb",
   "metadata": {},
   "source": [
    "#### Create vine = insight\n",
    "\n",
    "Customers with more reviews should have more Y than N in the vine = insight column."
   ]
  },
  {
   "cell_type": "code",
   "execution_count": null,
   "id": "f4c17d4a-86fd-406d-a0ce-b7edf2b27757",
   "metadata": {
    "tags": []
   },
   "outputs": [],
   "source": [
    "insight = np.hstack([rng.choice(['N'], r1), \n",
    "                 rng.choice(['N'], r2),\n",
    "                 rng.choice(['N'], r3),\n",
    "                 rng.choice(['Y', 'N'], r4, p = [0.2, 0.8]),\n",
    "                 rng.choice(['Y', 'N'], r7, p = [0.5, 0.5]),\n",
    "                 rng.choice(['Y', 'N'], rmax, p = [0.9, 0.1])])"
   ]
  },
  {
   "cell_type": "code",
   "execution_count": null,
   "id": "5c82bf09-9508-466b-8b9c-44334ee63e69",
   "metadata": {
    "tags": []
   },
   "outputs": [],
   "source": [
    "insight.shape[0] == n"
   ]
  },
  {
   "cell_type": "markdown",
   "id": "ca6c7bf4-3514-44d7-9f38-911905a55df7",
   "metadata": {},
   "source": [
    "### Associate customer ids with the indicator for insight and shuffle"
   ]
  },
  {
   "cell_type": "markdown",
   "id": "b80f5201-6d4a-4453-801f-c746fdebf76f",
   "metadata": {},
   "source": [
    "Combine into a single array:"
   ]
  },
  {
   "cell_type": "code",
   "execution_count": null,
   "id": "dce82615-d9b3-4200-9fff-d88a710fea2d",
   "metadata": {
    "tags": []
   },
   "outputs": [],
   "source": [
    "cust_insight = np.vstack([customers, insight])\n",
    "cust_insight.shape"
   ]
  },
  {
   "cell_type": "code",
   "execution_count": null,
   "id": "d2bb8a8a-01ef-4e91-8edb-9d1b0847335e",
   "metadata": {
    "tags": []
   },
   "outputs": [],
   "source": [
    "ind = np.arange(cust_insight.shape[1])\n",
    "ind[0:100]"
   ]
  },
  {
   "cell_type": "code",
   "execution_count": null,
   "id": "7183a324-bf67-4100-9f5d-7a47c421911d",
   "metadata": {
    "tags": []
   },
   "outputs": [],
   "source": [
    "rng.shuffle(ind)\n",
    "ind[0:100]"
   ]
  },
  {
   "cell_type": "code",
   "execution_count": null,
   "id": "d4de5b51-c2d8-4e77-9386-eef4ee2c0dfa",
   "metadata": {
    "tags": []
   },
   "outputs": [],
   "source": [
    "ind.max()"
   ]
  },
  {
   "cell_type": "code",
   "execution_count": null,
   "id": "8308da74-3020-4068-ad14-21abeeecd89a",
   "metadata": {
    "tags": []
   },
   "outputs": [],
   "source": [
    "ind.min()"
   ]
  },
  {
   "cell_type": "code",
   "execution_count": null,
   "id": "a001bf3d-fe25-4a1c-8a71-f4ce5520509f",
   "metadata": {
    "tags": []
   },
   "outputs": [],
   "source": [
    "cust_insight_shuffled = cust_insight[:, ind]"
   ]
  },
  {
   "cell_type": "code",
   "execution_count": null,
   "id": "7d82e23d-8b38-4dea-8009-8e1d2c2c036f",
   "metadata": {
    "tags": []
   },
   "outputs": [],
   "source": [
    "cust_insight[:, 0:10]"
   ]
  },
  {
   "cell_type": "code",
   "execution_count": null,
   "id": "1929d97d-9db6-4847-ad99-9601c8dc2354",
   "metadata": {
    "tags": []
   },
   "outputs": [],
   "source": [
    "cust_insight_shuffled[:, 0:10]"
   ]
  },
  {
   "cell_type": "markdown",
   "id": "b5ef47bf-c832-49d5-acd2-b0b170482b2a",
   "metadata": {},
   "source": [
    "### Generate review ids\n",
    "\n",
    "The review ids need to be mostly unique: 0.9926566948782706 of unique values. Each review is 14 characters long, starts with the letter 'R', and followed by a mix of uppercase letters and digits.  "
   ]
  },
  {
   "cell_type": "code",
   "execution_count": null,
   "id": "e7153dc5-5f33-4c24-8fa6-eb4facdfeac9",
   "metadata": {
    "tags": []
   },
   "outputs": [],
   "source": [
    "reviews_unique = ['R' + ''.join(random.choices(string.ascii_uppercase + string.digits, k=14)) for x in range(n)]\n",
    "\n",
    "len(reviews_unique)"
   ]
  },
  {
   "cell_type": "code",
   "execution_count": null,
   "id": "df67375a-ec06-43ab-ae4c-f82dd90fa108",
   "metadata": {
    "tags": []
   },
   "outputs": [],
   "source": [
    "reviews_unique[0:100]"
   ]
  },
  {
   "cell_type": "markdown",
   "id": "6c785c9a-dac5-4048-a382-e64acb94326f",
   "metadata": {},
   "source": [
    "Verify uniquiness:"
   ]
  },
  {
   "cell_type": "code",
   "execution_count": null,
   "id": "4ad87899-bf21-4828-b24f-dcdd9ab40bbe",
   "metadata": {
    "tags": []
   },
   "outputs": [],
   "source": [
    "temp = set(reviews_unique)\n",
    "len(temp)"
   ]
  },
  {
   "cell_type": "markdown",
   "id": "d74832e7-6ea2-47b8-a997-0cc25667235b",
   "metadata": {},
   "source": [
    "Introduce duplicated ids:"
   ]
  },
  {
   "cell_type": "code",
   "execution_count": null,
   "id": "367e5509-260f-451e-bb4c-faed6c644d25",
   "metadata": {
    "tags": []
   },
   "outputs": [],
   "source": [
    "count_dup = (n - np.round(n*0.9926566948782706)).astype(int)\n",
    "count_dup"
   ]
  },
  {
   "cell_type": "code",
   "execution_count": null,
   "id": "9522d581-1f28-4317-9bee-f99af719d998",
   "metadata": {
    "tags": []
   },
   "outputs": [],
   "source": [
    "reviews_unique[count_dup:count_dup*2] = reviews_unique[0:count_dup]"
   ]
  },
  {
   "cell_type": "code",
   "execution_count": null,
   "id": "ba2b7424-b0cc-448b-a5a6-f68ff75f7b1a",
   "metadata": {
    "tags": []
   },
   "outputs": [],
   "source": [
    "len(set(reviews_unique))"
   ]
  },
  {
   "cell_type": "code",
   "execution_count": null,
   "id": "1e052210-4fab-4c75-a204-25547c73c219",
   "metadata": {
    "tags": []
   },
   "outputs": [],
   "source": [
    "2988862/n"
   ]
  },
  {
   "cell_type": "code",
   "execution_count": null,
   "id": "2e632028-50a5-4936-adb0-bc7d75101918",
   "metadata": {
    "tags": []
   },
   "outputs": [],
   "source": [
    "reviews_non_unique = np.array(reviews_unique)"
   ]
  },
  {
   "cell_type": "code",
   "execution_count": null,
   "id": "6da9e131-45fa-4044-bc98-6aaa3801f7d5",
   "metadata": {
    "tags": []
   },
   "outputs": [],
   "source": [
    "rng.shuffle(reviews_non_unique)"
   ]
  },
  {
   "cell_type": "markdown",
   "id": "e1048305-cf49-4998-b2ab-75755a97683c",
   "metadata": {},
   "source": [
    "## Assemble the dataset"
   ]
  },
  {
   "cell_type": "code",
   "execution_count": null,
   "id": "73d8a36f-73dd-44f1-a734-ab8d14e9fa72",
   "metadata": {
    "tags": []
   },
   "outputs": [],
   "source": [
    "dat.head()"
   ]
  },
  {
   "cell_type": "code",
   "execution_count": null,
   "id": "40e3fde5-bb6c-4dbd-b28b-afb64d3c62e8",
   "metadata": {
    "tags": []
   },
   "outputs": [],
   "source": [
    "dat[\"customer_id\"] = cust_insight_shuffled[0, :]\n",
    "\n",
    "dat[\"review_id\"] = reviews_non_unique\n",
    "\n",
    "dat[\"product_title\"] = products[0, :]\n",
    "dat[\"product_id\"] = products[1, :]\n",
    "\n",
    "dat[\"star_rating\"] = ratings\n",
    "\n",
    "dat[\"helpful_votes\"] = helpful_votes.astype(\"int\")\n",
    "dat[\"total_votes\"] = total_votes.astype(\"int\")\n",
    "dat[\"insight\"] = cust_insight_shuffled[1, :]\n",
    "dat[[\"review_year\", \"review_date\"]] = review_year_date\n",
    "dat[\"review_year\"] = dat[\"review_year\"].astype(\"int\")\n",
    "dat[\"review_date\"] = pd.to_datetime(dat[\"review_date\"])\n",
    "dat[\"product_category\"] = \"Electronics\"\n",
    "\n",
    "dat.head()"
   ]
  },
  {
   "cell_type": "code",
   "execution_count": null,
   "id": "8b052d19",
   "metadata": {},
   "outputs": [],
   "source": [
    "s3_bucket_name = <s3://BUCKET-NAME>"
   ]
  },
  {
   "cell_type": "code",
   "execution_count": null,
   "id": "e941f1a3-6aac-4c00-881b-e7650754d9ab",
   "metadata": {
    "tags": []
   },
   "outputs": [],
   "source": [
    "wr.s3.to_parquet(\n",
    "    df = dat[[\"product_category\", \"marketplace\", \"customer_id\", \"review_id\", \"product_id\", \"product_title\", \"star_rating\",\n",
    "            \"helpful_votes\", \"total_votes\", \"insight\", \"review_headline\", \"review_body\", \"review_date\", \"review_year\"]],\n",
    "    path = s3_bucket_name,\n",
    "    dataset = True,\n",
    "    max_rows_by_file = 3000000,\n",
    "    partition_cols=['product_category']\n",
    ")"
   ]
  }
 ],
 "metadata": {
  "availableInstances": [
   {
    "_defaultOrder": 0,
    "_isFastLaunch": true,
    "category": "General purpose",
    "gpuNum": 0,
    "hideHardwareSpecs": false,
    "memoryGiB": 4,
    "name": "ml.t3.medium",
    "vcpuNum": 2
   },
   {
    "_defaultOrder": 1,
    "_isFastLaunch": false,
    "category": "General purpose",
    "gpuNum": 0,
    "hideHardwareSpecs": false,
    "memoryGiB": 8,
    "name": "ml.t3.large",
    "vcpuNum": 2
   },
   {
    "_defaultOrder": 2,
    "_isFastLaunch": false,
    "category": "General purpose",
    "gpuNum": 0,
    "hideHardwareSpecs": false,
    "memoryGiB": 16,
    "name": "ml.t3.xlarge",
    "vcpuNum": 4
   },
   {
    "_defaultOrder": 3,
    "_isFastLaunch": false,
    "category": "General purpose",
    "gpuNum": 0,
    "hideHardwareSpecs": false,
    "memoryGiB": 32,
    "name": "ml.t3.2xlarge",
    "vcpuNum": 8
   },
   {
    "_defaultOrder": 4,
    "_isFastLaunch": true,
    "category": "General purpose",
    "gpuNum": 0,
    "hideHardwareSpecs": false,
    "memoryGiB": 8,
    "name": "ml.m5.large",
    "vcpuNum": 2
   },
   {
    "_defaultOrder": 5,
    "_isFastLaunch": false,
    "category": "General purpose",
    "gpuNum": 0,
    "hideHardwareSpecs": false,
    "memoryGiB": 16,
    "name": "ml.m5.xlarge",
    "vcpuNum": 4
   },
   {
    "_defaultOrder": 6,
    "_isFastLaunch": false,
    "category": "General purpose",
    "gpuNum": 0,
    "hideHardwareSpecs": false,
    "memoryGiB": 32,
    "name": "ml.m5.2xlarge",
    "vcpuNum": 8
   },
   {
    "_defaultOrder": 7,
    "_isFastLaunch": false,
    "category": "General purpose",
    "gpuNum": 0,
    "hideHardwareSpecs": false,
    "memoryGiB": 64,
    "name": "ml.m5.4xlarge",
    "vcpuNum": 16
   },
   {
    "_defaultOrder": 8,
    "_isFastLaunch": false,
    "category": "General purpose",
    "gpuNum": 0,
    "hideHardwareSpecs": false,
    "memoryGiB": 128,
    "name": "ml.m5.8xlarge",
    "vcpuNum": 32
   },
   {
    "_defaultOrder": 9,
    "_isFastLaunch": false,
    "category": "General purpose",
    "gpuNum": 0,
    "hideHardwareSpecs": false,
    "memoryGiB": 192,
    "name": "ml.m5.12xlarge",
    "vcpuNum": 48
   },
   {
    "_defaultOrder": 10,
    "_isFastLaunch": false,
    "category": "General purpose",
    "gpuNum": 0,
    "hideHardwareSpecs": false,
    "memoryGiB": 256,
    "name": "ml.m5.16xlarge",
    "vcpuNum": 64
   },
   {
    "_defaultOrder": 11,
    "_isFastLaunch": false,
    "category": "General purpose",
    "gpuNum": 0,
    "hideHardwareSpecs": false,
    "memoryGiB": 384,
    "name": "ml.m5.24xlarge",
    "vcpuNum": 96
   },
   {
    "_defaultOrder": 12,
    "_isFastLaunch": false,
    "category": "General purpose",
    "gpuNum": 0,
    "hideHardwareSpecs": false,
    "memoryGiB": 8,
    "name": "ml.m5d.large",
    "vcpuNum": 2
   },
   {
    "_defaultOrder": 13,
    "_isFastLaunch": false,
    "category": "General purpose",
    "gpuNum": 0,
    "hideHardwareSpecs": false,
    "memoryGiB": 16,
    "name": "ml.m5d.xlarge",
    "vcpuNum": 4
   },
   {
    "_defaultOrder": 14,
    "_isFastLaunch": false,
    "category": "General purpose",
    "gpuNum": 0,
    "hideHardwareSpecs": false,
    "memoryGiB": 32,
    "name": "ml.m5d.2xlarge",
    "vcpuNum": 8
   },
   {
    "_defaultOrder": 15,
    "_isFastLaunch": false,
    "category": "General purpose",
    "gpuNum": 0,
    "hideHardwareSpecs": false,
    "memoryGiB": 64,
    "name": "ml.m5d.4xlarge",
    "vcpuNum": 16
   },
   {
    "_defaultOrder": 16,
    "_isFastLaunch": false,
    "category": "General purpose",
    "gpuNum": 0,
    "hideHardwareSpecs": false,
    "memoryGiB": 128,
    "name": "ml.m5d.8xlarge",
    "vcpuNum": 32
   },
   {
    "_defaultOrder": 17,
    "_isFastLaunch": false,
    "category": "General purpose",
    "gpuNum": 0,
    "hideHardwareSpecs": false,
    "memoryGiB": 192,
    "name": "ml.m5d.12xlarge",
    "vcpuNum": 48
   },
   {
    "_defaultOrder": 18,
    "_isFastLaunch": false,
    "category": "General purpose",
    "gpuNum": 0,
    "hideHardwareSpecs": false,
    "memoryGiB": 256,
    "name": "ml.m5d.16xlarge",
    "vcpuNum": 64
   },
   {
    "_defaultOrder": 19,
    "_isFastLaunch": false,
    "category": "General purpose",
    "gpuNum": 0,
    "hideHardwareSpecs": false,
    "memoryGiB": 384,
    "name": "ml.m5d.24xlarge",
    "vcpuNum": 96
   },
   {
    "_defaultOrder": 20,
    "_isFastLaunch": false,
    "category": "General purpose",
    "gpuNum": 0,
    "hideHardwareSpecs": true,
    "memoryGiB": 0,
    "name": "ml.geospatial.interactive",
    "supportedImageNames": [
     "sagemaker-geospatial-v1-0"
    ],
    "vcpuNum": 0
   },
   {
    "_defaultOrder": 21,
    "_isFastLaunch": true,
    "category": "Compute optimized",
    "gpuNum": 0,
    "hideHardwareSpecs": false,
    "memoryGiB": 4,
    "name": "ml.c5.large",
    "vcpuNum": 2
   },
   {
    "_defaultOrder": 22,
    "_isFastLaunch": false,
    "category": "Compute optimized",
    "gpuNum": 0,
    "hideHardwareSpecs": false,
    "memoryGiB": 8,
    "name": "ml.c5.xlarge",
    "vcpuNum": 4
   },
   {
    "_defaultOrder": 23,
    "_isFastLaunch": false,
    "category": "Compute optimized",
    "gpuNum": 0,
    "hideHardwareSpecs": false,
    "memoryGiB": 16,
    "name": "ml.c5.2xlarge",
    "vcpuNum": 8
   },
   {
    "_defaultOrder": 24,
    "_isFastLaunch": false,
    "category": "Compute optimized",
    "gpuNum": 0,
    "hideHardwareSpecs": false,
    "memoryGiB": 32,
    "name": "ml.c5.4xlarge",
    "vcpuNum": 16
   },
   {
    "_defaultOrder": 25,
    "_isFastLaunch": false,
    "category": "Compute optimized",
    "gpuNum": 0,
    "hideHardwareSpecs": false,
    "memoryGiB": 72,
    "name": "ml.c5.9xlarge",
    "vcpuNum": 36
   },
   {
    "_defaultOrder": 26,
    "_isFastLaunch": false,
    "category": "Compute optimized",
    "gpuNum": 0,
    "hideHardwareSpecs": false,
    "memoryGiB": 96,
    "name": "ml.c5.12xlarge",
    "vcpuNum": 48
   },
   {
    "_defaultOrder": 27,
    "_isFastLaunch": false,
    "category": "Compute optimized",
    "gpuNum": 0,
    "hideHardwareSpecs": false,
    "memoryGiB": 144,
    "name": "ml.c5.18xlarge",
    "vcpuNum": 72
   },
   {
    "_defaultOrder": 28,
    "_isFastLaunch": false,
    "category": "Compute optimized",
    "gpuNum": 0,
    "hideHardwareSpecs": false,
    "memoryGiB": 192,
    "name": "ml.c5.24xlarge",
    "vcpuNum": 96
   },
   {
    "_defaultOrder": 29,
    "_isFastLaunch": true,
    "category": "Accelerated computing",
    "gpuNum": 1,
    "hideHardwareSpecs": false,
    "memoryGiB": 16,
    "name": "ml.g4dn.xlarge",
    "vcpuNum": 4
   },
   {
    "_defaultOrder": 30,
    "_isFastLaunch": false,
    "category": "Accelerated computing",
    "gpuNum": 1,
    "hideHardwareSpecs": false,
    "memoryGiB": 32,
    "name": "ml.g4dn.2xlarge",
    "vcpuNum": 8
   },
   {
    "_defaultOrder": 31,
    "_isFastLaunch": false,
    "category": "Accelerated computing",
    "gpuNum": 1,
    "hideHardwareSpecs": false,
    "memoryGiB": 64,
    "name": "ml.g4dn.4xlarge",
    "vcpuNum": 16
   },
   {
    "_defaultOrder": 32,
    "_isFastLaunch": false,
    "category": "Accelerated computing",
    "gpuNum": 1,
    "hideHardwareSpecs": false,
    "memoryGiB": 128,
    "name": "ml.g4dn.8xlarge",
    "vcpuNum": 32
   },
   {
    "_defaultOrder": 33,
    "_isFastLaunch": false,
    "category": "Accelerated computing",
    "gpuNum": 4,
    "hideHardwareSpecs": false,
    "memoryGiB": 192,
    "name": "ml.g4dn.12xlarge",
    "vcpuNum": 48
   },
   {
    "_defaultOrder": 34,
    "_isFastLaunch": false,
    "category": "Accelerated computing",
    "gpuNum": 1,
    "hideHardwareSpecs": false,
    "memoryGiB": 256,
    "name": "ml.g4dn.16xlarge",
    "vcpuNum": 64
   },
   {
    "_defaultOrder": 35,
    "_isFastLaunch": false,
    "category": "Accelerated computing",
    "gpuNum": 1,
    "hideHardwareSpecs": false,
    "memoryGiB": 61,
    "name": "ml.p3.2xlarge",
    "vcpuNum": 8
   },
   {
    "_defaultOrder": 36,
    "_isFastLaunch": false,
    "category": "Accelerated computing",
    "gpuNum": 4,
    "hideHardwareSpecs": false,
    "memoryGiB": 244,
    "name": "ml.p3.8xlarge",
    "vcpuNum": 32
   },
   {
    "_defaultOrder": 37,
    "_isFastLaunch": false,
    "category": "Accelerated computing",
    "gpuNum": 8,
    "hideHardwareSpecs": false,
    "memoryGiB": 488,
    "name": "ml.p3.16xlarge",
    "vcpuNum": 64
   },
   {
    "_defaultOrder": 38,
    "_isFastLaunch": false,
    "category": "Accelerated computing",
    "gpuNum": 8,
    "hideHardwareSpecs": false,
    "memoryGiB": 768,
    "name": "ml.p3dn.24xlarge",
    "vcpuNum": 96
   },
   {
    "_defaultOrder": 39,
    "_isFastLaunch": false,
    "category": "Memory Optimized",
    "gpuNum": 0,
    "hideHardwareSpecs": false,
    "memoryGiB": 16,
    "name": "ml.r5.large",
    "vcpuNum": 2
   },
   {
    "_defaultOrder": 40,
    "_isFastLaunch": false,
    "category": "Memory Optimized",
    "gpuNum": 0,
    "hideHardwareSpecs": false,
    "memoryGiB": 32,
    "name": "ml.r5.xlarge",
    "vcpuNum": 4
   },
   {
    "_defaultOrder": 41,
    "_isFastLaunch": false,
    "category": "Memory Optimized",
    "gpuNum": 0,
    "hideHardwareSpecs": false,
    "memoryGiB": 64,
    "name": "ml.r5.2xlarge",
    "vcpuNum": 8
   },
   {
    "_defaultOrder": 42,
    "_isFastLaunch": false,
    "category": "Memory Optimized",
    "gpuNum": 0,
    "hideHardwareSpecs": false,
    "memoryGiB": 128,
    "name": "ml.r5.4xlarge",
    "vcpuNum": 16
   },
   {
    "_defaultOrder": 43,
    "_isFastLaunch": false,
    "category": "Memory Optimized",
    "gpuNum": 0,
    "hideHardwareSpecs": false,
    "memoryGiB": 256,
    "name": "ml.r5.8xlarge",
    "vcpuNum": 32
   },
   {
    "_defaultOrder": 44,
    "_isFastLaunch": false,
    "category": "Memory Optimized",
    "gpuNum": 0,
    "hideHardwareSpecs": false,
    "memoryGiB": 384,
    "name": "ml.r5.12xlarge",
    "vcpuNum": 48
   },
   {
    "_defaultOrder": 45,
    "_isFastLaunch": false,
    "category": "Memory Optimized",
    "gpuNum": 0,
    "hideHardwareSpecs": false,
    "memoryGiB": 512,
    "name": "ml.r5.16xlarge",
    "vcpuNum": 64
   },
   {
    "_defaultOrder": 46,
    "_isFastLaunch": false,
    "category": "Memory Optimized",
    "gpuNum": 0,
    "hideHardwareSpecs": false,
    "memoryGiB": 768,
    "name": "ml.r5.24xlarge",
    "vcpuNum": 96
   },
   {
    "_defaultOrder": 47,
    "_isFastLaunch": false,
    "category": "Accelerated computing",
    "gpuNum": 1,
    "hideHardwareSpecs": false,
    "memoryGiB": 16,
    "name": "ml.g5.xlarge",
    "vcpuNum": 4
   },
   {
    "_defaultOrder": 48,
    "_isFastLaunch": false,
    "category": "Accelerated computing",
    "gpuNum": 1,
    "hideHardwareSpecs": false,
    "memoryGiB": 32,
    "name": "ml.g5.2xlarge",
    "vcpuNum": 8
   },
   {
    "_defaultOrder": 49,
    "_isFastLaunch": false,
    "category": "Accelerated computing",
    "gpuNum": 1,
    "hideHardwareSpecs": false,
    "memoryGiB": 64,
    "name": "ml.g5.4xlarge",
    "vcpuNum": 16
   },
   {
    "_defaultOrder": 50,
    "_isFastLaunch": false,
    "category": "Accelerated computing",
    "gpuNum": 1,
    "hideHardwareSpecs": false,
    "memoryGiB": 128,
    "name": "ml.g5.8xlarge",
    "vcpuNum": 32
   },
   {
    "_defaultOrder": 51,
    "_isFastLaunch": false,
    "category": "Accelerated computing",
    "gpuNum": 1,
    "hideHardwareSpecs": false,
    "memoryGiB": 256,
    "name": "ml.g5.16xlarge",
    "vcpuNum": 64
   },
   {
    "_defaultOrder": 52,
    "_isFastLaunch": false,
    "category": "Accelerated computing",
    "gpuNum": 4,
    "hideHardwareSpecs": false,
    "memoryGiB": 192,
    "name": "ml.g5.12xlarge",
    "vcpuNum": 48
   },
   {
    "_defaultOrder": 53,
    "_isFastLaunch": false,
    "category": "Accelerated computing",
    "gpuNum": 4,
    "hideHardwareSpecs": false,
    "memoryGiB": 384,
    "name": "ml.g5.24xlarge",
    "vcpuNum": 96
   },
   {
    "_defaultOrder": 54,
    "_isFastLaunch": false,
    "category": "Accelerated computing",
    "gpuNum": 8,
    "hideHardwareSpecs": false,
    "memoryGiB": 768,
    "name": "ml.g5.48xlarge",
    "vcpuNum": 192
   },
   {
    "_defaultOrder": 55,
    "_isFastLaunch": false,
    "category": "Accelerated computing",
    "gpuNum": 8,
    "hideHardwareSpecs": false,
    "memoryGiB": 1152,
    "name": "ml.p4d.24xlarge",
    "vcpuNum": 96
   },
   {
    "_defaultOrder": 56,
    "_isFastLaunch": false,
    "category": "Accelerated computing",
    "gpuNum": 8,
    "hideHardwareSpecs": false,
    "memoryGiB": 1152,
    "name": "ml.p4de.24xlarge",
    "vcpuNum": 96
   },
   {
    "_defaultOrder": 57,
    "_isFastLaunch": false,
    "category": "Accelerated computing",
    "gpuNum": 0,
    "hideHardwareSpecs": false,
    "memoryGiB": 32,
    "name": "ml.trn1.2xlarge",
    "vcpuNum": 8
   },
   {
    "_defaultOrder": 58,
    "_isFastLaunch": false,
    "category": "Accelerated computing",
    "gpuNum": 0,
    "hideHardwareSpecs": false,
    "memoryGiB": 512,
    "name": "ml.trn1.32xlarge",
    "vcpuNum": 128
   },
   {
    "_defaultOrder": 59,
    "_isFastLaunch": false,
    "category": "Accelerated computing",
    "gpuNum": 0,
    "hideHardwareSpecs": false,
    "memoryGiB": 512,
    "name": "ml.trn1n.32xlarge",
    "vcpuNum": 128
   }
  ],
  "instance_type": "ml.m5.2xlarge",
  "kernelspec": {
   "display_name": "Python 3 (Data Science 3.0)",
   "language": "python",
   "name": "python3__SAGEMAKER_INTERNAL__arn:aws:sagemaker:us-east-2:429704687514:image/sagemaker-data-science-310-v1"
  },
  "language_info": {
   "codemirror_mode": {
    "name": "ipython",
    "version": 3
   },
   "file_extension": ".py",
   "mimetype": "text/x-python",
   "name": "python",
   "nbconvert_exporter": "python",
   "pygments_lexer": "ipython3",
   "version": "3.10.6"
  }
 },
 "nbformat": 4,
 "nbformat_minor": 5
}
